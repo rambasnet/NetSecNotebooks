{
 "cells": [
  {
   "cell_type": "markdown",
   "metadata": {},
   "source": [
    "# Network and port scanning with Scapy\n",
    "\n",
    "- replicate some basic features of Nmap and other network scanning tools"
   ]
  },
  {
   "cell_type": "code",
   "execution_count": 1,
   "metadata": {},
   "outputs": [
    {
     "name": "stdout",
     "output_type": "stream",
     "text": [
      "Nmap 7.91 ( https://nmap.org )\n",
      "Usage: nmap [Scan Type(s)] [Options] {target specification}\n",
      "TARGET SPECIFICATION:\n",
      "  Can pass hostnames, IP addresses, networks, etc.\n",
      "  Ex: scanme.nmap.org, microsoft.com/24, 192.168.0.1; 10.0.0-255.1-254\n",
      "  -iL <inputfilename>: Input from list of hosts/networks\n",
      "  -iR <num hosts>: Choose random targets\n",
      "  --exclude <host1[,host2][,host3],...>: Exclude hosts/networks\n",
      "  --excludefile <exclude_file>: Exclude list from file\n",
      "HOST DISCOVERY:\n",
      "  -sL: List Scan - simply list targets to scan\n",
      "  -sn: Ping Scan - disable port scan\n",
      "  -Pn: Treat all hosts as online -- skip host discovery\n",
      "  -PS/PA/PU/PY[portlist]: TCP SYN/ACK, UDP or SCTP discovery to given ports\n",
      "  -PE/PP/PM: ICMP echo, timestamp, and netmask request discovery probes\n",
      "  -PO[protocol list]: IP Protocol Ping\n",
      "  -n/-R: Never do DNS resolution/Always resolve [default: sometimes]\n",
      "  --dns-servers <serv1[,serv2],...>: Specify custom DNS servers\n",
      "  --system-dns: Use OS's DNS resolver\n",
      "  --traceroute: Trace hop path to each host\n",
      "SCAN TECHNIQUES:\n",
      "  -sS/sT/sA/sW/sM: TCP SYN/Connect()/ACK/Window/Maimon scans\n",
      "  -sU: UDP Scan\n",
      "  -sN/sF/sX: TCP Null, FIN, and Xmas scans\n",
      "  --scanflags <flags>: Customize TCP scan flags\n",
      "  -sI <zombie host[:probeport]>: Idle scan\n",
      "  -sY/sZ: SCTP INIT/COOKIE-ECHO scans\n",
      "  -sO: IP protocol scan\n",
      "  -b <FTP relay host>: FTP bounce scan\n",
      "PORT SPECIFICATION AND SCAN ORDER:\n",
      "  -p <port ranges>: Only scan specified ports\n",
      "    Ex: -p22; -p1-65535; -p U:53,111,137,T:21-25,80,139,8080,S:9\n",
      "  --exclude-ports <port ranges>: Exclude the specified ports from scanning\n",
      "  -F: Fast mode - Scan fewer ports than the default scan\n",
      "  -r: Scan ports consecutively - don't randomize\n",
      "  --top-ports <number>: Scan <number> most common ports\n",
      "  --port-ratio <ratio>: Scan ports more common than <ratio>\n",
      "SERVICE/VERSION DETECTION:\n",
      "  -sV: Probe open ports to determine service/version info\n",
      "  --version-intensity <level>: Set from 0 (light) to 9 (try all probes)\n",
      "  --version-light: Limit to most likely probes (intensity 2)\n",
      "  --version-all: Try every single probe (intensity 9)\n",
      "  --version-trace: Show detailed version scan activity (for debugging)\n",
      "SCRIPT SCAN:\n",
      "  -sC: equivalent to --script=default\n",
      "  --script=<Lua scripts>: <Lua scripts> is a comma separated list of\n",
      "           directories, script-files or script-categories\n",
      "  --script-args=<n1=v1,[n2=v2,...]>: provide arguments to scripts\n",
      "  --script-args-file=filename: provide NSE script args in a file\n",
      "  --script-trace: Show all data sent and received\n",
      "  --script-updatedb: Update the script database.\n",
      "  --script-help=<Lua scripts>: Show help about scripts.\n",
      "           <Lua scripts> is a comma-separated list of script-files or\n",
      "           script-categories.\n",
      "OS DETECTION:\n",
      "  -O: Enable OS detection\n",
      "  --osscan-limit: Limit OS detection to promising targets\n",
      "  --osscan-guess: Guess OS more aggressively\n",
      "TIMING AND PERFORMANCE:\n",
      "  Options which take <time> are in seconds, or append 'ms' (milliseconds),\n",
      "  's' (seconds), 'm' (minutes), or 'h' (hours) to the value (e.g. 30m).\n",
      "  -T<0-5>: Set timing template (higher is faster)\n",
      "  --min-hostgroup/max-hostgroup <size>: Parallel host scan group sizes\n",
      "  --min-parallelism/max-parallelism <numprobes>: Probe parallelization\n",
      "  --min-rtt-timeout/max-rtt-timeout/initial-rtt-timeout <time>: Specifies\n",
      "      probe round trip time.\n",
      "  --max-retries <tries>: Caps number of port scan probe retransmissions.\n",
      "  --host-timeout <time>: Give up on target after this long\n",
      "  --scan-delay/--max-scan-delay <time>: Adjust delay between probes\n",
      "  --min-rate <number>: Send packets no slower than <number> per second\n",
      "  --max-rate <number>: Send packets no faster than <number> per second\n",
      "FIREWALL/IDS EVASION AND SPOOFING:\n",
      "  -f; --mtu <val>: fragment packets (optionally w/given MTU)\n",
      "  -D <decoy1,decoy2[,ME],...>: Cloak a scan with decoys\n",
      "  -S <IP_Address>: Spoof source address\n",
      "  -e <iface>: Use specified interface\n",
      "  -g/--source-port <portnum>: Use given port number\n",
      "  --proxies <url1,[url2],...>: Relay connections through HTTP/SOCKS4 proxies\n",
      "  --data <hex string>: Append a custom payload to sent packets\n",
      "  --data-string <string>: Append a custom ASCII string to sent packets\n",
      "  --data-length <num>: Append random data to sent packets\n",
      "  --ip-options <options>: Send packets with specified ip options\n",
      "  --ttl <val>: Set IP time-to-live field\n",
      "  --spoof-mac <mac address/prefix/vendor name>: Spoof your MAC address\n",
      "  --badsum: Send packets with a bogus TCP/UDP/SCTP checksum\n",
      "OUTPUT:\n",
      "  -oN/-oX/-oS/-oG <file>: Output scan in normal, XML, s|<rIpt kIddi3,\n",
      "     and Grepable format, respectively, to the given filename.\n",
      "  -oA <basename>: Output in the three major formats at once\n",
      "  -v: Increase verbosity level (use -vv or more for greater effect)\n",
      "  -d: Increase debugging level (use -dd or more for greater effect)\n",
      "  --reason: Display the reason a port is in a particular state\n",
      "  --open: Only show open (or possibly open) ports\n",
      "  --packet-trace: Show all packets sent and received\n",
      "  --iflist: Print host interfaces and routes (for debugging)\n",
      "  --append-output: Append to rather than clobber specified output files\n",
      "  --resume <filename>: Resume an aborted scan\n",
      "  --stylesheet <path/URL>: XSL stylesheet to transform XML output to HTML\n",
      "  --webxml: Reference stylesheet from Nmap.Org for more portable XML\n",
      "  --no-stylesheet: Prevent associating of XSL stylesheet w/XML output\n",
      "MISC:\n",
      "  -6: Enable IPv6 scanning\n",
      "  -A: Enable OS detection, version detection, script scanning, and traceroute\n",
      "  --datadir <dirname>: Specify custom Nmap data file location\n",
      "  --send-eth/--send-ip: Send using raw ethernet frames or IP packets\n",
      "  --privileged: Assume that the user is fully privileged\n",
      "  --unprivileged: Assume the user lacks raw socket privileges\n",
      "  -V: Print version number\n",
      "  -h: Print this help summary page.\n",
      "EXAMPLES:\n",
      "  nmap -v -A scanme.nmap.org\n",
      "  nmap -v -sn 192.168.0.0/16 10.0.0.0/8\n",
      "  nmap -v -iR 10000 -Pn -p 80\n",
      "SEE THE MAN PAGE (https://nmap.org/book/man.html) FOR MORE OPTIONS AND EXAMPLES\n"
     ]
    }
   ],
   "source": [
    "! nmap"
   ]
  },
  {
   "cell_type": "code",
   "execution_count": 2,
   "metadata": {},
   "outputs": [
    {
     "name": "stdout",
     "output_type": "stream",
     "text": [
      "Starting Nmap 7.91 ( https://nmap.org ) at 2021-10-27 09:33 MDT\n",
      "Nmap scan report for 192.168.195.1\n",
      "Host is up (0.00015s latency).\n",
      "MAC Address: 00:50:56:C0:00:08 (VMware)\n",
      "Nmap done: 1 IP address (1 host up) scanned in 0.19 seconds\n"
     ]
    }
   ],
   "source": [
    "# ping scan using nmap - ping scan mac host\n",
    "! nmap -sn 192.168.195.1"
   ]
  },
  {
   "cell_type": "markdown",
   "metadata": {},
   "source": [
    "## ping can be blocked\n",
    "- disable ping on host and scan again"
   ]
  },
  {
   "cell_type": "code",
   "execution_count": null,
   "metadata": {},
   "outputs": [],
   "source": [
    "! nmap -sn 192.168.195.1"
   ]
  },
  {
   "cell_type": "code",
   "execution_count": 3,
   "metadata": {},
   "outputs": [
    {
     "name": "stdout",
     "output_type": "stream",
     "text": [
      "Starting Nmap 7.91 ( https://nmap.org ) at 2021-10-27 09:38 MDT\n",
      "Nmap scan report for 192.168.195.1\n",
      "Host is up (0.00037s latency).\n",
      "Not shown: 965 closed ports, 30 filtered ports\n",
      "PORT     STATE SERVICE       VERSION\n",
      "22/tcp   open  ssh           OpenSSH 8.1 (protocol 2.0)\n",
      "| ssh-hostkey: \n",
      "|   2048 07:a6:03:55:10:d0:0a:c3:58:fc:20:c6:55:8f:30:46 (RSA)\n",
      "|   256 82:69:e5:2a:f4:f0:2f:ed:ae:4e:41:a2:17:a4:cc:64 (ECDSA)\n",
      "|_  256 aa:26:f4:41:e8:c7:86:fb:b0:61:72:30:dc:a8:cd:de (ED25519)\n",
      "88/tcp   open  kerberos-sec  Heimdal Kerberos (server time: 2021-10-27 15:38:20Z)\n",
      "631/tcp  open  ipp           CUPS 2.3\n",
      "| http-robots.txt: 1 disallowed entry \n",
      "|_/\n",
      "|_http-server-header: CUPS/2.3 IPP/2.1\n",
      "|_http-title: Home - CUPS 2.3.1\n",
      "3283/tcp open  netassistant?\n",
      "5900/tcp open  vnc           Apple remote desktop vnc\n",
      "| vnc-info: \n",
      "|   Protocol version: 3.889\n",
      "|   Security types: \n",
      "|     Apple Remote Desktop (30)\n",
      "|     Unknown security type (33)\n",
      "|_    Mac OS X security type (35)\n",
      "MAC Address: 00:50:56:C0:00:08 (VMware)\n",
      "Device type: phone|general purpose\n",
      "Running: Apple iOS 11.X|12.X|13.X, Apple macOS 10.13.X|10.14.X|10.15.X\n",
      "OS CPE: cpe:/o:apple:iphone_os:11 cpe:/o:apple:iphone_os:12 cpe:/o:apple:iphone_os:13 cpe:/o:apple:mac_os_x:10.13 cpe:/o:apple:mac_os_x:10.14 cpe:/o:apple:mac_os_x:10.15\n",
      "OS details: Apple macOS 10.13 (High Sierra) - 10.15 (Catalina) or iOS 11.0 - 13.4 (Darwin 17.0.0 - 19.2.0)\n",
      "Network Distance: 1 hop\n",
      "Service Info: OS: Mac OS X; CPE: cpe:/o:apple:mac_os_x\n",
      "\n",
      "TRACEROUTE\n",
      "HOP RTT     ADDRESS\n",
      "1   0.37 ms 192.168.195.1\n",
      "\n",
      "OS and Service detection performed. Please report any incorrect results at https://nmap.org/submit/ .\n",
      "Nmap done: 1 IP address (1 host up) scanned in 177.48 seconds\n"
     ]
    }
   ],
   "source": [
    "# enable os fingerprinting - may take a few minutes\n",
    "! nmap -sS -A 192.168.195.1"
   ]
  },
  {
   "cell_type": "markdown",
   "metadata": {},
   "source": [
    "## scapy ping scan\n",
    "- scan the network with ping/icmp packets and scan for ports on the live hosts\n",
    "- for IP/ICMP packet, payload (text) is required or the packet may not be transmitted or echoed backed "
   ]
  },
  {
   "cell_type": "code",
   "execution_count": 1,
   "metadata": {},
   "outputs": [
    {
     "name": "stdout",
     "output_type": "stream",
     "text": [
      "Requirement already satisfied: netaddr in /usr/lib/python3/dist-packages (0.7.19)\n",
      "\u001b[33mWARNING: You are using pip version 20.3.3; however, version 21.3.1 is available.\n",
      "You should consider upgrading via the '/usr/bin/python3 -m pip install --upgrade pip' command.\u001b[0m\n"
     ]
    }
   ],
   "source": [
    "# A system-independent network address manipulation library for Python\n",
    "! pip install netaddr"
   ]
  },
  {
   "cell_type": "code",
   "execution_count": 4,
   "metadata": {},
   "outputs": [],
   "source": [
    "from scapy.all import *"
   ]
  },
  {
   "cell_type": "code",
   "execution_count": 6,
   "metadata": {},
   "outputs": [],
   "source": [
    "host = 'google.com'"
   ]
  },
  {
   "cell_type": "code",
   "execution_count": 9,
   "metadata": {},
   "outputs": [
    {
     "name": "stdout",
     "output_type": "stream",
     "text": [
      "Begin emission:\n",
      "Finished sending 1 packets.\n",
      "\n",
      "Received 2 packets, got 1 answers, remaining 0 packets\n"
     ]
    }
   ],
   "source": [
    "ans = sr1(IP(dst=str(host))/ICMP()/'hello there...')"
   ]
  },
  {
   "cell_type": "code",
   "execution_count": 10,
   "metadata": {},
   "outputs": [
    {
     "name": "stdout",
     "output_type": "stream",
     "text": [
      "###[ IP ]### \n",
      "  version   = 4\n",
      "  ihl       = 5\n",
      "  tos       = 0x0\n",
      "  len       = 42\n",
      "  id        = 41337\n",
      "  flags     = \n",
      "  frag      = 0\n",
      "  ttl       = 128\n",
      "  proto     = icmp\n",
      "  chksum    = 0x2ff9\n",
      "  src       = 108.177.120.101\n",
      "  dst       = 192.168.195.161\n",
      "  \\options   \\\n",
      "###[ ICMP ]### \n",
      "     type      = echo-reply\n",
      "     code      = 0\n",
      "     chksum    = 0x4ed6\n",
      "     id        = 0x0\n",
      "     seq       = 0x0\n",
      "###[ Raw ]### \n",
      "        load      = 'hello there...'\n",
      "###[ Padding ]### \n",
      "           load      = '\\x00\\x00\\x00\\x00'\n",
      "\n"
     ]
    }
   ],
   "source": [
    "ans.show()"
   ]
  },
  {
   "cell_type": "code",
   "execution_count": 7,
   "metadata": {},
   "outputs": [],
   "source": [
    "#! /usr/bin/python3\n",
    "\n",
    "# Adapted for Python 3 from : https://thepacketgeek.com/scapy-p-10-emulating-nmap-functions/\n",
    "\n",
    "from scapy.all import *\n",
    "import netaddr\n",
    "import random\n",
    "\n",
    "def pingHost(host):\n",
    "    resp = sr1(IP(dst=str(host))/ICMP()/'hello there...')\n",
    "    up = False\n",
    "    #print(resp.show())\n",
    "    if not resp:\n",
    "        print(str(host) + \" is down or not responding.\")\n",
    "    elif resp.haslayer(ICMP):\n",
    "        if (int(resp.getlayer(ICMP).type)==3 and int(resp.getlayer(ICMP).code) in [1,2,3,9,10,13]):\n",
    "            print(str(host) + \" is blocking ICMP.\")\n",
    "        elif (int(resp.getlayer(ICMP).type) == 0): # icmp-response received \n",
    "            up = True\n",
    "        else:\n",
    "            print(\"icmp type = {}\".format(int(resp.getlayer(ICMP).type)))\n",
    "            print(str(host) + \" is acting weird.\")\n",
    "    return up\n",
    "\n",
    "# Send ICMP ping request, wait for answer\n",
    "def pingScanNetwork(addresses):\n",
    "    liveHosts = []\n",
    "    for addr in addresses:\n",
    "        if (addr == addresses.network or addr == addresses.broadcast):\n",
    "            continue\n",
    "\n",
    "        print(\"Trying on {}\".format(addr))\n",
    "        if pingHost(str(addr)):\n",
    "            liveHosts.append(str(addr))\n",
    "                \n",
    "    return liveHosts"
   ]
  },
  {
   "cell_type": "markdown",
   "metadata": {},
   "source": [
    "## scan a host"
   ]
  },
  {
   "cell_type": "code",
   "execution_count": 8,
   "metadata": {},
   "outputs": [
    {
     "name": "stdout",
     "output_type": "stream",
     "text": [
      "Begin emission:\n",
      "Finished sending 1 packets.\n",
      "\n",
      "Received 2 packets, got 1 answers, remaining 0 packets\n",
      "google.com host is up!\n"
     ]
    }
   ],
   "source": [
    "host = 'google.com'\n",
    "live = pingHost(host)\n",
    "if live:\n",
    "    print('{} host is up!'.format(host))"
   ]
  },
  {
   "cell_type": "markdown",
   "metadata": {},
   "source": [
    "## scan a whole subnet"
   ]
  },
  {
   "cell_type": "code",
   "execution_count": 9,
   "metadata": {},
   "outputs": [
    {
     "name": "stdout",
     "output_type": "stream",
     "text": [
      "192.168.195.1/24\n"
     ]
    }
   ],
   "source": [
    "# Define IP range to scan\n",
    "import netaddr\n",
    "network = \"192.168.195.1/24\"\n",
    "# Define TCP port range\n",
    "# make list of addresses out of network, set live host counter\n",
    "addresses = netaddr.IPNetwork(network)\n",
    "print(addresses)"
   ]
  },
  {
   "cell_type": "code",
   "execution_count": null,
   "metadata": {},
   "outputs": [
    {
     "name": "stdout",
     "output_type": "stream",
     "text": [
      "Trying on 192.168.195.1\n",
      "Begin emission:\n",
      "Finished sending 1 packets.\n",
      "\n",
      "Received 2 packets, got 1 answers, remaining 0 packets\n",
      "Trying on 192.168.195.2\n",
      "Begin emission:\n",
      "Finished sending 1 packets.\n",
      "\n",
      "Received 1 packets, got 1 answers, remaining 0 packets\n",
      "Trying on 192.168.195.3\n",
      "Begin emission:\n",
      "Finished sending 1 packets.\n",
      "\n",
      "Received 7 packets, got 0 answers, remaining 1 packets\n",
      "192.168.195.3 is down or not responding.\n",
      "Trying on 192.168.195.4\n",
      "Begin emission:\n",
      "Finished sending 1 packets.\n"
     ]
    }
   ],
   "source": [
    "liveHosts = pingScanNetwork(addresses)"
   ]
  },
  {
   "cell_type": "markdown",
   "metadata": {},
   "source": [
    "## scapy port scanner\n",
    "- tcp syn scan to map open ports"
   ]
  },
  {
   "cell_type": "code",
   "execution_count": 11,
   "metadata": {},
   "outputs": [],
   "source": [
    "host = 'google.com'\n",
    "srcPort = random.randint(1025,65534)\n",
    "dstPort = 443"
   ]
  },
  {
   "cell_type": "code",
   "execution_count": 12,
   "metadata": {},
   "outputs": [],
   "source": [
    "resp = sr1(IP(dst=host)/TCP(sport=srcPort,dport=dstPort,flags=\"S\"),timeout=1,verbose=0)"
   ]
  },
  {
   "cell_type": "code",
   "execution_count": 13,
   "metadata": {},
   "outputs": [
    {
     "name": "stdout",
     "output_type": "stream",
     "text": [
      "###[ IP ]### \n",
      "  version   = 4\n",
      "  ihl       = 5\n",
      "  tos       = 0x0\n",
      "  len       = 44\n",
      "  id        = 41444\n",
      "  flags     = \n",
      "  frag      = 0\n",
      "  ttl       = 128\n",
      "  proto     = tcp\n",
      "  chksum    = 0x2f86\n",
      "  src       = 108.177.120.102\n",
      "  dst       = 192.168.195.161\n",
      "  \\options   \\\n",
      "###[ TCP ]### \n",
      "     sport     = https\n",
      "     dport     = 42110\n",
      "     seq       = 793410159\n",
      "     ack       = 1\n",
      "     dataofs   = 6\n",
      "     reserved  = 0\n",
      "     flags     = SA\n",
      "     window    = 64240\n",
      "     chksum    = 0xe3cf\n",
      "     urgptr    = 0\n",
      "     options   = [('MSS', 1460)]\n",
      "###[ Padding ]### \n",
      "        load      = '\\x00\\x00'\n",
      "\n"
     ]
    }
   ],
   "source": [
    "resp.show()"
   ]
  },
  {
   "cell_type": "code",
   "execution_count": 14,
   "metadata": {},
   "outputs": [],
   "source": [
    "#! /usr/bin/python3\n",
    "# Adapted from: https://thepacketgeek.com/scapy-p-10-emulating-nmap-functions/\n",
    "# Fixed some bugs and ported for Python3\n",
    "\n",
    "from scapy.all import *\n",
    "import random\n",
    "# Define end host and TCP port range\n",
    "\n",
    "# Send SYN with random Src Port for each Dst port\n",
    "def scanPorts(host, portRange):\n",
    "    for dstPort in portRange:\n",
    "        print(\"Trying port {:6}\".format(dstPort))\n",
    "        srcPort = random.randint(1025,65534)\n",
    "        resp = sr1(IP(dst=host)/TCP(sport=srcPort,dport=dstPort,flags=\"S\"),timeout=1,verbose=0)\n",
    "        if resp:\n",
    "            if (str(type(resp)) == \"<type 'NoneType'>\"):\n",
    "                print(host + \":\" + str(dstPort) + \" is filtered (silently dropped).\")\n",
    "            elif(resp.haslayer(TCP)):\n",
    "                if(resp.getlayer(TCP).flags == 0x12):\n",
    "                    send_rst = sr(IP(dst=host)/TCP(sport=srcPort,dport=dstPort,flags=\"R\"),timeout=1,verbose=0)\n",
    "                    print (host + \":\" + str(dstPort) + \" is open.\")\n",
    "            elif (resp.getlayer(TCP).flags == 0x14):\n",
    "                print (host + \":\" + str(dstPort) + \" is closed.\")\n",
    "            elif(resp.haslayer(ICMP)):\n",
    "                if(int(resp.getlayer(ICMP).type)==3 and int(resp.getlayer(ICMP).code) in [1,2,3,9,10,13]):\n",
    "                    print (host + \":\" + str(dstPort) + \" is filtered (silently dropped).\")\n",
    "        else:\n",
    "            print(\"No response received.\")\n",
    "            "
   ]
  },
  {
   "cell_type": "code",
   "execution_count": 15,
   "metadata": {},
   "outputs": [
    {
     "name": "stdout",
     "output_type": "stream",
     "text": [
      "Trying port     22\n",
      "No response received.\n",
      "Trying port     23\n",
      "No response received.\n",
      "Trying port     80\n",
      "facebook.com:80 is open.\n",
      "Trying port    443\n",
      "facebook.com:443 is open.\n",
      "Trying port   3389\n",
      "No response received.\n"
     ]
    }
   ],
   "source": [
    "host = \"facebook.com\"\n",
    "portRange = [22,23,80,443,3389]\n",
    "scanPorts(host, portRange)"
   ]
  },
  {
   "cell_type": "code",
   "execution_count": null,
   "metadata": {},
   "outputs": [],
   "source": []
  }
 ],
 "metadata": {
  "kernelspec": {
   "display_name": "Python 3",
   "language": "python",
   "name": "python3"
  },
  "language_info": {
   "codemirror_mode": {
    "name": "ipython",
    "version": 3
   },
   "file_extension": ".py",
   "mimetype": "text/x-python",
   "name": "python",
   "nbconvert_exporter": "python",
   "pygments_lexer": "ipython3",
   "version": "3.9.2"
  }
 },
 "nbformat": 4,
 "nbformat_minor": 4
}
