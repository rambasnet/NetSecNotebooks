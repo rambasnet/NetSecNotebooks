{
 "cells": [
  {
   "cell_type": "markdown",
   "metadata": {},
   "source": [
    "# Creating, Sending and Receiving Packets"
   ]
  },
  {
   "cell_type": "code",
   "execution_count": 2,
   "metadata": {},
   "outputs": [],
   "source": [
    "from scapy.all import *"
   ]
  },
  {
   "cell_type": "code",
   "execution_count": 2,
   "metadata": {},
   "outputs": [],
   "source": [
    "conf.verb=1\n",
    "conf.color_theme = RastaTheme()"
   ]
  },
  {
   "cell_type": "markdown",
   "metadata": {},
   "source": [
    "## Stacking Layers\n",
    "\n",
    "- the `/` operator is used as a composition operator between two layers\n",
    "- the lower layer can have one or more of its defaults fields overloaded according to the upper layer\n",
    "    - you still can give the value you want\n",
    "    - a string can be used as a raw layer\n",
    "    \n",
    "<img src=\"http://scapy.readthedocs.io/en/latest/_images/fieldsmanagement.png\" />"
   ]
  },
  {
   "cell_type": "code",
   "execution_count": 3,
   "metadata": {},
   "outputs": [
    {
     "data": {
      "text/plain": [
       "\u001b[31m<\u001b[0m\u001b[32m\u001b[1m\u001b[31m\u001b[1mIP\u001b[0m\u001b[32m\u001b[1m  \u001b[31m|\u001b[0m\u001b[32m\u001b[1m\u001b[31m>\u001b[0m\u001b[32m\u001b[1m"
      ]
     },
     "execution_count": 3,
     "metadata": {},
     "output_type": "execute_result"
    }
   ],
   "source": [
    "IP()"
   ]
  },
  {
   "cell_type": "code",
   "execution_count": 4,
   "metadata": {},
   "outputs": [
    {
     "data": {
      "text/plain": [
       "\u001b[31m<\u001b[0m\u001b[32m\u001b[1m\u001b[31m\u001b[1mIP\u001b[0m\u001b[32m\u001b[1m  \u001b[33m\u001b[1mfrag\u001b[0m\u001b[32m\u001b[1m\u001b[31m=\u001b[0m\u001b[32m\u001b[1m\u001b[32m\u001b[1m0\u001b[0m\u001b[32m\u001b[1m \u001b[33m\u001b[1mproto\u001b[0m\u001b[32m\u001b[1m\u001b[31m=\u001b[0m\u001b[32m\u001b[1m\u001b[32m\u001b[1mtcp\u001b[0m\u001b[32m\u001b[1m \u001b[31m|\u001b[0m\u001b[32m\u001b[1m\u001b[31m<\u001b[0m\u001b[32m\u001b[1m\u001b[31m\u001b[1mTCP\u001b[0m\u001b[32m\u001b[1m  \u001b[31m|\u001b[0m\u001b[32m\u001b[1m\u001b[31m>\u001b[0m\u001b[32m\u001b[1m\u001b[31m>\u001b[0m\u001b[32m\u001b[1m"
      ]
     },
     "execution_count": 4,
     "metadata": {},
     "output_type": "execute_result"
    }
   ],
   "source": [
    "IP()/TCP()"
   ]
  },
  {
   "cell_type": "code",
   "execution_count": 5,
   "metadata": {},
   "outputs": [
    {
     "data": {
      "text/plain": [
       "\u001b[31m<\u001b[0m\u001b[32m\u001b[1m\u001b[31m\u001b[1mEther\u001b[0m\u001b[32m\u001b[1m  \u001b[33m\u001b[1mtype\u001b[0m\u001b[32m\u001b[1m\u001b[31m=\u001b[0m\u001b[32m\u001b[1m\u001b[32m\u001b[1mIPv4\u001b[0m\u001b[32m\u001b[1m \u001b[31m|\u001b[0m\u001b[32m\u001b[1m\u001b[31m<\u001b[0m\u001b[32m\u001b[1m\u001b[31m\u001b[1mIP\u001b[0m\u001b[32m\u001b[1m  \u001b[33m\u001b[1mfrag\u001b[0m\u001b[32m\u001b[1m\u001b[31m=\u001b[0m\u001b[32m\u001b[1m\u001b[32m\u001b[1m0\u001b[0m\u001b[32m\u001b[1m \u001b[33m\u001b[1mproto\u001b[0m\u001b[32m\u001b[1m\u001b[31m=\u001b[0m\u001b[32m\u001b[1m\u001b[32m\u001b[1mtcp\u001b[0m\u001b[32m\u001b[1m \u001b[31m|\u001b[0m\u001b[32m\u001b[1m\u001b[31m<\u001b[0m\u001b[32m\u001b[1m\u001b[31m\u001b[1mTCP\u001b[0m\u001b[32m\u001b[1m  \u001b[31m|\u001b[0m\u001b[32m\u001b[1m\u001b[31m>\u001b[0m\u001b[32m\u001b[1m\u001b[31m>\u001b[0m\u001b[32m\u001b[1m\u001b[31m>\u001b[0m\u001b[32m\u001b[1m"
      ]
     },
     "execution_count": 5,
     "metadata": {},
     "output_type": "execute_result"
    }
   ],
   "source": [
    "Ether()/IP()/TCP()"
   ]
  },
  {
   "cell_type": "code",
   "execution_count": 6,
   "metadata": {},
   "outputs": [
    {
     "data": {
      "text/plain": [
       "\u001b[31m<\u001b[0m\u001b[32m\u001b[1m\u001b[31m\u001b[1mIP\u001b[0m\u001b[32m\u001b[1m  \u001b[33m\u001b[1mfrag\u001b[0m\u001b[32m\u001b[1m\u001b[31m=\u001b[0m\u001b[32m\u001b[1m\u001b[32m\u001b[1m0\u001b[0m\u001b[32m\u001b[1m \u001b[33m\u001b[1mproto\u001b[0m\u001b[32m\u001b[1m\u001b[31m=\u001b[0m\u001b[32m\u001b[1m\u001b[32m\u001b[1mtcp\u001b[0m\u001b[32m\u001b[1m \u001b[31m|\u001b[0m\u001b[32m\u001b[1m\u001b[31m<\u001b[0m\u001b[32m\u001b[1m\u001b[31m\u001b[1mTCP\u001b[0m\u001b[32m\u001b[1m  \u001b[31m|\u001b[0m\u001b[32m\u001b[1m\u001b[31m<\u001b[0m\u001b[32m\u001b[1m\u001b[31m\u001b[1mRaw\u001b[0m\u001b[32m\u001b[1m  \u001b[33m\u001b[1mload\u001b[0m\u001b[32m\u001b[1m\u001b[31m=\u001b[0m\u001b[32m\u001b[1m\u001b[32m\u001b[1m'GET / HTTP/1.0\\r\\n\\r\\n'\u001b[0m\u001b[32m\u001b[1m \u001b[31m|\u001b[0m\u001b[32m\u001b[1m\u001b[31m>\u001b[0m\u001b[32m\u001b[1m\u001b[31m>\u001b[0m\u001b[32m\u001b[1m\u001b[31m>\u001b[0m\u001b[32m\u001b[1m"
      ]
     },
     "execution_count": 6,
     "metadata": {},
     "output_type": "execute_result"
    }
   ],
   "source": [
    "IP()/TCP()/\"GET / HTTP/1.0\\r\\n\\r\\n\""
   ]
  },
  {
   "cell_type": "code",
   "execution_count": 7,
   "metadata": {},
   "outputs": [
    {
     "data": {
      "text/plain": [
       "\u001b[31m<\u001b[0m\u001b[32m\u001b[1m\u001b[31m\u001b[1mEther\u001b[0m\u001b[32m\u001b[1m  \u001b[33m\u001b[1mtype\u001b[0m\u001b[32m\u001b[1m\u001b[31m=\u001b[0m\u001b[32m\u001b[1m\u001b[32m\u001b[1mIPv4\u001b[0m\u001b[32m\u001b[1m \u001b[31m|\u001b[0m\u001b[32m\u001b[1m\u001b[31m<\u001b[0m\u001b[32m\u001b[1m\u001b[31m\u001b[1mIP\u001b[0m\u001b[32m\u001b[1m  \u001b[33m\u001b[1mfrag\u001b[0m\u001b[32m\u001b[1m\u001b[31m=\u001b[0m\u001b[32m\u001b[1m\u001b[32m\u001b[1m0\u001b[0m\u001b[32m\u001b[1m \u001b[33m\u001b[1mproto\u001b[0m\u001b[32m\u001b[1m\u001b[31m=\u001b[0m\u001b[32m\u001b[1m\u001b[32m\u001b[1mipencap\u001b[0m\u001b[32m\u001b[1m \u001b[31m|\u001b[0m\u001b[32m\u001b[1m\u001b[31m<\u001b[0m\u001b[32m\u001b[1m\u001b[31m\u001b[1mIP\u001b[0m\u001b[32m\u001b[1m  \u001b[33m\u001b[1mfrag\u001b[0m\u001b[32m\u001b[1m\u001b[31m=\u001b[0m\u001b[32m\u001b[1m\u001b[32m\u001b[1m0\u001b[0m\u001b[32m\u001b[1m \u001b[33m\u001b[1mproto\u001b[0m\u001b[32m\u001b[1m\u001b[31m=\u001b[0m\u001b[32m\u001b[1m\u001b[32m\u001b[1mudp\u001b[0m\u001b[32m\u001b[1m \u001b[31m|\u001b[0m\u001b[32m\u001b[1m\u001b[31m<\u001b[0m\u001b[32m\u001b[1m\u001b[31m\u001b[1mUDP\u001b[0m\u001b[32m\u001b[1m  \u001b[31m|\u001b[0m\u001b[32m\u001b[1m\u001b[31m>\u001b[0m\u001b[32m\u001b[1m\u001b[31m>\u001b[0m\u001b[32m\u001b[1m\u001b[31m>\u001b[0m\u001b[32m\u001b[1m\u001b[31m>\u001b[0m\u001b[32m\u001b[1m"
      ]
     },
     "execution_count": 7,
     "metadata": {},
     "output_type": "execute_result"
    }
   ],
   "source": [
    "Ether()/IP()/IP()/UDP()"
   ]
  },
  {
   "cell_type": "code",
   "execution_count": 9,
   "metadata": {},
   "outputs": [
    {
     "data": {
      "text/plain": [
       "\u001b[31m<\u001b[0m\u001b[32m\u001b[1m\u001b[31m\u001b[1mIP\u001b[0m\u001b[32m\u001b[1m  \u001b[33m\u001b[1mfrag\u001b[0m\u001b[32m\u001b[1m\u001b[31m=\u001b[0m\u001b[32m\u001b[1m\u001b[32m\u001b[1m0\u001b[0m\u001b[32m\u001b[1m \u001b[33m\u001b[1mproto\u001b[0m\u001b[32m\u001b[1m\u001b[31m=\u001b[0m\u001b[32m\u001b[1m\u001b[32m\u001b[1m55\u001b[0m\u001b[32m\u001b[1m \u001b[31m|\u001b[0m\u001b[32m\u001b[1m\u001b[31m<\u001b[0m\u001b[32m\u001b[1m\u001b[31m\u001b[1mTCP\u001b[0m\u001b[32m\u001b[1m  \u001b[33m\u001b[1mdport\u001b[0m\u001b[32m\u001b[1m\u001b[31m=\u001b[0m\u001b[32m\u001b[1m\u001b[32m\u001b[1m-22\u001b[0m\u001b[32m\u001b[1m \u001b[31m|\u001b[0m\u001b[32m\u001b[1m\u001b[31m>\u001b[0m\u001b[32m\u001b[1m\u001b[31m>\u001b[0m\u001b[32m\u001b[1m"
      ]
     },
     "execution_count": 9,
     "metadata": {},
     "output_type": "execute_result"
    }
   ],
   "source": [
    "IP(proto=55)/TCP(dport=-22)"
   ]
  },
  {
   "cell_type": "markdown",
   "metadata": {},
   "source": [
    "## Build ARP packets\n",
    "- build ARP packet which has two layers - Ether and ARP"
   ]
  },
  {
   "cell_type": "code",
   "execution_count": 10,
   "metadata": {},
   "outputs": [
    {
     "name": "stdout",
     "output_type": "stream",
     "text": [
      "dst        : DestMACField                        = (None)\n",
      "src        : SourceMACField                      = (None)\n",
      "type       : XShortEnumField                     = (36864)\n"
     ]
    }
   ],
   "source": [
    "ls(Ether)"
   ]
  },
  {
   "cell_type": "code",
   "execution_count": 11,
   "metadata": {},
   "outputs": [
    {
     "name": "stdout",
     "output_type": "stream",
     "text": [
      "hwtype     : XShortField                         = (1)\n",
      "ptype      : XShortEnumField                     = (2048)\n",
      "hwlen      : FieldLenField                       = (None)\n",
      "plen       : FieldLenField                       = (None)\n",
      "op         : ShortEnumField                      = (1)\n",
      "hwsrc      : MultipleTypeField                   = (None)\n",
      "psrc       : MultipleTypeField                   = (None)\n",
      "hwdst      : MultipleTypeField                   = (None)\n",
      "pdst       : MultipleTypeField                   = (None)\n"
     ]
    }
   ],
   "source": [
    "ls(ARP)"
   ]
  },
  {
   "cell_type": "code",
   "execution_count": 60,
   "metadata": {},
   "outputs": [],
   "source": [
    "arpPkt = Ether()/ARP()"
   ]
  },
  {
   "cell_type": "code",
   "execution_count": 61,
   "metadata": {},
   "outputs": [
    {
     "name": "stdout",
     "output_type": "stream",
     "text": [
      "\u001b[31m###[\u001b[0m\u001b[32m\u001b[1m \u001b[31m\u001b[1mEthernet\u001b[0m\u001b[32m\u001b[1m \u001b[31m]###\u001b[0m\u001b[32m\u001b[1m \n",
      "  \u001b[33m\u001b[1mdst\u001b[0m\u001b[32m\u001b[1m\u001b[31m=\u001b[0m\u001b[32m\u001b[1m \u001b[32m\u001b[1m00:50:56:e4:5b:86\u001b[0m\u001b[32m\u001b[1m\n",
      "  \u001b[33m\u001b[1msrc\u001b[0m\u001b[32m\u001b[1m\u001b[31m=\u001b[0m\u001b[32m\u001b[1m \u001b[32m\u001b[1m00:0c:29:17:1a:37\u001b[0m\u001b[32m\u001b[1m\n",
      "  \u001b[33m\u001b[1mtype\u001b[0m\u001b[32m\u001b[1m\u001b[31m=\u001b[0m\u001b[32m\u001b[1m \u001b[32m\u001b[1mARP\u001b[0m\u001b[32m\u001b[1m\n",
      "\u001b[31m###[\u001b[0m\u001b[32m\u001b[1m \u001b[31m\u001b[1mARP\u001b[0m\u001b[32m\u001b[1m \u001b[31m]###\u001b[0m\u001b[32m\u001b[1m \n",
      "     \u001b[33m\u001b[1mhwtype\u001b[0m\u001b[32m\u001b[1m\u001b[31m=\u001b[0m\u001b[32m\u001b[1m \u001b[32m\u001b[1m0x1\u001b[0m\u001b[32m\u001b[1m\n",
      "     \u001b[33m\u001b[1mptype\u001b[0m\u001b[32m\u001b[1m\u001b[31m=\u001b[0m\u001b[32m\u001b[1m \u001b[32m\u001b[1mIPv4\u001b[0m\u001b[32m\u001b[1m\n",
      "     \u001b[33m\u001b[1mhwlen\u001b[0m\u001b[32m\u001b[1m\u001b[31m=\u001b[0m\u001b[32m\u001b[1m \u001b[32m\u001b[1mNone\u001b[0m\u001b[32m\u001b[1m\n",
      "     \u001b[33m\u001b[1mplen\u001b[0m\u001b[32m\u001b[1m\u001b[31m=\u001b[0m\u001b[32m\u001b[1m \u001b[32m\u001b[1mNone\u001b[0m\u001b[32m\u001b[1m\n",
      "     \u001b[33m\u001b[1mop\u001b[0m\u001b[32m\u001b[1m\u001b[31m=\u001b[0m\u001b[32m\u001b[1m \u001b[32m\u001b[1mwho-has\u001b[0m\u001b[32m\u001b[1m\n",
      "     \u001b[33m\u001b[1mhwsrc\u001b[0m\u001b[32m\u001b[1m\u001b[31m=\u001b[0m\u001b[32m\u001b[1m \u001b[32m\u001b[1m00:0c:29:17:1a:37\u001b[0m\u001b[32m\u001b[1m\n",
      "     \u001b[33m\u001b[1mpsrc\u001b[0m\u001b[32m\u001b[1m\u001b[31m=\u001b[0m\u001b[32m\u001b[1m \u001b[32m\u001b[1m192.168.195.161\u001b[0m\u001b[32m\u001b[1m\n",
      "     \u001b[33m\u001b[1mhwdst\u001b[0m\u001b[32m\u001b[1m\u001b[31m=\u001b[0m\u001b[32m\u001b[1m \u001b[32m\u001b[1m00:00:00:00:00:00\u001b[0m\u001b[32m\u001b[1m\n",
      "     \u001b[33m\u001b[1mpdst\u001b[0m\u001b[32m\u001b[1m\u001b[31m=\u001b[0m\u001b[32m\u001b[1m \u001b[32m\u001b[1m0.0.0.0\u001b[0m\u001b[32m\u001b[1m\n",
      "\n"
     ]
    }
   ],
   "source": [
    "arpPkt.show()"
   ]
  },
  {
   "cell_type": "code",
   "execution_count": 62,
   "metadata": {},
   "outputs": [],
   "source": [
    "# Change Ethernet protocol's destination field to broadcase MAC address\n",
    "arpPkt['Ethernet'].dst= 'FF:FF:FF:FF:FF:FF'"
   ]
  },
  {
   "cell_type": "code",
   "execution_count": 17,
   "metadata": {},
   "outputs": [
    {
     "name": "stdout",
     "output_type": "stream",
     "text": [
      "\u001b[31m###[\u001b[0m\u001b[32m\u001b[1m \u001b[31m\u001b[1mEthernet\u001b[0m\u001b[32m\u001b[1m \u001b[31m]###\u001b[0m\u001b[32m\u001b[1m \n",
      "  \u001b[33m\u001b[1mdst\u001b[0m\u001b[32m\u001b[1m\u001b[31m=\u001b[0m\u001b[32m\u001b[1m \u001b[32m\u001b[1mFF:FF:FF:FF:FF:FF\u001b[0m\u001b[32m\u001b[1m\n",
      "  \u001b[33m\u001b[1msrc\u001b[0m\u001b[32m\u001b[1m\u001b[31m=\u001b[0m\u001b[32m\u001b[1m \u001b[32m\u001b[1m00:0c:29:17:1a:37\u001b[0m\u001b[32m\u001b[1m\n",
      "  \u001b[33m\u001b[1mtype\u001b[0m\u001b[32m\u001b[1m\u001b[31m=\u001b[0m\u001b[32m\u001b[1m \u001b[32m\u001b[1mARP\u001b[0m\u001b[32m\u001b[1m\n",
      "\u001b[31m###[\u001b[0m\u001b[32m\u001b[1m \u001b[31m\u001b[1mARP\u001b[0m\u001b[32m\u001b[1m \u001b[31m]###\u001b[0m\u001b[32m\u001b[1m \n",
      "     \u001b[33m\u001b[1mhwtype\u001b[0m\u001b[32m\u001b[1m\u001b[31m=\u001b[0m\u001b[32m\u001b[1m \u001b[32m\u001b[1m0x1\u001b[0m\u001b[32m\u001b[1m\n",
      "     \u001b[33m\u001b[1mptype\u001b[0m\u001b[32m\u001b[1m\u001b[31m=\u001b[0m\u001b[32m\u001b[1m \u001b[32m\u001b[1mIPv4\u001b[0m\u001b[32m\u001b[1m\n",
      "     \u001b[33m\u001b[1mhwlen\u001b[0m\u001b[32m\u001b[1m\u001b[31m=\u001b[0m\u001b[32m\u001b[1m \u001b[32m\u001b[1mNone\u001b[0m\u001b[32m\u001b[1m\n",
      "     \u001b[33m\u001b[1mplen\u001b[0m\u001b[32m\u001b[1m\u001b[31m=\u001b[0m\u001b[32m\u001b[1m \u001b[32m\u001b[1mNone\u001b[0m\u001b[32m\u001b[1m\n",
      "     \u001b[33m\u001b[1mop\u001b[0m\u001b[32m\u001b[1m\u001b[31m=\u001b[0m\u001b[32m\u001b[1m \u001b[32m\u001b[1mwho-has\u001b[0m\u001b[32m\u001b[1m\n",
      "     \u001b[33m\u001b[1mhwsrc\u001b[0m\u001b[32m\u001b[1m\u001b[31m=\u001b[0m\u001b[32m\u001b[1m \u001b[32m\u001b[1m00:0c:29:17:1a:37\u001b[0m\u001b[32m\u001b[1m\n",
      "     \u001b[33m\u001b[1mpsrc\u001b[0m\u001b[32m\u001b[1m\u001b[31m=\u001b[0m\u001b[32m\u001b[1m \u001b[32m\u001b[1m192.168.195.161\u001b[0m\u001b[32m\u001b[1m\n",
      "     \u001b[33m\u001b[1mhwdst\u001b[0m\u001b[32m\u001b[1m\u001b[31m=\u001b[0m\u001b[32m\u001b[1m \u001b[32m\u001b[1m00:00:00:00:00:00\u001b[0m\u001b[32m\u001b[1m\n",
      "     \u001b[33m\u001b[1mpdst\u001b[0m\u001b[32m\u001b[1m\u001b[31m=\u001b[0m\u001b[32m\u001b[1m \u001b[32m\u001b[1m0.0.0.0\u001b[0m\u001b[32m\u001b[1m\n",
      "\n"
     ]
    }
   ],
   "source": [
    "arpPkt.show()"
   ]
  },
  {
   "cell_type": "code",
   "execution_count": 63,
   "metadata": {},
   "outputs": [],
   "source": [
    "# change ARP protocol's hwdst to broadcast MAC address\n",
    "#arpPkt['Ethernet']['ARP'].hwdst = 'FF:FF:FF:FF:FF:FF'\n",
    "arpPkt['ARP'].hwdst = 'FF:FF:FF:FF:FF:FF'"
   ]
  },
  {
   "cell_type": "code",
   "execution_count": 64,
   "metadata": {},
   "outputs": [
    {
     "name": "stdout",
     "output_type": "stream",
     "text": [
      "\u001b[31m###[\u001b[0m\u001b[32m\u001b[1m \u001b[31m\u001b[1mEthernet\u001b[0m\u001b[32m\u001b[1m \u001b[31m]###\u001b[0m\u001b[32m\u001b[1m \n",
      "  \u001b[33m\u001b[1mdst\u001b[0m\u001b[32m\u001b[1m\u001b[31m=\u001b[0m\u001b[32m\u001b[1m \u001b[32m\u001b[1mFF:FF:FF:FF:FF:FF\u001b[0m\u001b[32m\u001b[1m\n",
      "  \u001b[33m\u001b[1msrc\u001b[0m\u001b[32m\u001b[1m\u001b[31m=\u001b[0m\u001b[32m\u001b[1m \u001b[32m\u001b[1m00:0c:29:17:1a:37\u001b[0m\u001b[32m\u001b[1m\n",
      "  \u001b[33m\u001b[1mtype\u001b[0m\u001b[32m\u001b[1m\u001b[31m=\u001b[0m\u001b[32m\u001b[1m \u001b[32m\u001b[1mARP\u001b[0m\u001b[32m\u001b[1m\n",
      "\u001b[31m###[\u001b[0m\u001b[32m\u001b[1m \u001b[31m\u001b[1mARP\u001b[0m\u001b[32m\u001b[1m \u001b[31m]###\u001b[0m\u001b[32m\u001b[1m \n",
      "     \u001b[33m\u001b[1mhwtype\u001b[0m\u001b[32m\u001b[1m\u001b[31m=\u001b[0m\u001b[32m\u001b[1m \u001b[32m\u001b[1m0x1\u001b[0m\u001b[32m\u001b[1m\n",
      "     \u001b[33m\u001b[1mptype\u001b[0m\u001b[32m\u001b[1m\u001b[31m=\u001b[0m\u001b[32m\u001b[1m \u001b[32m\u001b[1mIPv4\u001b[0m\u001b[32m\u001b[1m\n",
      "     \u001b[33m\u001b[1mhwlen\u001b[0m\u001b[32m\u001b[1m\u001b[31m=\u001b[0m\u001b[32m\u001b[1m \u001b[32m\u001b[1mNone\u001b[0m\u001b[32m\u001b[1m\n",
      "     \u001b[33m\u001b[1mplen\u001b[0m\u001b[32m\u001b[1m\u001b[31m=\u001b[0m\u001b[32m\u001b[1m \u001b[32m\u001b[1mNone\u001b[0m\u001b[32m\u001b[1m\n",
      "     \u001b[33m\u001b[1mop\u001b[0m\u001b[32m\u001b[1m\u001b[31m=\u001b[0m\u001b[32m\u001b[1m \u001b[32m\u001b[1mwho-has\u001b[0m\u001b[32m\u001b[1m\n",
      "     \u001b[33m\u001b[1mhwsrc\u001b[0m\u001b[32m\u001b[1m\u001b[31m=\u001b[0m\u001b[32m\u001b[1m \u001b[32m\u001b[1m00:0c:29:17:1a:37\u001b[0m\u001b[32m\u001b[1m\n",
      "     \u001b[33m\u001b[1mpsrc\u001b[0m\u001b[32m\u001b[1m\u001b[31m=\u001b[0m\u001b[32m\u001b[1m \u001b[32m\u001b[1m192.168.195.161\u001b[0m\u001b[32m\u001b[1m\n",
      "     \u001b[33m\u001b[1mhwdst\u001b[0m\u001b[32m\u001b[1m\u001b[31m=\u001b[0m\u001b[32m\u001b[1m \u001b[32m\u001b[1mFF:FF:FF:FF:FF:FF\u001b[0m\u001b[32m\u001b[1m\n",
      "     \u001b[33m\u001b[1mpdst\u001b[0m\u001b[32m\u001b[1m\u001b[31m=\u001b[0m\u001b[32m\u001b[1m \u001b[32m\u001b[1m0.0.0.0\u001b[0m\u001b[32m\u001b[1m\n",
      "\n"
     ]
    }
   ],
   "source": [
    "arpPkt.show()"
   ]
  },
  {
   "cell_type": "code",
   "execution_count": 65,
   "metadata": {},
   "outputs": [],
   "source": [
    "# change dest ip\n",
    "arpPkt['ARP'].pdst = '192.168.195.167'"
   ]
  },
  {
   "cell_type": "code",
   "execution_count": 70,
   "metadata": {},
   "outputs": [
    {
     "name": "stdout",
     "output_type": "stream",
     "text": [
      "\u001b[31m###[\u001b[0m\u001b[32m\u001b[1m \u001b[31m\u001b[1mEthernet\u001b[0m\u001b[32m\u001b[1m \u001b[31m]###\u001b[0m\u001b[32m\u001b[1m \n",
      "  \u001b[33m\u001b[1mdst\u001b[0m\u001b[32m\u001b[1m\u001b[31m=\u001b[0m\u001b[32m\u001b[1m \u001b[32m\u001b[1mFF:FF:FF:FF:FF:FF\u001b[0m\u001b[32m\u001b[1m\n",
      "  \u001b[33m\u001b[1msrc\u001b[0m\u001b[32m\u001b[1m\u001b[31m=\u001b[0m\u001b[32m\u001b[1m \u001b[32m\u001b[1m00:0c:29:17:1a:37\u001b[0m\u001b[32m\u001b[1m\n",
      "  \u001b[33m\u001b[1mtype\u001b[0m\u001b[32m\u001b[1m\u001b[31m=\u001b[0m\u001b[32m\u001b[1m \u001b[32m\u001b[1mARP\u001b[0m\u001b[32m\u001b[1m\n",
      "\u001b[31m###[\u001b[0m\u001b[32m\u001b[1m \u001b[31m\u001b[1mARP\u001b[0m\u001b[32m\u001b[1m \u001b[31m]###\u001b[0m\u001b[32m\u001b[1m \n",
      "     \u001b[33m\u001b[1mhwtype\u001b[0m\u001b[32m\u001b[1m\u001b[31m=\u001b[0m\u001b[32m\u001b[1m \u001b[32m\u001b[1m0x1\u001b[0m\u001b[32m\u001b[1m\n",
      "     \u001b[33m\u001b[1mptype\u001b[0m\u001b[32m\u001b[1m\u001b[31m=\u001b[0m\u001b[32m\u001b[1m \u001b[32m\u001b[1mIPv4\u001b[0m\u001b[32m\u001b[1m\n",
      "     \u001b[33m\u001b[1mhwlen\u001b[0m\u001b[32m\u001b[1m\u001b[31m=\u001b[0m\u001b[32m\u001b[1m \u001b[32m\u001b[1mNone\u001b[0m\u001b[32m\u001b[1m\n",
      "     \u001b[33m\u001b[1mplen\u001b[0m\u001b[32m\u001b[1m\u001b[31m=\u001b[0m\u001b[32m\u001b[1m \u001b[32m\u001b[1mNone\u001b[0m\u001b[32m\u001b[1m\n",
      "     \u001b[33m\u001b[1mop\u001b[0m\u001b[32m\u001b[1m\u001b[31m=\u001b[0m\u001b[32m\u001b[1m \u001b[32m\u001b[1mwho-has\u001b[0m\u001b[32m\u001b[1m\n",
      "     \u001b[33m\u001b[1mhwsrc\u001b[0m\u001b[32m\u001b[1m\u001b[31m=\u001b[0m\u001b[32m\u001b[1m \u001b[32m\u001b[1m00:0c:29:17:1a:37\u001b[0m\u001b[32m\u001b[1m\n",
      "     \u001b[33m\u001b[1mpsrc\u001b[0m\u001b[32m\u001b[1m\u001b[31m=\u001b[0m\u001b[32m\u001b[1m \u001b[32m\u001b[1m192.168.195.161\u001b[0m\u001b[32m\u001b[1m\n",
      "     \u001b[33m\u001b[1mhwdst\u001b[0m\u001b[32m\u001b[1m\u001b[31m=\u001b[0m\u001b[32m\u001b[1m \u001b[32m\u001b[1mFF:FF:FF:FF:FF:FF\u001b[0m\u001b[32m\u001b[1m\n",
      "     \u001b[33m\u001b[1mpdst\u001b[0m\u001b[32m\u001b[1m\u001b[31m=\u001b[0m\u001b[32m\u001b[1m \u001b[32m\u001b[1m192.168.195.167\u001b[0m\u001b[32m\u001b[1m\n",
      "\n"
     ]
    }
   ],
   "source": [
    "arpPkt.show()"
   ]
  },
  {
   "cell_type": "markdown",
   "metadata": {},
   "source": [
    "## Capture packet using wireshark\n",
    "- ARP packet is ready to be sent\n",
    "- Open Wireshark and start capturing traffic"
   ]
  },
  {
   "cell_type": "markdown",
   "metadata": {},
   "source": [
    "# Send packets - one way\n",
    "- sendp() - works at layer two; can send ARP, Ethernet, etc.\n",
    "- send() - send packets at layer 3 (IP, TCP, HTTP, etc.); will handle routing and layer 2\n",
    "    - if return_packets=True is passed as parameter, these functions will also return received packes"
   ]
  },
  {
   "cell_type": "code",
   "execution_count": 67,
   "metadata": {},
   "outputs": [
    {
     "name": "stdout",
     "output_type": "stream",
     "text": [
      "Help on function send in module scapy.sendrecv:\n",
      "\n",
      "send(x, inter=0, loop=0, count=None, verbose=None, realtime=None, return_packets=False, socket=None, iface=None, *args, **kargs)\n",
      "    Send packets at layer 3\n",
      "    \n",
      "    :param x: the packets\n",
      "    :param inter: time (in s) between two packets (default 0)\n",
      "    :param loop: send packet indefinetly (default 0)\n",
      "    :param count: number of packets to send (default None=1)\n",
      "    :param verbose: verbose mode (default None=conf.verbose)\n",
      "    :param realtime: check that a packet was sent before sending the next one\n",
      "    :param return_packets: return the sent packets\n",
      "    :param socket: the socket to use (default is conf.L3socket(kargs))\n",
      "    :param iface: the interface to send the packets on\n",
      "    :param monitor: (not on linux) send in monitor mode\n",
      "    :returns: None\n",
      "\n"
     ]
    }
   ],
   "source": [
    "help(send)"
   ]
  },
  {
   "cell_type": "code",
   "execution_count": 68,
   "metadata": {},
   "outputs": [
    {
     "name": "stdout",
     "output_type": "stream",
     "text": [
      "Help on function sendp in module scapy.sendrecv:\n",
      "\n",
      "sendp(x, inter=0, loop=0, iface=None, iface_hint=None, count=None, verbose=None, realtime=None, return_packets=False, socket=None, *args, **kargs)\n",
      "    Send packets at layer 2\n",
      "    \n",
      "    :param x: the packets\n",
      "    :param inter: time (in s) between two packets (default 0)\n",
      "    :param loop: send packet indefinetly (default 0)\n",
      "    :param count: number of packets to send (default None=1)\n",
      "    :param verbose: verbose mode (default None=conf.verbose)\n",
      "    :param realtime: check that a packet was sent before sending the next one\n",
      "    :param return_packets: return the sent packets\n",
      "    :param socket: the socket to use (default is conf.L3socket(kargs))\n",
      "    :param iface: the interface to send the packets on\n",
      "    :param monitor: (not on linux) send in monitor mode\n",
      "    :returns: None\n",
      "\n"
     ]
    }
   ],
   "source": [
    "help(sendp)"
   ]
  },
  {
   "cell_type": "code",
   "execution_count": 71,
   "metadata": {},
   "outputs": [
    {
     "name": "stdout",
     "output_type": "stream",
     "text": [
      "\n",
      "Sent 1 packets..\n"
     ]
    }
   ],
   "source": [
    "# send the arpPkt - use sendp() because ARP is layer 2 packet\n",
    "sendp(arpPkt)"
   ]
  },
  {
   "cell_type": "code",
   "execution_count": 72,
   "metadata": {},
   "outputs": [
    {
     "name": "stdout",
     "output_type": "stream",
     "text": [
      "Begin emission:\n",
      "Finished sending 1 packets.\n",
      "\n",
      "Received 1 packets, got 1 answers, remaining 0 packets\n"
     ]
    }
   ],
   "source": [
    "response = srp1(arpPkt)"
   ]
  },
  {
   "cell_type": "code",
   "execution_count": 73,
   "metadata": {},
   "outputs": [
    {
     "name": "stdout",
     "output_type": "stream",
     "text": [
      "\u001b[31m###[\u001b[0m\u001b[32m\u001b[1m \u001b[31m\u001b[1mEthernet\u001b[0m\u001b[32m\u001b[1m \u001b[31m]###\u001b[0m\u001b[32m\u001b[1m \n",
      "  \u001b[33m\u001b[1mdst\u001b[0m\u001b[32m\u001b[1m\u001b[31m=\u001b[0m\u001b[32m\u001b[1m \u001b[32m\u001b[1m00:0c:29:17:1a:37\u001b[0m\u001b[32m\u001b[1m\n",
      "  \u001b[33m\u001b[1msrc\u001b[0m\u001b[32m\u001b[1m\u001b[31m=\u001b[0m\u001b[32m\u001b[1m \u001b[32m\u001b[1m00:0c:29:f5:94:92\u001b[0m\u001b[32m\u001b[1m\n",
      "  \u001b[33m\u001b[1mtype\u001b[0m\u001b[32m\u001b[1m\u001b[31m=\u001b[0m\u001b[32m\u001b[1m \u001b[32m\u001b[1mARP\u001b[0m\u001b[32m\u001b[1m\n",
      "\u001b[31m###[\u001b[0m\u001b[32m\u001b[1m \u001b[31m\u001b[1mARP\u001b[0m\u001b[32m\u001b[1m \u001b[31m]###\u001b[0m\u001b[32m\u001b[1m \n",
      "     \u001b[33m\u001b[1mhwtype\u001b[0m\u001b[32m\u001b[1m\u001b[31m=\u001b[0m\u001b[32m\u001b[1m \u001b[32m\u001b[1m0x1\u001b[0m\u001b[32m\u001b[1m\n",
      "     \u001b[33m\u001b[1mptype\u001b[0m\u001b[32m\u001b[1m\u001b[31m=\u001b[0m\u001b[32m\u001b[1m \u001b[32m\u001b[1mIPv4\u001b[0m\u001b[32m\u001b[1m\n",
      "     \u001b[33m\u001b[1mhwlen\u001b[0m\u001b[32m\u001b[1m\u001b[31m=\u001b[0m\u001b[32m\u001b[1m \u001b[32m\u001b[1m6\u001b[0m\u001b[32m\u001b[1m\n",
      "     \u001b[33m\u001b[1mplen\u001b[0m\u001b[32m\u001b[1m\u001b[31m=\u001b[0m\u001b[32m\u001b[1m \u001b[32m\u001b[1m4\u001b[0m\u001b[32m\u001b[1m\n",
      "     \u001b[33m\u001b[1mop\u001b[0m\u001b[32m\u001b[1m\u001b[31m=\u001b[0m\u001b[32m\u001b[1m \u001b[32m\u001b[1mis-at\u001b[0m\u001b[32m\u001b[1m\n",
      "     \u001b[33m\u001b[1mhwsrc\u001b[0m\u001b[32m\u001b[1m\u001b[31m=\u001b[0m\u001b[32m\u001b[1m \u001b[32m\u001b[1m00:0c:29:f5:94:92\u001b[0m\u001b[32m\u001b[1m\n",
      "     \u001b[33m\u001b[1mpsrc\u001b[0m\u001b[32m\u001b[1m\u001b[31m=\u001b[0m\u001b[32m\u001b[1m \u001b[32m\u001b[1m192.168.195.167\u001b[0m\u001b[32m\u001b[1m\n",
      "     \u001b[33m\u001b[1mhwdst\u001b[0m\u001b[32m\u001b[1m\u001b[31m=\u001b[0m\u001b[32m\u001b[1m \u001b[32m\u001b[1m00:0c:29:17:1a:37\u001b[0m\u001b[32m\u001b[1m\n",
      "     \u001b[33m\u001b[1mpdst\u001b[0m\u001b[32m\u001b[1m\u001b[31m=\u001b[0m\u001b[32m\u001b[1m \u001b[32m\u001b[1m192.168.195.161\u001b[0m\u001b[32m\u001b[1m\n",
      "\u001b[31m###[\u001b[0m\u001b[32m\u001b[1m \u001b[31m\u001b[1mPadding\u001b[0m\u001b[32m\u001b[1m \u001b[31m]###\u001b[0m\u001b[32m\u001b[1m \n",
      "        \u001b[33m\u001b[1mload\u001b[0m\u001b[32m\u001b[1m\u001b[31m=\u001b[0m\u001b[32m\u001b[1m \u001b[32m\u001b[1m'\\x00\\x00\\x00\\x00\\x00\\x00\\x00\\x00\\x00\\x00\\x00\\x00\\x00\\x00\\x00\\x00\\x00\\x00'\u001b[0m\u001b[32m\u001b[1m\n",
      "\n"
     ]
    }
   ],
   "source": [
    "response.show()"
   ]
  },
  {
   "cell_type": "code",
   "execution_count": 74,
   "metadata": {},
   "outputs": [
    {
     "name": "stdout",
     "output_type": "stream",
     "text": [
      "Address                  HWtype  HWaddress           Flags Mask            Iface\r\n",
      "192.168.195.171                  (incomplete)                              eth0\r\n",
      "192.168.195.254          ether   00:50:56:ff:e7:19   C                     eth0\r\n",
      "192.168.195.2            ether   00:50:56:e4:5b:86   C                     eth0\r\n"
     ]
    }
   ],
   "source": [
    "! arp -n"
   ]
  },
  {
   "cell_type": "code",
   "execution_count": 36,
   "metadata": {},
   "outputs": [
    {
     "name": "stdout",
     "output_type": "stream",
     "text": [
      "\n",
      "Sent 1 packets..\n"
     ]
    }
   ],
   "source": [
    "# one liner\n",
    "sendp(Ether(dst=\"ff:ff:ff:ff:ff:ff\",src=\"00:11:22:aa:bb:cc\")/ARP(hwsrc=\"00:11:22:aa:bb:cc\",pdst=\"192.168.231.2\"))"
   ]
  },
  {
   "cell_type": "markdown",
   "metadata": {},
   "source": [
    "## Sending HTTP request"
   ]
  },
  {
   "cell_type": "code",
   "execution_count": 75,
   "metadata": {},
   "outputs": [],
   "source": [
    "httpPkt = IP(dst=\"example.com\")/TCP(dport=443)/\"GET /index.html HTTP/1.1\\r\\n\\r\\n\""
   ]
  },
  {
   "cell_type": "code",
   "execution_count": 76,
   "metadata": {},
   "outputs": [
    {
     "data": {
      "text/plain": [
       "b'E\\x00\\x00D\\x00\\x01\\x00\\x00@\\x06\\xc0\\x8e\\xc0\\xa8\\xc3\\xa1]\\xb8\\xd8\"\\x00\\x14\\x01\\xbb\\x00\\x00\\x00\\x00\\x00\\x00\\x00\\x00P\\x02 \\x00\\x12\\x16\\x00\\x00GET /index.html HTTP/1.1\\r\\n\\r\\n'"
      ]
     },
     "execution_count": 76,
     "metadata": {},
     "output_type": "execute_result"
    }
   ],
   "source": [
    "bytes(httpPkt)"
   ]
  },
  {
   "cell_type": "code",
   "execution_count": 77,
   "metadata": {},
   "outputs": [
    {
     "name": "stdout",
     "output_type": "stream",
     "text": [
      "0000  45 00 00 44 00 01 00 00 40 06 C0 8E C0 A8 C3 A1  E\u001b[32m.\u001b[0m\u001b[32m\u001b[1m\u001b[32m.\u001b[0m\u001b[32m\u001b[1mD\u001b[32m.\u001b[0m\u001b[32m\u001b[1m\u001b[32m.\u001b[0m\u001b[32m\u001b[1m\u001b[32m.\u001b[0m\u001b[32m\u001b[1m\u001b[32m.\u001b[0m\u001b[32m\u001b[1m@\u001b[32m.\u001b[0m\u001b[32m\u001b[1m\u001b[32m.\u001b[0m\u001b[32m\u001b[1m\u001b[32m.\u001b[0m\u001b[32m\u001b[1m\u001b[32m.\u001b[0m\u001b[32m\u001b[1m\u001b[32m.\u001b[0m\u001b[32m\u001b[1m\u001b[32m.\u001b[0m\u001b[32m\u001b[1m\u001b[32m.\u001b[0m\u001b[32m\u001b[1m\n",
      "0010  5D B8 D8 22 00 14 01 BB 00 00 00 00 00 00 00 00  ]\u001b[32m.\u001b[0m\u001b[32m\u001b[1m\u001b[32m.\u001b[0m\u001b[32m\u001b[1m\"\u001b[32m.\u001b[0m\u001b[32m\u001b[1m\u001b[32m.\u001b[0m\u001b[32m\u001b[1m\u001b[32m.\u001b[0m\u001b[32m\u001b[1m\u001b[32m.\u001b[0m\u001b[32m\u001b[1m\u001b[32m.\u001b[0m\u001b[32m\u001b[1m\u001b[32m.\u001b[0m\u001b[32m\u001b[1m\u001b[32m.\u001b[0m\u001b[32m\u001b[1m\u001b[32m.\u001b[0m\u001b[32m\u001b[1m\u001b[32m.\u001b[0m\u001b[32m\u001b[1m\u001b[32m.\u001b[0m\u001b[32m\u001b[1m\u001b[32m.\u001b[0m\u001b[32m\u001b[1m\u001b[32m.\u001b[0m\u001b[32m\u001b[1m\n",
      "0020  50 02 20 00 12 16 00 00 47 45 54 20 2F 69 6E 64  P\u001b[32m.\u001b[0m\u001b[32m\u001b[1m \u001b[32m.\u001b[0m\u001b[32m\u001b[1m\u001b[32m.\u001b[0m\u001b[32m\u001b[1m\u001b[32m.\u001b[0m\u001b[32m\u001b[1m\u001b[32m.\u001b[0m\u001b[32m\u001b[1m\u001b[32m.\u001b[0m\u001b[32m\u001b[1mGET /ind\n",
      "0030  65 78 2E 68 74 6D 6C 20 48 54 54 50 2F 31 2E 31  ex.html HTTP/1.1\n",
      "0040  0D 0A 0D 0A                                      \u001b[32m.\u001b[0m\u001b[32m\u001b[1m\u001b[32m.\u001b[0m\u001b[32m\u001b[1m\u001b[32m.\u001b[0m\u001b[32m\u001b[1m\u001b[32m.\u001b[0m\u001b[32m\u001b[1m\n"
     ]
    }
   ],
   "source": [
    "hexdump(httpPkt)"
   ]
  },
  {
   "cell_type": "code",
   "execution_count": 78,
   "metadata": {},
   "outputs": [
    {
     "name": "stdout",
     "output_type": "stream",
     "text": [
      "\u001b[31m###[\u001b[0m\u001b[32m\u001b[1m \u001b[31m\u001b[1mIP\u001b[0m\u001b[32m\u001b[1m \u001b[31m]###\u001b[0m\u001b[32m\u001b[1m \n",
      "  \u001b[33m\u001b[1mversion\u001b[0m\u001b[32m\u001b[1m\u001b[31m=\u001b[0m\u001b[32m\u001b[1m \u001b[32m\u001b[1m4\u001b[0m\u001b[32m\u001b[1m\n",
      "  \u001b[33m\u001b[1mihl\u001b[0m\u001b[32m\u001b[1m\u001b[31m=\u001b[0m\u001b[32m\u001b[1m \u001b[32m\u001b[1mNone\u001b[0m\u001b[32m\u001b[1m\n",
      "  \u001b[33m\u001b[1mtos\u001b[0m\u001b[32m\u001b[1m\u001b[31m=\u001b[0m\u001b[32m\u001b[1m \u001b[32m\u001b[1m0x0\u001b[0m\u001b[32m\u001b[1m\n",
      "  \u001b[33m\u001b[1mlen\u001b[0m\u001b[32m\u001b[1m\u001b[31m=\u001b[0m\u001b[32m\u001b[1m \u001b[32m\u001b[1mNone\u001b[0m\u001b[32m\u001b[1m\n",
      "  \u001b[33m\u001b[1mid\u001b[0m\u001b[32m\u001b[1m\u001b[31m=\u001b[0m\u001b[32m\u001b[1m \u001b[32m\u001b[1m1\u001b[0m\u001b[32m\u001b[1m\n",
      "  \u001b[33m\u001b[1mflags\u001b[0m\u001b[32m\u001b[1m\u001b[31m=\u001b[0m\u001b[32m\u001b[1m \u001b[32m\u001b[1m\u001b[0m\u001b[32m\u001b[1m\n",
      "  \u001b[33m\u001b[1mfrag\u001b[0m\u001b[32m\u001b[1m\u001b[31m=\u001b[0m\u001b[32m\u001b[1m \u001b[32m\u001b[1m0\u001b[0m\u001b[32m\u001b[1m\n",
      "  \u001b[33m\u001b[1mttl\u001b[0m\u001b[32m\u001b[1m\u001b[31m=\u001b[0m\u001b[32m\u001b[1m \u001b[32m\u001b[1m64\u001b[0m\u001b[32m\u001b[1m\n",
      "  \u001b[33m\u001b[1mproto\u001b[0m\u001b[32m\u001b[1m\u001b[31m=\u001b[0m\u001b[32m\u001b[1m \u001b[32m\u001b[1mtcp\u001b[0m\u001b[32m\u001b[1m\n",
      "  \u001b[33m\u001b[1mchksum\u001b[0m\u001b[32m\u001b[1m\u001b[31m=\u001b[0m\u001b[32m\u001b[1m \u001b[32m\u001b[1mNone\u001b[0m\u001b[32m\u001b[1m\n",
      "  \u001b[32msrc\u001b[0m\u001b[32m\u001b[1m\u001b[31m=\u001b[0m\u001b[32m\u001b[1m \u001b[32m192.168.195.161\u001b[0m\u001b[32m\u001b[1m\n",
      "  \u001b[32mdst\u001b[0m\u001b[32m\u001b[1m\u001b[31m=\u001b[0m\u001b[32m\u001b[1m \u001b[32mNet('example.com')\u001b[0m\u001b[32m\u001b[1m\n",
      "  \\\u001b[33m\u001b[1moptions\u001b[0m\u001b[32m\u001b[1m\\\n",
      "\u001b[31m###[\u001b[0m\u001b[32m\u001b[1m \u001b[31m\u001b[1mTCP\u001b[0m\u001b[32m\u001b[1m \u001b[31m]###\u001b[0m\u001b[32m\u001b[1m \n",
      "     \u001b[33m\u001b[1msport\u001b[0m\u001b[32m\u001b[1m\u001b[31m=\u001b[0m\u001b[32m\u001b[1m \u001b[32m\u001b[1mftp_data\u001b[0m\u001b[32m\u001b[1m\n",
      "     \u001b[33m\u001b[1mdport\u001b[0m\u001b[32m\u001b[1m\u001b[31m=\u001b[0m\u001b[32m\u001b[1m \u001b[32m\u001b[1mhttps\u001b[0m\u001b[32m\u001b[1m\n",
      "     \u001b[33m\u001b[1mseq\u001b[0m\u001b[32m\u001b[1m\u001b[31m=\u001b[0m\u001b[32m\u001b[1m \u001b[32m\u001b[1m0\u001b[0m\u001b[32m\u001b[1m\n",
      "     \u001b[33m\u001b[1mack\u001b[0m\u001b[32m\u001b[1m\u001b[31m=\u001b[0m\u001b[32m\u001b[1m \u001b[32m\u001b[1m0\u001b[0m\u001b[32m\u001b[1m\n",
      "     \u001b[33m\u001b[1mdataofs\u001b[0m\u001b[32m\u001b[1m\u001b[31m=\u001b[0m\u001b[32m\u001b[1m \u001b[32m\u001b[1mNone\u001b[0m\u001b[32m\u001b[1m\n",
      "     \u001b[33m\u001b[1mreserved\u001b[0m\u001b[32m\u001b[1m\u001b[31m=\u001b[0m\u001b[32m\u001b[1m \u001b[32m\u001b[1m0\u001b[0m\u001b[32m\u001b[1m\n",
      "     \u001b[33m\u001b[1mflags\u001b[0m\u001b[32m\u001b[1m\u001b[31m=\u001b[0m\u001b[32m\u001b[1m \u001b[32m\u001b[1mS\u001b[0m\u001b[32m\u001b[1m\n",
      "     \u001b[33m\u001b[1mwindow\u001b[0m\u001b[32m\u001b[1m\u001b[31m=\u001b[0m\u001b[32m\u001b[1m \u001b[32m\u001b[1m8192\u001b[0m\u001b[32m\u001b[1m\n",
      "     \u001b[33m\u001b[1mchksum\u001b[0m\u001b[32m\u001b[1m\u001b[31m=\u001b[0m\u001b[32m\u001b[1m \u001b[32m\u001b[1mNone\u001b[0m\u001b[32m\u001b[1m\n",
      "     \u001b[33m\u001b[1murgptr\u001b[0m\u001b[32m\u001b[1m\u001b[31m=\u001b[0m\u001b[32m\u001b[1m \u001b[32m\u001b[1m0\u001b[0m\u001b[32m\u001b[1m\n",
      "     \u001b[33m\u001b[1moptions\u001b[0m\u001b[32m\u001b[1m\u001b[31m=\u001b[0m\u001b[32m\u001b[1m \u001b[32m\u001b[1m[]\u001b[0m\u001b[32m\u001b[1m\n",
      "\u001b[31m###[\u001b[0m\u001b[32m\u001b[1m \u001b[31m\u001b[1mRaw\u001b[0m\u001b[32m\u001b[1m \u001b[31m]###\u001b[0m\u001b[32m\u001b[1m \n",
      "        \u001b[33m\u001b[1mload\u001b[0m\u001b[32m\u001b[1m\u001b[31m=\u001b[0m\u001b[32m\u001b[1m \u001b[32m\u001b[1m'GET /index.html HTTP/1.1\\r\\n\\r\\n'\u001b[0m\u001b[32m\u001b[1m\n",
      "\n"
     ]
    }
   ],
   "source": [
    "httpPkt.show()"
   ]
  },
  {
   "cell_type": "markdown",
   "metadata": {},
   "source": [
    "## Send and Receive Packets\n",
    "- Send and receive functions are the heart of Scapy\n",
    "- sr() - send L3 packets and receive answers; returns answered and unanswered packets\n",
    "- sr1() - returns only one packet that answered the sent packet\n",
    "- sr() and sr1() functions can only send layer 3 L3 packets (IP, HTTP, etc.)\n",
    "- srp() - send and receive L2 packets (ARP, Ehternet, 802.3, etc)\n",
    "- srp1() - send and receive one layer 2 packet"
   ]
  },
  {
   "cell_type": "code",
   "execution_count": 79,
   "metadata": {
    "scrolled": true
   },
   "outputs": [
    {
     "name": "stdout",
     "output_type": "stream",
     "text": [
      "Begin emission:\n",
      "Finished sending 1 packets.\n",
      "\n",
      "Received 2 packets, got 1 answers, remaining 0 packets\n"
     ]
    }
   ],
   "source": [
    "response = sr(httpPkt)"
   ]
  },
  {
   "cell_type": "code",
   "execution_count": 80,
   "metadata": {},
   "outputs": [
    {
     "data": {
      "text/plain": [
       "(\u001b[31m<\u001b[0m\u001b[32m\u001b[1m\u001b[31m\u001b[1mResults\u001b[0m\u001b[32m\u001b[1m\u001b[31m:\u001b[0m\u001b[32m\u001b[1m \u001b[33m\u001b[1mTCP\u001b[0m\u001b[32m\u001b[1m\u001b[31m:\u001b[0m\u001b[32m\u001b[1m\u001b[32m\u001b[1m1\u001b[0m\u001b[32m\u001b[1m \u001b[33m\u001b[1mUDP\u001b[0m\u001b[32m\u001b[1m\u001b[31m:\u001b[0m\u001b[32m\u001b[1m\u001b[32m\u001b[1m0\u001b[0m\u001b[32m\u001b[1m \u001b[33m\u001b[1mICMP\u001b[0m\u001b[32m\u001b[1m\u001b[31m:\u001b[0m\u001b[32m\u001b[1m\u001b[32m\u001b[1m0\u001b[0m\u001b[32m\u001b[1m \u001b[33m\u001b[1mOther\u001b[0m\u001b[32m\u001b[1m\u001b[31m:\u001b[0m\u001b[32m\u001b[1m\u001b[32m\u001b[1m0\u001b[0m\u001b[32m\u001b[1m\u001b[31m>\u001b[0m\u001b[32m\u001b[1m,\n",
       " \u001b[31m<\u001b[0m\u001b[32m\u001b[1m\u001b[31m\u001b[1mUnanswered\u001b[0m\u001b[32m\u001b[1m\u001b[31m:\u001b[0m\u001b[32m\u001b[1m \u001b[33m\u001b[1mTCP\u001b[0m\u001b[32m\u001b[1m\u001b[31m:\u001b[0m\u001b[32m\u001b[1m\u001b[32m\u001b[1m0\u001b[0m\u001b[32m\u001b[1m \u001b[33m\u001b[1mUDP\u001b[0m\u001b[32m\u001b[1m\u001b[31m:\u001b[0m\u001b[32m\u001b[1m\u001b[32m\u001b[1m0\u001b[0m\u001b[32m\u001b[1m \u001b[33m\u001b[1mICMP\u001b[0m\u001b[32m\u001b[1m\u001b[31m:\u001b[0m\u001b[32m\u001b[1m\u001b[32m\u001b[1m0\u001b[0m\u001b[32m\u001b[1m \u001b[33m\u001b[1mOther\u001b[0m\u001b[32m\u001b[1m\u001b[31m:\u001b[0m\u001b[32m\u001b[1m\u001b[32m\u001b[1m0\u001b[0m\u001b[32m\u001b[1m\u001b[31m>\u001b[0m\u001b[32m\u001b[1m)"
      ]
     },
     "execution_count": 80,
     "metadata": {},
     "output_type": "execute_result"
    }
   ],
   "source": [
    "response"
   ]
  },
  {
   "cell_type": "code",
   "execution_count": 83,
   "metadata": {},
   "outputs": [],
   "source": [
    "response[1].show()"
   ]
  },
  {
   "cell_type": "code",
   "execution_count": 84,
   "metadata": {},
   "outputs": [],
   "source": [
    "response[1].summary()"
   ]
  },
  {
   "cell_type": "markdown",
   "metadata": {},
   "source": [
    "## TCP/IP full three-way handshake"
   ]
  },
  {
   "cell_type": "markdown",
   "metadata": {},
   "source": [
    "### send SYN packet"
   ]
  },
  {
   "cell_type": "code",
   "execution_count": 85,
   "metadata": {},
   "outputs": [],
   "source": [
    "# Create syn packet\n",
    "syn = IP(dst='example.com')/TCP(dport=443, flags='S')"
   ]
  },
  {
   "cell_type": "code",
   "execution_count": 86,
   "metadata": {},
   "outputs": [
    {
     "name": "stdout",
     "output_type": "stream",
     "text": [
      "\u001b[31m###[\u001b[0m\u001b[32m\u001b[1m \u001b[31m\u001b[1mIP\u001b[0m\u001b[32m\u001b[1m \u001b[31m]###\u001b[0m\u001b[32m\u001b[1m \n",
      "  \u001b[33m\u001b[1mversion\u001b[0m\u001b[32m\u001b[1m\u001b[31m=\u001b[0m\u001b[32m\u001b[1m \u001b[32m\u001b[1m4\u001b[0m\u001b[32m\u001b[1m\n",
      "  \u001b[33m\u001b[1mihl\u001b[0m\u001b[32m\u001b[1m\u001b[31m=\u001b[0m\u001b[32m\u001b[1m \u001b[32m\u001b[1mNone\u001b[0m\u001b[32m\u001b[1m\n",
      "  \u001b[33m\u001b[1mtos\u001b[0m\u001b[32m\u001b[1m\u001b[31m=\u001b[0m\u001b[32m\u001b[1m \u001b[32m\u001b[1m0x0\u001b[0m\u001b[32m\u001b[1m\n",
      "  \u001b[33m\u001b[1mlen\u001b[0m\u001b[32m\u001b[1m\u001b[31m=\u001b[0m\u001b[32m\u001b[1m \u001b[32m\u001b[1mNone\u001b[0m\u001b[32m\u001b[1m\n",
      "  \u001b[33m\u001b[1mid\u001b[0m\u001b[32m\u001b[1m\u001b[31m=\u001b[0m\u001b[32m\u001b[1m \u001b[32m\u001b[1m1\u001b[0m\u001b[32m\u001b[1m\n",
      "  \u001b[33m\u001b[1mflags\u001b[0m\u001b[32m\u001b[1m\u001b[31m=\u001b[0m\u001b[32m\u001b[1m \u001b[32m\u001b[1m\u001b[0m\u001b[32m\u001b[1m\n",
      "  \u001b[33m\u001b[1mfrag\u001b[0m\u001b[32m\u001b[1m\u001b[31m=\u001b[0m\u001b[32m\u001b[1m \u001b[32m\u001b[1m0\u001b[0m\u001b[32m\u001b[1m\n",
      "  \u001b[33m\u001b[1mttl\u001b[0m\u001b[32m\u001b[1m\u001b[31m=\u001b[0m\u001b[32m\u001b[1m \u001b[32m\u001b[1m64\u001b[0m\u001b[32m\u001b[1m\n",
      "  \u001b[33m\u001b[1mproto\u001b[0m\u001b[32m\u001b[1m\u001b[31m=\u001b[0m\u001b[32m\u001b[1m \u001b[32m\u001b[1mtcp\u001b[0m\u001b[32m\u001b[1m\n",
      "  \u001b[33m\u001b[1mchksum\u001b[0m\u001b[32m\u001b[1m\u001b[31m=\u001b[0m\u001b[32m\u001b[1m \u001b[32m\u001b[1mNone\u001b[0m\u001b[32m\u001b[1m\n",
      "  \u001b[32msrc\u001b[0m\u001b[32m\u001b[1m\u001b[31m=\u001b[0m\u001b[32m\u001b[1m \u001b[32m192.168.195.161\u001b[0m\u001b[32m\u001b[1m\n",
      "  \u001b[32mdst\u001b[0m\u001b[32m\u001b[1m\u001b[31m=\u001b[0m\u001b[32m\u001b[1m \u001b[32mNet('example.com')\u001b[0m\u001b[32m\u001b[1m\n",
      "  \\\u001b[33m\u001b[1moptions\u001b[0m\u001b[32m\u001b[1m\\\n",
      "\u001b[31m###[\u001b[0m\u001b[32m\u001b[1m \u001b[31m\u001b[1mTCP\u001b[0m\u001b[32m\u001b[1m \u001b[31m]###\u001b[0m\u001b[32m\u001b[1m \n",
      "     \u001b[33m\u001b[1msport\u001b[0m\u001b[32m\u001b[1m\u001b[31m=\u001b[0m\u001b[32m\u001b[1m \u001b[32m\u001b[1mftp_data\u001b[0m\u001b[32m\u001b[1m\n",
      "     \u001b[33m\u001b[1mdport\u001b[0m\u001b[32m\u001b[1m\u001b[31m=\u001b[0m\u001b[32m\u001b[1m \u001b[32m\u001b[1mhttps\u001b[0m\u001b[32m\u001b[1m\n",
      "     \u001b[33m\u001b[1mseq\u001b[0m\u001b[32m\u001b[1m\u001b[31m=\u001b[0m\u001b[32m\u001b[1m \u001b[32m\u001b[1m0\u001b[0m\u001b[32m\u001b[1m\n",
      "     \u001b[33m\u001b[1mack\u001b[0m\u001b[32m\u001b[1m\u001b[31m=\u001b[0m\u001b[32m\u001b[1m \u001b[32m\u001b[1m0\u001b[0m\u001b[32m\u001b[1m\n",
      "     \u001b[33m\u001b[1mdataofs\u001b[0m\u001b[32m\u001b[1m\u001b[31m=\u001b[0m\u001b[32m\u001b[1m \u001b[32m\u001b[1mNone\u001b[0m\u001b[32m\u001b[1m\n",
      "     \u001b[33m\u001b[1mreserved\u001b[0m\u001b[32m\u001b[1m\u001b[31m=\u001b[0m\u001b[32m\u001b[1m \u001b[32m\u001b[1m0\u001b[0m\u001b[32m\u001b[1m\n",
      "     \u001b[33m\u001b[1mflags\u001b[0m\u001b[32m\u001b[1m\u001b[31m=\u001b[0m\u001b[32m\u001b[1m \u001b[32m\u001b[1mS\u001b[0m\u001b[32m\u001b[1m\n",
      "     \u001b[33m\u001b[1mwindow\u001b[0m\u001b[32m\u001b[1m\u001b[31m=\u001b[0m\u001b[32m\u001b[1m \u001b[32m\u001b[1m8192\u001b[0m\u001b[32m\u001b[1m\n",
      "     \u001b[33m\u001b[1mchksum\u001b[0m\u001b[32m\u001b[1m\u001b[31m=\u001b[0m\u001b[32m\u001b[1m \u001b[32m\u001b[1mNone\u001b[0m\u001b[32m\u001b[1m\n",
      "     \u001b[33m\u001b[1murgptr\u001b[0m\u001b[32m\u001b[1m\u001b[31m=\u001b[0m\u001b[32m\u001b[1m \u001b[32m\u001b[1m0\u001b[0m\u001b[32m\u001b[1m\n",
      "     \u001b[33m\u001b[1moptions\u001b[0m\u001b[32m\u001b[1m\u001b[31m=\u001b[0m\u001b[32m\u001b[1m \u001b[32m\u001b[1m[]\u001b[0m\u001b[32m\u001b[1m\n",
      "\n"
     ]
    }
   ],
   "source": [
    "syn.show()"
   ]
  },
  {
   "cell_type": "code",
   "execution_count": 87,
   "metadata": {},
   "outputs": [
    {
     "name": "stdout",
     "output_type": "stream",
     "text": [
      "Begin emission:\n",
      "Finished sending 1 packets.\n",
      "\n",
      "Received 2 packets, got 1 answers, remaining 0 packets\n"
     ]
    }
   ],
   "source": [
    "# Receive SYN-ACK packet\n",
    "syn_ack = sr1(syn)"
   ]
  },
  {
   "cell_type": "code",
   "execution_count": 88,
   "metadata": {},
   "outputs": [
    {
     "name": "stdout",
     "output_type": "stream",
     "text": [
      "\u001b[31m###[\u001b[0m\u001b[32m\u001b[1m \u001b[31m\u001b[1mIP\u001b[0m\u001b[32m\u001b[1m \u001b[31m]###\u001b[0m\u001b[32m\u001b[1m \n",
      "  \u001b[33m\u001b[1mversion\u001b[0m\u001b[32m\u001b[1m\u001b[31m=\u001b[0m\u001b[32m\u001b[1m \u001b[32m\u001b[1m4\u001b[0m\u001b[32m\u001b[1m\n",
      "  \u001b[33m\u001b[1mihl\u001b[0m\u001b[32m\u001b[1m\u001b[31m=\u001b[0m\u001b[32m\u001b[1m \u001b[32m\u001b[1m5\u001b[0m\u001b[32m\u001b[1m\n",
      "  \u001b[33m\u001b[1mtos\u001b[0m\u001b[32m\u001b[1m\u001b[31m=\u001b[0m\u001b[32m\u001b[1m \u001b[32m\u001b[1m0x0\u001b[0m\u001b[32m\u001b[1m\n",
      "  \u001b[33m\u001b[1mlen\u001b[0m\u001b[32m\u001b[1m\u001b[31m=\u001b[0m\u001b[32m\u001b[1m \u001b[32m\u001b[1m44\u001b[0m\u001b[32m\u001b[1m\n",
      "  \u001b[33m\u001b[1mid\u001b[0m\u001b[32m\u001b[1m\u001b[31m=\u001b[0m\u001b[32m\u001b[1m \u001b[32m\u001b[1m2061\u001b[0m\u001b[32m\u001b[1m\n",
      "  \u001b[33m\u001b[1mflags\u001b[0m\u001b[32m\u001b[1m\u001b[31m=\u001b[0m\u001b[32m\u001b[1m \u001b[32m\u001b[1m\u001b[0m\u001b[32m\u001b[1m\n",
      "  \u001b[33m\u001b[1mfrag\u001b[0m\u001b[32m\u001b[1m\u001b[31m=\u001b[0m\u001b[32m\u001b[1m \u001b[32m\u001b[1m0\u001b[0m\u001b[32m\u001b[1m\n",
      "  \u001b[33m\u001b[1mttl\u001b[0m\u001b[32m\u001b[1m\u001b[31m=\u001b[0m\u001b[32m\u001b[1m \u001b[32m\u001b[1m128\u001b[0m\u001b[32m\u001b[1m\n",
      "  \u001b[33m\u001b[1mproto\u001b[0m\u001b[32m\u001b[1m\u001b[31m=\u001b[0m\u001b[32m\u001b[1m \u001b[32m\u001b[1mtcp\u001b[0m\u001b[32m\u001b[1m\n",
      "  \u001b[33m\u001b[1mchksum\u001b[0m\u001b[32m\u001b[1m\u001b[31m=\u001b[0m\u001b[32m\u001b[1m \u001b[32m\u001b[1m0x789a\u001b[0m\u001b[32m\u001b[1m\n",
      "  \u001b[32msrc\u001b[0m\u001b[32m\u001b[1m\u001b[31m=\u001b[0m\u001b[32m\u001b[1m \u001b[32m93.184.216.34\u001b[0m\u001b[32m\u001b[1m\n",
      "  \u001b[32mdst\u001b[0m\u001b[32m\u001b[1m\u001b[31m=\u001b[0m\u001b[32m\u001b[1m \u001b[32m192.168.195.161\u001b[0m\u001b[32m\u001b[1m\n",
      "  \\\u001b[33m\u001b[1moptions\u001b[0m\u001b[32m\u001b[1m\\\n",
      "\u001b[31m###[\u001b[0m\u001b[32m\u001b[1m \u001b[31m\u001b[1mTCP\u001b[0m\u001b[32m\u001b[1m \u001b[31m]###\u001b[0m\u001b[32m\u001b[1m \n",
      "     \u001b[33m\u001b[1msport\u001b[0m\u001b[32m\u001b[1m\u001b[31m=\u001b[0m\u001b[32m\u001b[1m \u001b[32m\u001b[1mhttps\u001b[0m\u001b[32m\u001b[1m\n",
      "     \u001b[33m\u001b[1mdport\u001b[0m\u001b[32m\u001b[1m\u001b[31m=\u001b[0m\u001b[32m\u001b[1m \u001b[32m\u001b[1mftp_data\u001b[0m\u001b[32m\u001b[1m\n",
      "     \u001b[33m\u001b[1mseq\u001b[0m\u001b[32m\u001b[1m\u001b[31m=\u001b[0m\u001b[32m\u001b[1m \u001b[32m\u001b[1m656966020\u001b[0m\u001b[32m\u001b[1m\n",
      "     \u001b[33m\u001b[1mack\u001b[0m\u001b[32m\u001b[1m\u001b[31m=\u001b[0m\u001b[32m\u001b[1m \u001b[32m\u001b[1m1\u001b[0m\u001b[32m\u001b[1m\n",
      "     \u001b[33m\u001b[1mdataofs\u001b[0m\u001b[32m\u001b[1m\u001b[31m=\u001b[0m\u001b[32m\u001b[1m \u001b[32m\u001b[1m6\u001b[0m\u001b[32m\u001b[1m\n",
      "     \u001b[33m\u001b[1mreserved\u001b[0m\u001b[32m\u001b[1m\u001b[31m=\u001b[0m\u001b[32m\u001b[1m \u001b[32m\u001b[1m0\u001b[0m\u001b[32m\u001b[1m\n",
      "     \u001b[33m\u001b[1mflags\u001b[0m\u001b[32m\u001b[1m\u001b[31m=\u001b[0m\u001b[32m\u001b[1m \u001b[32m\u001b[1mSA\u001b[0m\u001b[32m\u001b[1m\n",
      "     \u001b[33m\u001b[1mwindow\u001b[0m\u001b[32m\u001b[1m\u001b[31m=\u001b[0m\u001b[32m\u001b[1m \u001b[32m\u001b[1m64240\u001b[0m\u001b[32m\u001b[1m\n",
      "     \u001b[33m\u001b[1mchksum\u001b[0m\u001b[32m\u001b[1m\u001b[31m=\u001b[0m\u001b[32m\u001b[1m \u001b[32m\u001b[1m0x3884\u001b[0m\u001b[32m\u001b[1m\n",
      "     \u001b[33m\u001b[1murgptr\u001b[0m\u001b[32m\u001b[1m\u001b[31m=\u001b[0m\u001b[32m\u001b[1m \u001b[32m\u001b[1m0\u001b[0m\u001b[32m\u001b[1m\n",
      "     \u001b[33m\u001b[1moptions\u001b[0m\u001b[32m\u001b[1m\u001b[31m=\u001b[0m\u001b[32m\u001b[1m \u001b[32m\u001b[1m[('MSS', 1460)]\u001b[0m\u001b[32m\u001b[1m\n",
      "\u001b[31m###[\u001b[0m\u001b[32m\u001b[1m \u001b[31m\u001b[1mPadding\u001b[0m\u001b[32m\u001b[1m \u001b[31m]###\u001b[0m\u001b[32m\u001b[1m \n",
      "        \u001b[33m\u001b[1mload\u001b[0m\u001b[32m\u001b[1m\u001b[31m=\u001b[0m\u001b[32m\u001b[1m \u001b[32m\u001b[1m'\\x00\\x00'\u001b[0m\u001b[32m\u001b[1m\n",
      "\n"
     ]
    }
   ],
   "source": [
    "syn_ack.show()"
   ]
  },
  {
   "cell_type": "code",
   "execution_count": 89,
   "metadata": {},
   "outputs": [
    {
     "name": "stdout",
     "output_type": "stream",
     "text": [
      "Begin emission:\n",
      "Finished sending 1 packets.\n",
      "\n",
      "Received 2 packets, got 1 answers, remaining 0 packets\n"
     ]
    }
   ],
   "source": [
    "# Send Get request\n",
    "getStr = 'GET / HTTP1.1\\r\\nHost:example.com\\r\\n\\r\\n'\n",
    "request = IP(dst='example.com') / TCP(dport=443, sport=syn_ack[TCP].dport, \n",
    "                                        seq=syn_ack[TCP].ack, ack=syn_ack[TCP].seq+1, \n",
    "                                        flags='A') / getStr\n",
    "reply = sr1(request)"
   ]
  },
  {
   "cell_type": "code",
   "execution_count": 90,
   "metadata": {
    "scrolled": true
   },
   "outputs": [
    {
     "name": "stdout",
     "output_type": "stream",
     "text": [
      "\u001b[31m###[\u001b[0m\u001b[32m\u001b[1m \u001b[31m\u001b[1mIP\u001b[0m\u001b[32m\u001b[1m \u001b[31m]###\u001b[0m\u001b[32m\u001b[1m \n",
      "  \u001b[33m\u001b[1mversion\u001b[0m\u001b[32m\u001b[1m\u001b[31m=\u001b[0m\u001b[32m\u001b[1m \u001b[32m\u001b[1m4\u001b[0m\u001b[32m\u001b[1m\n",
      "  \u001b[33m\u001b[1mihl\u001b[0m\u001b[32m\u001b[1m\u001b[31m=\u001b[0m\u001b[32m\u001b[1m \u001b[32m\u001b[1m5\u001b[0m\u001b[32m\u001b[1m\n",
      "  \u001b[33m\u001b[1mtos\u001b[0m\u001b[32m\u001b[1m\u001b[31m=\u001b[0m\u001b[32m\u001b[1m \u001b[32m\u001b[1m0x0\u001b[0m\u001b[32m\u001b[1m\n",
      "  \u001b[33m\u001b[1mlen\u001b[0m\u001b[32m\u001b[1m\u001b[31m=\u001b[0m\u001b[32m\u001b[1m \u001b[32m\u001b[1m40\u001b[0m\u001b[32m\u001b[1m\n",
      "  \u001b[33m\u001b[1mid\u001b[0m\u001b[32m\u001b[1m\u001b[31m=\u001b[0m\u001b[32m\u001b[1m \u001b[32m\u001b[1m2082\u001b[0m\u001b[32m\u001b[1m\n",
      "  \u001b[33m\u001b[1mflags\u001b[0m\u001b[32m\u001b[1m\u001b[31m=\u001b[0m\u001b[32m\u001b[1m \u001b[32m\u001b[1m\u001b[0m\u001b[32m\u001b[1m\n",
      "  \u001b[33m\u001b[1mfrag\u001b[0m\u001b[32m\u001b[1m\u001b[31m=\u001b[0m\u001b[32m\u001b[1m \u001b[32m\u001b[1m0\u001b[0m\u001b[32m\u001b[1m\n",
      "  \u001b[33m\u001b[1mttl\u001b[0m\u001b[32m\u001b[1m\u001b[31m=\u001b[0m\u001b[32m\u001b[1m \u001b[32m\u001b[1m128\u001b[0m\u001b[32m\u001b[1m\n",
      "  \u001b[33m\u001b[1mproto\u001b[0m\u001b[32m\u001b[1m\u001b[31m=\u001b[0m\u001b[32m\u001b[1m \u001b[32m\u001b[1mtcp\u001b[0m\u001b[32m\u001b[1m\n",
      "  \u001b[33m\u001b[1mchksum\u001b[0m\u001b[32m\u001b[1m\u001b[31m=\u001b[0m\u001b[32m\u001b[1m \u001b[32m\u001b[1m0x7889\u001b[0m\u001b[32m\u001b[1m\n",
      "  \u001b[32msrc\u001b[0m\u001b[32m\u001b[1m\u001b[31m=\u001b[0m\u001b[32m\u001b[1m \u001b[32m93.184.216.34\u001b[0m\u001b[32m\u001b[1m\n",
      "  \u001b[32mdst\u001b[0m\u001b[32m\u001b[1m\u001b[31m=\u001b[0m\u001b[32m\u001b[1m \u001b[32m192.168.195.161\u001b[0m\u001b[32m\u001b[1m\n",
      "  \\\u001b[33m\u001b[1moptions\u001b[0m\u001b[32m\u001b[1m\\\n",
      "\u001b[31m###[\u001b[0m\u001b[32m\u001b[1m \u001b[31m\u001b[1mTCP\u001b[0m\u001b[32m\u001b[1m \u001b[31m]###\u001b[0m\u001b[32m\u001b[1m \n",
      "     \u001b[33m\u001b[1msport\u001b[0m\u001b[32m\u001b[1m\u001b[31m=\u001b[0m\u001b[32m\u001b[1m \u001b[32m\u001b[1mhttps\u001b[0m\u001b[32m\u001b[1m\n",
      "     \u001b[33m\u001b[1mdport\u001b[0m\u001b[32m\u001b[1m\u001b[31m=\u001b[0m\u001b[32m\u001b[1m \u001b[32m\u001b[1mftp_data\u001b[0m\u001b[32m\u001b[1m\n",
      "     \u001b[33m\u001b[1mseq\u001b[0m\u001b[32m\u001b[1m\u001b[31m=\u001b[0m\u001b[32m\u001b[1m \u001b[32m\u001b[1m656966021\u001b[0m\u001b[32m\u001b[1m\n",
      "     \u001b[33m\u001b[1mack\u001b[0m\u001b[32m\u001b[1m\u001b[31m=\u001b[0m\u001b[32m\u001b[1m \u001b[32m\u001b[1m0\u001b[0m\u001b[32m\u001b[1m\n",
      "     \u001b[33m\u001b[1mdataofs\u001b[0m\u001b[32m\u001b[1m\u001b[31m=\u001b[0m\u001b[32m\u001b[1m \u001b[32m\u001b[1m5\u001b[0m\u001b[32m\u001b[1m\n",
      "     \u001b[33m\u001b[1mreserved\u001b[0m\u001b[32m\u001b[1m\u001b[31m=\u001b[0m\u001b[32m\u001b[1m \u001b[32m\u001b[1m0\u001b[0m\u001b[32m\u001b[1m\n",
      "     \u001b[33m\u001b[1mflags\u001b[0m\u001b[32m\u001b[1m\u001b[31m=\u001b[0m\u001b[32m\u001b[1m \u001b[32m\u001b[1mR\u001b[0m\u001b[32m\u001b[1m\n",
      "     \u001b[33m\u001b[1mwindow\u001b[0m\u001b[32m\u001b[1m\u001b[31m=\u001b[0m\u001b[32m\u001b[1m \u001b[32m\u001b[1m32767\u001b[0m\u001b[32m\u001b[1m\n",
      "     \u001b[33m\u001b[1mchksum\u001b[0m\u001b[32m\u001b[1m\u001b[31m=\u001b[0m\u001b[32m\u001b[1m \u001b[32m\u001b[1m0xcb3f\u001b[0m\u001b[32m\u001b[1m\n",
      "     \u001b[33m\u001b[1murgptr\u001b[0m\u001b[32m\u001b[1m\u001b[31m=\u001b[0m\u001b[32m\u001b[1m \u001b[32m\u001b[1m0\u001b[0m\u001b[32m\u001b[1m\n",
      "     \u001b[33m\u001b[1moptions\u001b[0m\u001b[32m\u001b[1m\u001b[31m=\u001b[0m\u001b[32m\u001b[1m \u001b[32m\u001b[1m[]\u001b[0m\u001b[32m\u001b[1m\n",
      "\u001b[31m###[\u001b[0m\u001b[32m\u001b[1m \u001b[31m\u001b[1mPadding\u001b[0m\u001b[32m\u001b[1m \u001b[31m]###\u001b[0m\u001b[32m\u001b[1m \n",
      "        \u001b[33m\u001b[1mload\u001b[0m\u001b[32m\u001b[1m\u001b[31m=\u001b[0m\u001b[32m\u001b[1m \u001b[32m\u001b[1m'\\x00\\x00\\x00\\x00\\x00\\x00'\u001b[0m\u001b[32m\u001b[1m\n",
      "\n"
     ]
    }
   ],
   "source": [
    "reply.show()"
   ]
  },
  {
   "cell_type": "code",
   "execution_count": 52,
   "metadata": {},
   "outputs": [
    {
     "data": {
      "text/plain": [
       "'IP / TCP 93.184.216.34:http > 192.168.195.161:ftp_data R / Padding'"
      ]
     },
     "execution_count": 52,
     "metadata": {},
     "output_type": "execute_result"
    }
   ],
   "source": [
    "reply.summary()"
   ]
  },
  {
   "cell_type": "code",
   "execution_count": 53,
   "metadata": {},
   "outputs": [
    {
     "name": "stdout",
     "output_type": "stream",
     "text": [
      "Begin emission:\n",
      "Finished sending 1 packets.\n",
      "\n",
      "Received 1 packets, got 1 answers, remaining 0 packets\n"
     ]
    },
    {
     "data": {
      "text/plain": [
       "(\u001b[31m<\u001b[0m\u001b[32m\u001b[1m\u001b[31m\u001b[1mResults\u001b[0m\u001b[32m\u001b[1m\u001b[31m:\u001b[0m\u001b[32m\u001b[1m \u001b[33m\u001b[1mTCP\u001b[0m\u001b[32m\u001b[1m\u001b[31m:\u001b[0m\u001b[32m\u001b[1m\u001b[32m\u001b[1m1\u001b[0m\u001b[32m\u001b[1m \u001b[33m\u001b[1mUDP\u001b[0m\u001b[32m\u001b[1m\u001b[31m:\u001b[0m\u001b[32m\u001b[1m\u001b[32m\u001b[1m0\u001b[0m\u001b[32m\u001b[1m \u001b[33m\u001b[1mICMP\u001b[0m\u001b[32m\u001b[1m\u001b[31m:\u001b[0m\u001b[32m\u001b[1m\u001b[32m\u001b[1m0\u001b[0m\u001b[32m\u001b[1m \u001b[33m\u001b[1mOther\u001b[0m\u001b[32m\u001b[1m\u001b[31m:\u001b[0m\u001b[32m\u001b[1m\u001b[32m\u001b[1m0\u001b[0m\u001b[32m\u001b[1m\u001b[31m>\u001b[0m\u001b[32m\u001b[1m,\n",
       " \u001b[31m<\u001b[0m\u001b[32m\u001b[1m\u001b[31m\u001b[1mUnanswered\u001b[0m\u001b[32m\u001b[1m\u001b[31m:\u001b[0m\u001b[32m\u001b[1m \u001b[33m\u001b[1mTCP\u001b[0m\u001b[32m\u001b[1m\u001b[31m:\u001b[0m\u001b[32m\u001b[1m\u001b[32m\u001b[1m0\u001b[0m\u001b[32m\u001b[1m \u001b[33m\u001b[1mUDP\u001b[0m\u001b[32m\u001b[1m\u001b[31m:\u001b[0m\u001b[32m\u001b[1m\u001b[32m\u001b[1m0\u001b[0m\u001b[32m\u001b[1m \u001b[33m\u001b[1mICMP\u001b[0m\u001b[32m\u001b[1m\u001b[31m:\u001b[0m\u001b[32m\u001b[1m\u001b[32m\u001b[1m0\u001b[0m\u001b[32m\u001b[1m \u001b[33m\u001b[1mOther\u001b[0m\u001b[32m\u001b[1m\u001b[31m:\u001b[0m\u001b[32m\u001b[1m\u001b[32m\u001b[1m0\u001b[0m\u001b[32m\u001b[1m\u001b[31m>\u001b[0m\u001b[32m\u001b[1m)"
      ]
     },
     "execution_count": 53,
     "metadata": {},
     "output_type": "execute_result"
    }
   ],
   "source": [
    "tcpip = IP(dst=\"example.com\") / TCP(dport=80) # tcp packet needs dest port\n",
    "reply = sr(tcpip)\n",
    "reply"
   ]
  },
  {
   "cell_type": "code",
   "execution_count": 54,
   "metadata": {},
   "outputs": [],
   "source": [
    "ans, unans = reply "
   ]
  },
  {
   "cell_type": "code",
   "execution_count": 55,
   "metadata": {},
   "outputs": [
    {
     "name": "stdout",
     "output_type": "stream",
     "text": [
      "IP / TCP 192.168.195.161:ftp_data > 93.184.216.34:http S ==> IP / TCP 93.184.216.34:http > 192.168.195.161:ftp_data SA / Padding\n"
     ]
    }
   ],
   "source": [
    "ans.summary()"
   ]
  },
  {
   "cell_type": "code",
   "execution_count": 56,
   "metadata": {},
   "outputs": [
    {
     "data": {
      "text/plain": [
       "\u001b[31m<\u001b[0m\u001b[32m\u001b[1m\u001b[31m\u001b[1mUnanswered\u001b[0m\u001b[32m\u001b[1m\u001b[31m:\u001b[0m\u001b[32m\u001b[1m \u001b[33m\u001b[1mTCP\u001b[0m\u001b[32m\u001b[1m\u001b[31m:\u001b[0m\u001b[32m\u001b[1m\u001b[32m\u001b[1m0\u001b[0m\u001b[32m\u001b[1m \u001b[33m\u001b[1mUDP\u001b[0m\u001b[32m\u001b[1m\u001b[31m:\u001b[0m\u001b[32m\u001b[1m\u001b[32m\u001b[1m0\u001b[0m\u001b[32m\u001b[1m \u001b[33m\u001b[1mICMP\u001b[0m\u001b[32m\u001b[1m\u001b[31m:\u001b[0m\u001b[32m\u001b[1m\u001b[32m\u001b[1m0\u001b[0m\u001b[32m\u001b[1m \u001b[33m\u001b[1mOther\u001b[0m\u001b[32m\u001b[1m\u001b[31m:\u001b[0m\u001b[32m\u001b[1m\u001b[32m\u001b[1m0\u001b[0m\u001b[32m\u001b[1m\u001b[31m>\u001b[0m\u001b[32m\u001b[1m"
      ]
     },
     "execution_count": 56,
     "metadata": {},
     "output_type": "execute_result"
    }
   ],
   "source": [
    "unans"
   ]
  },
  {
   "cell_type": "markdown",
   "metadata": {},
   "source": [
    "## TCP Syn Flooding\n",
    "-  Not quite working with Scapy but should world with netwox\n",
    "- form of DoS attack where attacker doesn't complete 3-way handshake by not sending ACK packet after receiving SYN-ACK from server\n",
    "- attacker typically floods the victim's half-opened connections\n",
    "- when queue is full, victim cannot take any more new connection\n",
    "- See Taks 1 here: http://www.cis.syr.edu/~wedu/seed/Labs_16.04/Networking/TCP_Attacks/TCP_Attacks.pdf\n",
    "- queue size can be viwed by using the following command"
   ]
  },
  {
   "cell_type": "code",
   "execution_count": 58,
   "metadata": {
    "scrolled": true
   },
   "outputs": [
    {
     "name": "stdout",
     "output_type": "stream",
     "text": [
      "net.ipv4.tcp_max_syn_backlog = 512\r\n"
     ]
    }
   ],
   "source": [
    "# on a server VM, run the following command\n",
    "# Run SEEDLab VM which has Apache server running\n",
    "! sysctl -q net.ipv4.tcp_max_syn_backlog"
   ]
  },
  {
   "cell_type": "code",
   "execution_count": 59,
   "metadata": {},
   "outputs": [
    {
     "name": "stdout",
     "output_type": "stream",
     "text": [
      "net.ipv4.tcp_syncookies = 1\r\n",
      "net.netfilter.nf_conntrack_sctp_timeout_cookie_echoed = 3\r\n",
      "net.netfilter.nf_conntrack_sctp_timeout_cookie_wait = 3\r\n"
     ]
    }
   ],
   "source": [
    "# Turn of SYN cookie countermeasure\n",
    "! sudo sysctl -a | grep cookie #(Display the SYN cookie flag)"
   ]
  },
  {
   "cell_type": "code",
   "execution_count": null,
   "metadata": {},
   "outputs": [],
   "source": [
    "! sysctl -w net.ipv4.tcp_syncookies=0 #(turn off SYN cookie)"
   ]
  },
  {
   "cell_type": "code",
   "execution_count": null,
   "metadata": {
    "scrolled": false
   },
   "outputs": [],
   "source": [
    "# the following command shows all the halfopen connections\n",
    "! netstat -na | grep SYN-RECV"
   ]
  },
  {
   "cell_type": "code",
   "execution_count": null,
   "metadata": {},
   "outputs": [],
   "source": [
    "# send SYN PACKET To the server and check for SYN-RECV status\n",
    "pkt = IP(dst=\"192.168.100.5\")/TCP(dport=80)\n",
    "reply = sr1(pkt)"
   ]
  },
  {
   "cell_type": "code",
   "execution_count": null,
   "metadata": {},
   "outputs": [],
   "source": [
    "reply.show()"
   ]
  },
  {
   "cell_type": "markdown",
   "metadata": {},
   "source": [
    "## Create ping request\n",
    "- IP packet with ICMP echo request and some payload\n",
    "- send the packet and capture it with wireshark"
   ]
  },
  {
   "cell_type": "code",
   "execution_count": 3,
   "metadata": {},
   "outputs": [],
   "source": [
    "ping = IP(src=\"192.168.195.161\", dst=\"192.168.195.167\") / ICMP() / \"Hey there, are you up?\""
   ]
  },
  {
   "cell_type": "code",
   "execution_count": 4,
   "metadata": {},
   "outputs": [
    {
     "name": "stdout",
     "output_type": "stream",
     "text": [
      "###[ IP ]### \n",
      "  version   = 4\n",
      "  ihl       = None\n",
      "  tos       = 0x0\n",
      "  len       = None\n",
      "  id        = 1\n",
      "  flags     = \n",
      "  frag      = 0\n",
      "  ttl       = 64\n",
      "  proto     = icmp\n",
      "  chksum    = None\n",
      "  src       = 192.168.195.161\n",
      "  dst       = 192.168.195.167\n",
      "  \\options   \\\n",
      "###[ ICMP ]### \n",
      "     type      = echo-request\n",
      "     code      = 0\n",
      "     chksum    = None\n",
      "     id        = 0x0\n",
      "     seq       = 0x0\n",
      "###[ Raw ]### \n",
      "        load      = 'Hey there, are you up?'\n",
      "\n"
     ]
    }
   ],
   "source": [
    "ping.show()"
   ]
  },
  {
   "cell_type": "code",
   "execution_count": 5,
   "metadata": {},
   "outputs": [
    {
     "name": "stdout",
     "output_type": "stream",
     "text": [
      "\n",
      "Sent 1 packets.\n",
      "."
     ]
    }
   ],
   "source": [
    "send(ping)"
   ]
  },
  {
   "cell_type": "code",
   "execution_count": 6,
   "metadata": {},
   "outputs": [
    {
     "name": "stdout",
     "output_type": "stream",
     "text": [
      "Begin emission:\n",
      "Finished sending 1 packets.\n",
      "*\n",
      "Received 1 packets, got 1 answers, remaining 0 packets\n",
      "###[ IP ]### \n",
      "  version   = 4\n",
      "  ihl       = 5\n",
      "  tos       = 0x0\n",
      "  len       = 50\n",
      "  id        = 30319\n",
      "  flags     = \n",
      "  frag      = 0\n",
      "  ttl       = 64\n",
      "  proto     = icmp\n",
      "  chksum    = 0xfbc1\n",
      "  src       = 192.168.195.167\n",
      "  dst       = 192.168.195.161\n",
      "  \\options   \\\n",
      "###[ ICMP ]### \n",
      "     type      = echo-reply\n",
      "     code      = 0\n",
      "     chksum    = 0x4c09\n",
      "     id        = 0x0\n",
      "     seq       = 0x0\n",
      "###[ Raw ]### \n",
      "        load      = 'Hey there, are you up?'\n",
      "\n"
     ]
    }
   ],
   "source": [
    "reply = sr1(ping)\n",
    "reply.show()"
   ]
  },
  {
   "cell_type": "code",
   "execution_count": null,
   "metadata": {},
   "outputs": [],
   "source": [
    "reply['Raw']"
   ]
  },
  {
   "cell_type": "markdown",
   "metadata": {},
   "source": [
    "## Exercise\n",
    "- Spoof src IP and ping some IP in research/controlled network\n",
    "- "
   ]
  },
  {
   "cell_type": "code",
   "execution_count": null,
   "metadata": {},
   "outputs": [],
   "source": []
  }
 ],
 "metadata": {
  "kernelspec": {
   "display_name": "Python 3 (ipykernel)",
   "language": "python",
   "name": "python3"
  },
  "language_info": {
   "codemirror_mode": {
    "name": "ipython",
    "version": 3
   },
   "file_extension": ".py",
   "mimetype": "text/x-python",
   "name": "python",
   "nbconvert_exporter": "python",
   "pygments_lexer": "ipython3",
   "version": "3.9.12"
  }
 },
 "nbformat": 4,
 "nbformat_minor": 2
}
