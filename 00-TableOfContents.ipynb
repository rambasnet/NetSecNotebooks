{
 "cells": [
  {
   "cell_type": "markdown",
   "metadata": {},
   "source": [
    "# Network & Exploitation\n",
    "\n",
    "## Table of Contents\n",
    "\n",
    "- **[Networking](./Networking.ipynb)**\n",
    "- **[Network Utilities](./NetworkUtility.ipynb)**\n",
    "- **[Network Exploitation](./NetworkExploitation.ipynb)**\n",
    "- **[Network Sniffing](./NetworkSniffing.ipynb)**\n",
    "- **[Scapy Introduction](./ScapyIntro.ipynb)**\n",
    "- **[Scapy Send Receive Packets](./ScapySendReceivePackets.ipynb)**\n",
    "- **[Sniffing with Scapy](./SniffingWithScapy.ipynb)**\n",
    "- **[Traceroute Scapy vs Bash](./Traceroute-BashVsScapy.ipynb)**\n",
    "- **[Scapy Scripts](./ScapyScripts.ipynb)**"
   ]
  },
  {
   "cell_type": "code",
   "execution_count": null,
   "metadata": {},
   "outputs": [],
   "source": []
  }
 ],
 "metadata": {
  "kernelspec": {
   "display_name": "Python 3",
   "language": "python",
   "name": "python3"
  },
  "language_info": {
   "codemirror_mode": {
    "name": "ipython",
    "version": 3
   },
   "file_extension": ".py",
   "mimetype": "text/x-python",
   "name": "python",
   "nbconvert_exporter": "python",
   "pygments_lexer": "ipython3",
   "version": "3.9.2"
  }
 },
 "nbformat": 4,
 "nbformat_minor": 2
}
