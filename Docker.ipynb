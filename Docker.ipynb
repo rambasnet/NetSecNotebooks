{
 "cells": [
  {
   "cell_type": "markdown",
   "id": "b36513a1-eca3-49f6-b328-c3183578d966",
   "metadata": {},
   "source": [
    "# Docker\n",
    "\n",
    "## Install Docker & Docker Compose\n",
    "- if you download and use SEED VM Ubuntu 20.04 from https://seedsecuritylabs.org/labs.html, you already have docker installed and configured\n",
    "- if you use your own Ubuntu/Kali, follow the instructions from the following link:\n",
    "     - https://www.kali.org/docs/containers/installing-docker-on-kali/#installing-docker-ce-on-kali-linux\n",
    "\n",
    "- `$ sudo apt install -y docker-compose`\n",
    "- Docker Manual from SEEDLabs\n",
    "- [https://github.com/seed-labs/seed-labs/blob/master/manuals/docker/SEEDManual-Container.md](https://github.com/seed-labs/seed-labs/blob/master/manuals/docker/SEEDManual-Container.md)"
   ]
  },
  {
   "cell_type": "code",
   "execution_count": 1,
   "id": "87366d6d-1b2c-40b5-9763-17eb5a7fea7f",
   "metadata": {},
   "outputs": [
    {
     "name": "stdout",
     "output_type": "stream",
     "text": [
      "Reading package lists... Done\n",
      "Building dependency tree... Done\n",
      "Reading state information... Done\n",
      "docker-compose is already the newest version (1.29.2-6).\n",
      "The following packages were automatically installed and are no longer required:\n",
      "  fonts-noto-color-emoji libabsl20220623 libaio1 libatk-adaptor libbabeltrace1\n",
      "  libboost-dev libboost1.83-dev libc6-dbg libdebuginfod-common libipt2\n",
      "  libnsl-dev libopenblas-dev libopenblas-pthread-dev libopenblas0\n",
      "  libpython3-all-dev libpython3.12-dev libsource-highlight-common\n",
      "  libsource-highlight4t64 libtirpc-dev libxsimd-dev python3-all-dev\n",
      "  python3-anyjson python3-beniget python3-gast python3-pyatspi python3-pypdf2\n",
      "  python3-pyppeteer python3-pyrsistent python3-pythran python3.12-dev xtl-dev\n",
      "Use 'sudo apt autoremove' to remove them.\n",
      "0 upgraded, 0 newly installed, 0 to remove and 1327 not upgraded.\n"
     ]
    }
   ],
   "source": [
    "! echo kali | sudo -S apt install -y docker-compose"
   ]
  },
  {
   "cell_type": "markdown",
   "id": "a0aa670b-ac4f-4390-a0ee-5980ecec44ad",
   "metadata": {},
   "source": [
    "## Docker Networks Demo\n",
    "\n",
    "- see `demos/docker/networks/docker-compose.yml` file for two private networks demo\n",
    "- "
   ]
  },
  {
   "cell_type": "markdown",
   "id": "4d5afe90-8a9b-406e-a62f-579efb827890",
   "metadata": {},
   "source": [
    "## Docker MitM Attack Demo\n",
    "\n",
    "- See `demos/docker/mitm/docker-compose.yml` file for a docker network demo using docker-compose\n",
    "- Creates 3 hosts/services:\n",
    "    - attacker - host\n",
    "    - server - metasploitable2\n",
    "    - client\n",
    "- creates a network using subnet: 10.10.0.0/24\n",
    "    \n",
    "- change working directoy to `demos/docker`\n",
    "- run the following commands\n",
    "- `$ sudo docker-compose build`\n",
    "- `$ sudo docker-compose up`\n",
    "- `$ sudo docker-compose down`\n",
    "\n",
    "## Important Docker Commands\n",
    "\n",
    "- `$ sudo docker ps`\n",
    "- `$ sudo docker exec -it <container-name/id> <bash command; e.g. /bin/bash>`\n",
    "- `$ sudo docker image ls`\n",
    "- `$ sudo docker image rm <image-id>`\n",
    "- `$ sudo docker network ls`\n",
    "- `$ sudo docker network rm <network-id>`\n",
    "    \n",
    "## Docker Server\n",
    "    \n",
    "- run /bin/bash on server container\n",
    "- see all the open ports\n",
    "    \n",
    "- `$ sudo docker exect -it server /bin/bash`\n",
    "- `root@server:/# sudo netstat -tulpn | grep LISTEN`\n",
    "- `$ nmap localhost`\n",
    "- `$ ifconfig`\n",
    "- ping client\n",
    "\n",
    "\n",
    "## Docker Client\n",
    "- run bash command on docker client container\n",
    "- ping seerver\n",
    "- telnet server\n",
    "- `$ telnet 10.10.0.2`\n",
    "- use account: msfadmin:msfadmin\n",
    "- install ftp client\n",
    "- `$ apt update`\n",
    "- `$ apt install -y ftp`\n",
    "- ftp to server\n",
    "- `ftp <server_ip>`; use account: msfadmin:msfadmin\n",
    "    \n",
    "    \n",
    "## Attacker container\n",
    "- install nmap\n",
    "- `$ apt update`\n",
    "- `$ apt install nmap`\n",
    "- `$ nmap 10.10.0.2`\n",
    "- install dnsiff package for arpspoof\n",
    "- `$ apt install -y dsniff`\n",
    "- Note dsniff is not working on docker, but arpspoof works!"
   ]
  },
  {
   "cell_type": "code",
   "execution_count": null,
   "id": "68e29078-1699-4579-a3f3-9592ad498015",
   "metadata": {},
   "outputs": [],
   "source": []
  }
 ],
 "metadata": {
  "kernelspec": {
   "display_name": "Python 3 (ipykernel)",
   "language": "python",
   "name": "python3"
  },
  "language_info": {
   "codemirror_mode": {
    "name": "ipython",
    "version": 3
   },
   "file_extension": ".py",
   "mimetype": "text/x-python",
   "name": "python",
   "nbconvert_exporter": "python",
   "pygments_lexer": "ipython3",
   "version": "3.12.2"
  }
 },
 "nbformat": 4,
 "nbformat_minor": 5
}
