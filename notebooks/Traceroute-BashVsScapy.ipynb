{
 "cells": [
  {
   "cell_type": "markdown",
   "metadata": {},
   "source": [
    "# Traceroute\n",
    "## Note: run jupyter with sudo jupyter notebook --allow-root for scapy to work \n",
    "https://scapy.readthedocs.io/en/latest/usage.html#simple-one-liners\n",
    "\n",
    "# doesn't give all the hops if using VM with NAT network"
   ]
  },
  {
   "cell_type": "markdown",
   "metadata": {},
   "source": [
    "## the bash way"
   ]
  },
  {
   "cell_type": "code",
   "execution_count": 1,
   "metadata": {},
   "outputs": [
    {
     "name": "stdout",
     "output_type": "stream",
     "text": [
      "traceroute to coloradomesa.edu (72.166.224.167), 30 hops max, 60 byte packets\n",
      " 1  everest2-4 (192.168.1.1)  2.899 ms  2.708 ms  2.871 ms\n",
      " 2  * * *\n",
      " 3  host-69-144-24-37.lar-wy.client.bresnan.net (69.144.24.37)  19.985 ms  19.818 ms  20.451 ms\n",
      " 4  ljnco001hb6-SO-0-2-0-U0.int.bresnan.net (69.146.239.102)  19.128 ms  18.115 ms  18.528 ms\n",
      " 5  host-69-144-130-131.bzm-mt.client.bresnan.net (69.144.130.131)  18.362 ms  18.476 ms  18.648 ms\n",
      " 6  host-69-145-185-226.static.bresnan.net (69.145.185.226)  31.477 ms  26.688 ms  26.774 ms\n",
      " 7  * * *\n",
      " 8  * * *\n",
      " 9  * * *\n",
      "10  * * *\n",
      "11  * * *\n",
      "12  * * *\n",
      "13  * * *\n",
      "14  * * *\n",
      "15  * * *\n",
      "16  * * *\n",
      "17  * * *\n",
      "18  * * *\n",
      "19  * * *\n",
      "20  * * *\n",
      "21  * * *\n",
      "22  * * *\n",
      "23  * * *\n",
      "24  * * *\n",
      "25  * * *\n",
      "26  * * *\n",
      "27  * * *\n",
      "28  * * *\n",
      "29  * * *\n",
      "30  * * *\n"
     ]
    }
   ],
   "source": [
    "# doesn't give all the hops if using VM with NAT network\n",
    "# use Bridge network for VM \n",
    "!traceroute coloradomesa.edu"
   ]
  },
  {
   "cell_type": "code",
   "execution_count": 2,
   "metadata": {},
   "outputs": [
    {
     "name": "stdout",
     "output_type": "stream",
     "text": [
      "Kernel IP routing table\r\n",
      "Destination     Gateway         Genmask         Flags Metric Ref    Use Iface\r\n",
      "0.0.0.0         192.168.195.2   0.0.0.0         UG    100    0        0 eth0\r\n",
      "192.168.195.0   0.0.0.0         255.255.255.0   U     100    0        0 eth0\r\n"
     ]
    }
   ],
   "source": [
    "! route -n "
   ]
  },
  {
   "cell_type": "markdown",
   "metadata": {},
   "source": [
    "##  the Scapy easy way"
   ]
  },
  {
   "cell_type": "code",
   "execution_count": 2,
   "metadata": {},
   "outputs": [],
   "source": [
    "# must run jupyter notebook using sudo\n",
    "from scapy.all import *"
   ]
  },
  {
   "cell_type": "code",
   "execution_count": 3,
   "metadata": {},
   "outputs": [
    {
     "name": "stdout",
     "output_type": "stream",
     "text": [
      "Help on function traceroute in module scapy.layers.inet:\n",
      "\n",
      "traceroute(target, dport=80, minttl=1, maxttl=30, sport=<RandShort>, l4=None, filter=None, timeout=2, verbose=None, **kargs)\n",
      "    Instant TCP traceroute\n",
      "    \n",
      "    :param target:  hostnames or IP addresses\n",
      "    :param dport:   TCP destination port (default is 80)\n",
      "    :param minttl:  minimum TTL (default is 1)\n",
      "    :param maxttl:  maximum TTL (default is 30)\n",
      "    :param sport:   TCP source port (default is random)\n",
      "    :param l4:      use a Scapy packet instead of TCP\n",
      "    :param filter:  BPF filter applied to received packets\n",
      "    :param timeout: time to wait for answers (default is 2s)\n",
      "    :param verbose: detailed output\n",
      "    :return: an TracerouteResult, and a list of unanswered packets\n",
      "\n"
     ]
    }
   ],
   "source": [
    "help(traceroute)"
   ]
  },
  {
   "cell_type": "markdown",
   "metadata": {},
   "source": [
    "## Scapy has its own routing table"
   ]
  },
  {
   "cell_type": "code",
   "execution_count": 4,
   "metadata": {},
   "outputs": [
    {
     "data": {
      "text/plain": [
       "Network      Netmask        Gateway      Iface  Output IP      Metric\n",
       "0.0.0.0      0.0.0.0        192.168.1.1  eth0   192.168.1.145  100\n",
       "127.0.0.0    255.0.0.0      0.0.0.0      lo     127.0.0.1      1\n",
       "192.168.1.0  255.255.255.0  0.0.0.0      eth0   192.168.1.145  100"
      ]
     },
     "execution_count": 4,
     "metadata": {},
     "output_type": "execute_result"
    }
   ],
   "source": [
    "conf.route"
   ]
  },
  {
   "cell_type": "code",
   "execution_count": 6,
   "metadata": {},
   "outputs": [
    {
     "name": "stdout",
     "output_type": "stream",
     "text": [
      "Begin emission:\n",
      "Finished sending 20 packets.\n",
      "\n",
      "Received 19 packets, got 19 answers, remaining 1 packets\n",
      "   216.58.193.68:tcp80 \n",
      "1  192.168.1.1     11  \n",
      "3  69.144.24.37    11  \n",
      "4  69.144.131.140  11  \n",
      "5  69.144.130.202  11  \n",
      "6  96.34.173.241   11  \n",
      "7  96.34.157.3     11  \n",
      "8  108.170.252.203 11  \n",
      "9  172.253.51.80   11  \n",
      "10 209.85.250.5    11  \n",
      "11 74.125.37.83    11  \n",
      "12 172.253.71.139  11  \n",
      "13 108.170.245.113 11  \n",
      "14 209.85.242.37   11  \n",
      "15 216.58.193.68   SA  \n",
      "16 216.58.193.68   SA  \n",
      "17 216.58.193.68   SA  \n",
      "18 216.58.193.68   SA  \n",
      "19 216.58.193.68   SA  \n",
      "20 216.58.193.68   SA  \n"
     ]
    },
    {
     "data": {
      "text/plain": [
       "(<Traceroute: TCP:6 UDP:0 ICMP:13 Other:0>,\n",
       " <Unanswered: TCP:1 UDP:0 ICMP:0 Other:0>)"
      ]
     },
     "execution_count": 6,
     "metadata": {},
     "output_type": "execute_result"
    }
   ],
   "source": [
    "traceroute(target=\"www.google.com\", maxttl=20)\n",
    "# Result shows TCP traceroute on default port 80 with (SA - Syn Ack flags)"
   ]
  },
  {
   "cell_type": "code",
   "execution_count": 7,
   "metadata": {},
   "outputs": [
    {
     "name": "stdout",
     "output_type": "stream",
     "text": [
      "Begin emission:\n",
      "Finished sending 20 packets.\n",
      "\n",
      "Received 19 packets, got 19 answers, remaining 1 packets\n",
      "   69.49.101.52:tcp80 \n",
      "1  192.168.1.1     11 \n",
      "3  69.144.24.37    11 \n",
      "4  69.144.131.140  11 \n",
      "5  69.144.130.202  11 \n",
      "6  96.34.0.2       11 \n",
      "7  96.34.0.178     11 \n",
      "8  96.34.3.39      11 \n",
      "9  206.81.80.217   11 \n",
      "10 64.230.125.232  11 \n",
      "11 64.230.79.93    11 \n",
      "12 64.230.79.68    11 \n",
      "13 64.230.134.106  11 \n",
      "14 207.35.61.54    11 \n",
      "15 216.55.188.77   11 \n",
      "16 69.49.101.52    SA \n",
      "17 69.49.101.52    SA \n",
      "18 69.49.101.52    SA \n",
      "19 69.49.101.52    SA \n",
      "20 69.49.101.52    SA \n"
     ]
    }
   ],
   "source": [
    "r2, unans = traceroute([\"www.voila.com\"], maxttl=20)"
   ]
  },
  {
   "cell_type": "code",
   "execution_count": 8,
   "metadata": {},
   "outputs": [
    {
     "name": "stdout",
     "output_type": "stream",
     "text": [
      "Begin emission:\n",
      "Finished sending 20 packets.\n",
      "\n",
      "Received 19 packets, got 19 answers, remaining 1 packets\n",
      "   172.217.14.206:tcp443 \n",
      "1  192.168.1.1     11    \n",
      "3  69.144.24.37    11    \n",
      "4  69.144.131.140  11    \n",
      "5  69.144.130.202  11    \n",
      "6  96.34.173.241   11    \n",
      "7  96.34.157.1     11    \n",
      "8  216.239.63.183  11    \n",
      "9  108.170.254.69  11    \n",
      "10 209.85.250.5    11    \n",
      "11 172.253.71.121  11    \n",
      "12 172.253.71.121  11    \n",
      "13 209.85.254.171  11    \n",
      "14 209.85.254.171  11    \n",
      "15 172.217.14.206  SA    \n",
      "16 172.217.14.206  SA    \n",
      "17 172.217.14.206  SA    \n",
      "18 172.217.14.206  SA    \n",
      "19 172.217.14.206  SA    \n",
      "20 172.217.14.206  SA    \n"
     ]
    },
    {
     "data": {
      "text/plain": [
       "(<Traceroute: TCP:6 UDP:0 ICMP:13 Other:0>,\n",
       " <Unanswered: TCP:1 UDP:0 ICMP:0 Other:0>)"
      ]
     },
     "execution_count": 8,
     "metadata": {},
     "output_type": "execute_result"
    }
   ],
   "source": [
    "traceroute('google.com', dport=443, maxttl=20)"
   ]
  },
  {
   "cell_type": "code",
   "execution_count": 9,
   "metadata": {},
   "outputs": [
    {
     "name": "stdout",
     "output_type": "stream",
     "text": [
      "Begin emission:\n",
      "Finished sending 200 packets.\n",
      "Begin emission:\n",
      "Finished sending 42 packets.\n",
      "Begin emission:\n",
      "Finished sending 41 packets.\n",
      "Begin emission:\n",
      "Finished sending 38 packets.\n",
      "Begin emission:\n",
      "Finished sending 38 packets.\n",
      "\n",
      "Received 164 packets, got 162 answers, remaining 38 packets\n",
      "   184.86.200.197:tcp443 184.86.200.197:tcp80 193.252.148.70:tcp443 193.252.148.70:tcp80 23.20.239.12:tcp443 23.20.239.12:tcp80 96.17.5.234:tcp443 96.17.5.234:tcp80  98.138.219.231:tcp443 98.138.219.231:tcp80 \n",
      "1  192.168.1.1     11    192.168.1.1     11   192.168.1.1     11    192.168.1.1     11   192.168.1.1     11  192.168.1.1     11 192.168.1.1     11 192.168.1.1     11 192.168.1.1     11    192.168.1.1     11   \n",
      "3  69.144.24.37    11    69.144.24.37    11   69.144.24.37    11    69.144.24.37    11   69.144.24.37    11  69.144.24.37    11 69.144.24.37    11 69.144.24.37    11 69.144.24.37    11    69.144.24.37    11   \n",
      "4  69.144.131.140  11    69.144.131.140  11   69.144.131.140  11    69.144.131.140  11   69.144.131.140  11  69.144.131.140  11 69.144.131.140  11 69.144.131.140  11 69.144.131.140  11    69.144.131.140  11   \n",
      "5  69.144.130.202  11    69.144.130.202  11   69.144.130.202  11    69.144.130.202  11   69.144.130.202  11  69.144.130.202  11 69.144.130.202  11 69.144.130.202  11 69.144.130.202  11    69.144.130.202  11   \n",
      "6  96.34.0.2       11    96.34.0.2       11   96.34.173.241   11    96.34.173.241   11   96.34.0.205     11  96.34.0.205     11 96.34.0.2       11 96.34.0.2       11 96.34.0.2       11    96.34.0.2       11   \n",
      "7  96.34.0.178     11    96.34.0.178     11   38.142.163.137  11    38.142.163.137  11   96.34.1.83      11  96.34.1.83      11 96.34.0.178     11 96.34.0.178     11 96.34.3.3       11    96.34.3.3       11   \n",
      "8  96.34.3.161     11    96.34.3.161     11   154.54.30.241   11    154.54.30.241   11   96.34.3.65      11  96.34.3.65      11 96.34.3.161     11 96.34.3.161     11 206.223.116.16  11    206.223.116.16  11   \n",
      "9  96.34.173.89    11    96.34.173.89    11   154.54.5.90     11    154.54.5.90     11   99.82.176.238   11  99.82.176.238   11 96.34.173.89    11 96.34.173.89    11 216.115.101.148 11    216.115.101.148 11   \n",
      "10 -                     -                    154.54.42.166   11    154.54.44.170   11   52.93.61.90     11  52.93.61.26     11 -                  -                  216.115.100.8   11    216.115.104.118 11   \n",
      "11 184.86.200.197  SA    184.86.200.197  SA   154.54.45.18    11    154.54.46.178   11   52.93.61.51     11  52.93.61.33     11 96.17.5.234     SA 96.17.5.234     SA 216.115.105.27  11    216.115.105.27  11   \n",
      "12 184.86.200.197  SA    184.86.200.197  SA   154.54.10.34    11    154.54.10.34    11   52.93.131.55    11  52.93.131.57    11 96.17.5.234     SA 96.17.5.234     SA 98.138.97.63    11    98.138.97.61    11   \n",
      "13 184.86.200.197  SA    184.86.200.197  SA   -                     -                    52.93.132.6     11  52.93.132.18    11 96.17.5.234     SA 96.17.5.234     SA 98.138.0.99     11    98.138.0.87     11   \n",
      "14 184.86.200.197  SA    184.86.200.197  SA   -                     -                    -                   -                  96.17.5.234     SA 96.17.5.234     SA 98.138.16.16    11    98.138.16.16    11   \n",
      "15 184.86.200.197  SA    184.86.200.197  SA   -                     -                    -                   -                  96.17.5.234     SA 96.17.5.234     SA 98.138.219.231  SA    98.138.219.231  SA   \n",
      "16 184.86.200.197  SA    184.86.200.197  SA   -                     -                    -                   -                  96.17.5.234     SA 96.17.5.234     SA 98.138.219.231  SA    98.138.219.231  SA   \n",
      "17 184.86.200.197  SA    184.86.200.197  SA   -                     -                    -                   -                  96.17.5.234     SA 96.17.5.234     SA 98.138.219.231  SA    98.138.219.231  SA   \n",
      "18 184.86.200.197  SA    184.86.200.197  SA   -                     -                    52.93.128.191   11  72.21.222.233   11 96.17.5.234     SA 96.17.5.234     SA 98.138.219.231  SA    98.138.219.231  SA   \n",
      "19 184.86.200.197  SA    184.86.200.197  SA   80.12.246.47    11    80.12.246.47    11   -                   -                  96.17.5.234     SA 96.17.5.234     SA 98.138.219.231  SA    98.138.219.231  SA   \n",
      "20 184.86.200.197  SA    184.86.200.197  SA   193.252.148.70  11    193.252.148.70  11   -                   -                  96.17.5.234     SA 96.17.5.234     SA 98.138.219.231  SA    98.138.219.231  SA   \n"
     ]
    }
   ],
   "source": [
    "res, unans = traceroute([\"www.microsoft.com\",\"www.cisco.com\",\"www.yahoo.com\",\"www.wanadoo.fr\",\"www.pacsec.com\"],dport=[80,443],maxttl=20,retry=-2)"
   ]
  },
  {
   "cell_type": "code",
   "execution_count": 12,
   "metadata": {
    "scrolled": true
   },
   "outputs": [],
   "source": [
    "res.graph(target=\"> tracegraph.svg\") # save to a file"
   ]
  },
  {
   "cell_type": "markdown",
   "metadata": {},
   "source": [
    "<img src=\"tracegraph.svg\">"
   ]
  },
  {
   "cell_type": "code",
   "execution_count": null,
   "metadata": {},
   "outputs": [],
   "source": []
  }
 ],
 "metadata": {
  "kernelspec": {
   "display_name": "Python 3 (ipykernel)",
   "language": "python",
   "name": "python3"
  },
  "language_info": {
   "codemirror_mode": {
    "name": "ipython",
    "version": 3
   },
   "file_extension": ".py",
   "mimetype": "text/x-python",
   "name": "python",
   "nbconvert_exporter": "python",
   "pygments_lexer": "ipython3",
   "version": "3.9.12"
  }
 },
 "nbformat": 4,
 "nbformat_minor": 2
}
